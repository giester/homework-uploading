{
  "nbformat": 4,
  "nbformat_minor": 0,
  "metadata": {
    "colab": {
      "provenance": [],
      "authorship_tag": "ABX9TyO09vjygFaY7BeSUMP/5AeK",
      "include_colab_link": true
    },
    "kernelspec": {
      "name": "python3",
      "display_name": "Python 3"
    },
    "language_info": {
      "name": "python"
    }
  },
  "cells": [
    {
      "cell_type": "markdown",
      "metadata": {
        "id": "view-in-github",
        "colab_type": "text"
      },
      "source": [
        "<a href=\"https://colab.research.google.com/github/giester/homework-uploading/blob/main/homeworkchapter_9.ipynb\" target=\"_parent\"><img src=\"https://colab.research.google.com/assets/colab-badge.svg\" alt=\"Open In Colab\"/></a>"
      ]
    },
    {
      "cell_type": "markdown",
      "source": [
        "9-5"
      ],
      "metadata": {
        "id": "9Pg4hqurE2Fd"
      }
    },
    {
      "cell_type": "code",
      "execution_count": 1,
      "metadata": {
        "colab": {
          "base_uri": "https://localhost:8080/"
        },
        "id": "ORQzmRA_Dk0l",
        "outputId": "94d67f1d-9973-4690-e9bb-5f320f14bd0b"
      },
      "outputs": [
        {
          "output_type": "stream",
          "name": "stdout",
          "text": [
            "두 수를 입력하세요: 1 2\n",
            "결과: 3\n",
            "두 수를 입력하세요: 3 4\n",
            "결과: 7\n",
            "a_list: [200, 300, 400]\n",
            "인덱스를 입력하세요(0, 1, 2 중 선택): 1\n",
            "결과: 300\n",
            "파일 이름을 입력하세요: 사랑해요\n",
            "해당 파일을 찾을 수 없습니다.\n"
          ]
        }
      ],
      "source": [
        "# (1)\n",
        "try:\n",
        "    a, b = input(\"두 수를 입력하세요: \").split()\n",
        "    result = int(a) + int(b)\n",
        "except ValueError:\n",
        "    print(\"입력값이 올바르지 않습니다. 숫자를 입력하세요.\")\n",
        "else:\n",
        "    print(f\"결과: {result}\")\n",
        "\n",
        "# (2)\n",
        "try:\n",
        "    a, b = input(\"두 수를 입력하세요: \").split()\n",
        "    result = int(a) + int(b)\n",
        "except ValueError:\n",
        "    print(\"입력값이 올바르지 않습니다. 숫자를 입력하세요.\")\n",
        "else:\n",
        "    print(f\"결과: {result}\")\n",
        "\n",
        "# (3)\n",
        "a_list = [200, 300, 400]\n",
        "print(\"a_list:\", a_list)\n",
        "try:\n",
        "    idx = int(input(\"인덱스를 입력하세요(0, 1, 2 중 선택): \"))\n",
        "    result = a_list[idx]\n",
        "except IndexError:\n",
        "    print(\"인덱스가 범위를 초과했습니다.\")\n",
        "except ValueError:\n",
        "    print(\"유효한 숫자를 입력하세요.\")\n",
        "else:\n",
        "    print(f\"결과: {result}\")\n",
        "\n",
        "# (4)\n",
        "try:\n",
        "    f_name = input(\"파일 이름을 입력하세요: \")\n",
        "    in_file = open(f_name, 'r')\n",
        "    buf = in_file.readline()\n",
        "    print(buf)\n",
        "except FileNotFoundError:\n",
        "    print(\"해당 파일을 찾을 수 없습니다.\")\n",
        "except Exception as e:\n",
        "    print(f\"오류 발생: {e}\")\n",
        "else:\n",
        "    in_file.close()\n"
      ]
    },
    {
      "cell_type": "markdown",
      "source": [
        "9-5"
      ],
      "metadata": {
        "id": "TOYAGctiE0-m"
      }
    },
    {
      "cell_type": "code",
      "source": [
        "with open('number1to10.txt', 'w') as file:\n",
        "\n",
        "    for i in range(1, 11):\n",
        "        file.write(f\"{i}\\n\")\n",
        "\n",
        "print(\"number1to10.txt 파일에 1부터 10까지의 숫자를 저장했습니다.\")"
      ],
      "metadata": {
        "colab": {
          "base_uri": "https://localhost:8080/"
        },
        "id": "dM9_aRHlE00l",
        "outputId": "88c581aa-346a-4dbe-d005-5bd711184e20"
      },
      "execution_count": 2,
      "outputs": [
        {
          "output_type": "stream",
          "name": "stdout",
          "text": [
            "number1to10.txt 파일에 1부터 10까지의 숫자를 저장했습니다.\n"
          ]
        }
      ]
    },
    {
      "cell_type": "markdown",
      "source": [
        "9-9"
      ],
      "metadata": {
        "id": "DkA1FVU5Fj6U"
      }
    },
    {
      "cell_type": "code",
      "source": [
        "with open('coord.txt', 'r') as file:\n",
        "    lines = file.readlines()\n",
        "\n",
        "for line in lines:\n",
        "    x, y = map(int, line.split())\n",
        "    if x < y:\n",
        "        difference = y - x\n",
        "        print(f\"x({x})가 y({y})보다 작습니다. 차이: {difference}\")\n",
        "    elif x > y:\n",
        "        difference = x - y\n",
        "        print(f\"x({x})가 y({y})보다 큽니다. 차이: {difference}\")\n",
        "    else:\n",
        "        print(f\"x({x})와 y({y})가 같습니다. 차이: 0\")"
      ],
      "metadata": {
        "id": "YYgLLEoiGO9o"
      },
      "execution_count": null,
      "outputs": []
    }
  ]
}