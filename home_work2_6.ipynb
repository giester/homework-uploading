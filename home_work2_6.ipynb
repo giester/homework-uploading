{
  "nbformat": 4,
  "nbformat_minor": 0,
  "metadata": {
    "colab": {
      "provenance": [],
      "authorship_tag": "ABX9TyMvNVN4nnyYBV9KhMzYVEMi",
      "include_colab_link": true
    },
    "kernelspec": {
      "name": "python3",
      "display_name": "Python 3"
    },
    "language_info": {
      "name": "python"
    }
  },
  "cells": [
    {
      "cell_type": "markdown",
      "metadata": {
        "id": "view-in-github",
        "colab_type": "text"
      },
      "source": [
        "<a href=\"https://colab.research.google.com/github/giester/homework-uploading/blob/main/home_work2_3.ipynb\" target=\"_parent\"><img src=\"https://colab.research.google.com/assets/colab-badge.svg\" alt=\"Open In Colab\"/></a>"
      ]
    },
    {
      "cell_type": "markdown",
      "source": [
        "LAB 2-6 : 변수 값의 재지정"
      ],
      "metadata": {
        "id": "NuLvZnrBRZ1Z"
      }
    },
    {
      "cell_type": "code",
      "execution_count": 1,
      "metadata": {
        "colab": {
          "base_uri": "https://localhost:8080/"
        },
        "id": "evdI5BwhRYgc",
        "outputId": "92e6d83a-567c-478b-b3bc-475100ffaec9"
      },
      "outputs": [
        {
          "output_type": "stream",
          "name": "stdout",
          "text": [
            "사각형의 면적 1200\n"
          ]
        }
      ],
      "source": [
        "width = 20\n",
        "height = 40\n",
        "width = 30\n",
        "area = width * height\n",
        "print('사각형의 면적', area)"
      ]
    }
  ]
}
