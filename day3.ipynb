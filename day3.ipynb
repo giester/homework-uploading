{
  "nbformat": 4,
  "nbformat_minor": 0,
  "metadata": {
    "colab": {
      "provenance": [],
      "authorship_tag": "ABX9TyPxVXHn0DwwS3TWSJDJ6CzO",
      "include_colab_link": true
    },
    "kernelspec": {
      "name": "python3",
      "display_name": "Python 3"
    },
    "language_info": {
      "name": "python"
    }
  },
  "cells": [
    {
      "cell_type": "markdown",
      "metadata": {
        "id": "view-in-github",
        "colab_type": "text"
      },
      "source": [
        "<a href=\"https://colab.research.google.com/github/giester/homework-uploading/blob/main/day3.ipynb\" target=\"_parent\"><img src=\"https://colab.research.google.com/assets/colab-badge.svg\" alt=\"Open In Colab\"/></a>"
      ]
    },
    {
      "cell_type": "markdown",
      "source": [
        "객체지향  변수 my_height 와 같은 문자열 형 변수에 숫자1을 더하는 연산이 불가능"
      ],
      "metadata": {
        "id": "gxykSES3DoEK"
      }
    },
    {
      "cell_type": "markdown",
      "source": [
        "코드 2-7 : 문자열과 정수의 덧셈연산"
      ],
      "metadata": {
        "id": "Gg4Hv75nD8iz"
      }
    },
    {
      "cell_type": "code",
      "execution_count": null,
      "metadata": {
        "id": "hui36RivCVIk"
      },
      "outputs": [],
      "source": [
        "my_age = 22\n",
        "my_height = '177'\n",
        "my_age = my_age + 1\n",
        "~~~"
      ]
    },
    {
      "cell_type": "markdown",
      "source": [
        "• 정수나 실수 사이에는 덧셈, 뺄셈, 곱셈, 나눗셈의 사칙연산이\n",
        "잘 적용됨\n"
      ],
      "metadata": {
        "id": "bCihxCVIEEfo"
      }
    },
    {
      "cell_type": "code",
      "source": [
        "4 ** 0.2"
      ],
      "metadata": {
        "colab": {
          "base_uri": "https://localhost:8080/"
        },
        "id": "SQPG4qXlD31W",
        "outputId": "05723158-59ac-4208-90fd-babf1ecc37ba"
      },
      "execution_count": 7,
      "outputs": [
        {
          "output_type": "execute_result",
          "data": {
            "text/plain": [
              "1.3195079107728942"
            ]
          },
          "metadata": {},
          "execution_count": 7
        }
      ]
    },
    {
      "cell_type": "code",
      "source": [
        "0.2 ** 4"
      ],
      "metadata": {
        "colab": {
          "base_uri": "https://localhost:8080/"
        },
        "id": "v8KKbEObErwU",
        "outputId": "2f9e4e5d-5cb6-44fb-b3c1-5638ea8128ca"
      },
      "execution_count": 8,
      "outputs": [
        {
          "output_type": "execute_result",
          "data": {
            "text/plain": [
              "0.0016000000000000003"
            ]
          },
          "metadata": {},
          "execution_count": 8
        }
      ]
    },
    {
      "cell_type": "markdown",
      "source": [
        "str()함수를"
      ],
      "metadata": {
        "id": "YxCi0Zo5HKyZ"
      }
    },
    {
      "cell_type": "code",
      "source": [
        "my_age = input('how old are you')\n",
        "print(my_age)\n",
        "print(type(my_age))"
      ],
      "metadata": {
        "colab": {
          "base_uri": "https://localhost:8080/"
        },
        "id": "L2xUJDu3Fukr",
        "outputId": "6e27f909-c5db-4a17-d679-fb45b362d0b1"
      },
      "execution_count": 10,
      "outputs": [
        {
          "output_type": "stream",
          "name": "stdout",
          "text": [
            "how old are you16\n",
            "16\n",
            "<class 'str'>\n"
          ]
        }
      ]
    },
    {
      "cell_type": "markdown",
      "source": [
        " int()함수로 바꿈"
      ],
      "metadata": {
        "id": "5vdajX9NHOde"
      }
    },
    {
      "cell_type": "code",
      "source": [
        "my_age = int(input('how old are you'))\n",
        "print(my_age)\n",
        "print(type(my_age))"
      ],
      "metadata": {
        "colab": {
          "base_uri": "https://localhost:8080/"
        },
        "id": "XCWoY_6lHERr",
        "outputId": "f8a303f9-7e1e-4097-c8e8-8ff19bf83abf"
      },
      "execution_count": 11,
      "outputs": [
        {
          "output_type": "stream",
          "name": "stdout",
          "text": [
            "how old are you11\n",
            "11\n",
            "<class 'int'>\n"
          ]
        }
      ]
    },
    {
      "cell_type": "markdown",
      "source": [
        "엔터 공란을 컴퓨터는 이해하지 못하므로 다음줄을 넘길때는 \\n 문자를 삽입한다"
      ],
      "metadata": {
        "id": "QdS4eBSqIW4E"
      }
    },
    {
      "cell_type": "code",
      "source": [
        "txt5 = 'banana \\n napple \\n norange'\n",
        "txt5\n",
        "print(txt5)"
      ],
      "metadata": {
        "colab": {
          "base_uri": "https://localhost:8080/"
        },
        "id": "F_-UKvQtIiXl",
        "outputId": "9d44b75e-c172-4ba0-bf96-85714cacc4a8"
      },
      "execution_count": 13,
      "outputs": [
        {
          "output_type": "stream",
          "name": "stdout",
          "text": [
            "banana \t napple \n",
            " norange\n"
          ]
        }
      ]
    },
    {
      "cell_type": "markdown",
      "source": [
        "/t  는  TAP 역할을 한다"
      ],
      "metadata": {
        "id": "m_6SFIKiI8_G"
      }
    },
    {
      "cell_type": "code",
      "source": [
        "txt5 = 'banana \\t napple \\t norange'\n",
        "txt5\n",
        "print(txt5)"
      ],
      "metadata": {
        "colab": {
          "base_uri": "https://localhost:8080/"
        },
        "id": "BvN7eYDmI6br",
        "outputId": "fde98957-c457-4353-82a2-f86609d208b7"
      },
      "execution_count": 14,
      "outputs": [
        {
          "output_type": "stream",
          "name": "stdout",
          "text": [
            "banana \t napple \t norange\n"
          ]
        }
      ]
    },
    {
      "cell_type": "markdown",
      "source": [
        "대화창 실습 : 자료형과 연산자 실습\n"
      ],
      "metadata": {
        "id": "WcZFKpxmKe6E"
      }
    },
    {
      "cell_type": "code",
      "source": [
        "print(1 + 2)\n",
        "print(1.0 + 2.0)\n",
        "print(1 + 2.0)\n",
        "print(1/2)\n",
        "print(5.0 == 5.00)"
      ],
      "metadata": {
        "colab": {
          "base_uri": "https://localhost:8080/"
        },
        "id": "bKyol719Jv0G",
        "outputId": "36d9c2fb-825d-4fde-ef76-cdc9a84816fc"
      },
      "execution_count": 19,
      "outputs": [
        {
          "output_type": "stream",
          "name": "stdout",
          "text": [
            "3\n",
            "3.0\n",
            "3.0\n",
            "0.5\n",
            "True\n"
          ]
        }
      ]
    },
    {
      "cell_type": "markdown",
      "source": [
        "• 허수의 표현에 ‘i’를 사용하면 오류가 발생\n",
        "•\n",
        "‘j’를 사용해야 복소수 표현이 가능"
      ],
      "metadata": {
        "id": "YCdh1WvPKrYO"
      }
    },
    {
      "cell_type": "code",
      "source": [
        "from binascii import crc32\n",
        "c1 = 2 + 3j\n",
        "c2 = 1 - 1j\n",
        "c3 = c1 * c2\n",
        "print(c3)"
      ],
      "metadata": {
        "colab": {
          "base_uri": "https://localhost:8080/"
        },
        "id": "JHrSfQKMKnXl",
        "outputId": "f26d4e25-9079-44d3-d1b6-d0087b4f9037"
      },
      "execution_count": 26,
      "outputs": [
        {
          "output_type": "stream",
          "name": "stdout",
          "text": [
            "(5+1j)\n"
          ]
        }
      ]
    },
    {
      "cell_type": "markdown",
      "source": [
        "논리연산자"
      ],
      "metadata": {
        "id": "YuU8Z2_fM4Dt"
      }
    },
    {
      "cell_type": "code",
      "source": [
        "10 > 20\n",
        "10< 20\n",
        "bool(9)"
      ],
      "metadata": {
        "colab": {
          "base_uri": "https://localhost:8080/"
        },
        "id": "uZ0E4RUzM5Ij",
        "outputId": "dd2b7499-a566-4928-ecd5-4052975c03eb"
      },
      "execution_count": 27,
      "outputs": [
        {
          "output_type": "execute_result",
          "data": {
            "text/plain": [
              "True"
            ]
          },
          "metadata": {},
          "execution_count": 27
        }
      ]
    },
    {
      "cell_type": "code",
      "source": [
        "a = True\n",
        "b = False\n",
        "print(a and b)\n",
        "print(a or b)\n",
        "print(not a)"
      ],
      "metadata": {
        "colab": {
          "base_uri": "https://localhost:8080/"
        },
        "id": "ZqEYPVTNM_D0",
        "outputId": "e0bf224c-54fe-4cbb-9a69-f31e178f5345"
      },
      "execution_count": 34,
      "outputs": [
        {
          "output_type": "stream",
          "name": "stdout",
          "text": [
            "False\n",
            "True\n",
            "False\n"
          ]
        }
      ]
    },
    {
      "cell_type": "code",
      "source": [
        "a = 3\n",
        "b = 4\n",
        "print(a&b)\n",
        "print(a | b)"
      ],
      "metadata": {
        "colab": {
          "base_uri": "https://localhost:8080/"
        },
        "id": "LjPk_2cRQrPD",
        "outputId": "ae3dbd18-7383-4f69-d90c-bfd1e79b8851"
      },
      "execution_count": 37,
      "outputs": [
        {
          "output_type": "stream",
          "name": "stdout",
          "text": [
            "0\n",
            "7\n"
          ]
        }
      ]
    },
    {
      "cell_type": "markdown",
      "source": [
        "3장"
      ],
      "metadata": {
        "id": "BeZjrVopYJD-"
      }
    },
    {
      "cell_type": "code",
      "source": [
        "age = int(input('how old are you'))\n",
        "if age <= 19:\n",
        "    print('청소년 할인')\n",
        "\n",
        "    print('출구는 이쪽입니다.')"
      ],
      "metadata": {
        "colab": {
          "base_uri": "https://localhost:8080/"
        },
        "id": "nSJqv75YVcWV",
        "outputId": "c9c4422f-1ab5-4912-b78b-07e4e0bb8473"
      },
      "execution_count": 46,
      "outputs": [
        {
          "output_type": "stream",
          "name": "stdout",
          "text": [
            "how old are you16\n",
            "청소년 할인\n",
            "출구는 이쪽입니다.\n"
          ]
        }
      ]
    },
    {
      "cell_type": "markdown",
      "source": [
        "else 문"
      ],
      "metadata": {
        "id": "lsXjECGyZKxc"
      }
    },
    {
      "cell_type": "code",
      "source": [
        "hour = 10\n",
        "\n",
        "time = int(input('몇시 입니까?'))\n",
        "if hour < 12:\n",
        "    print('오전입니다.')\n",
        "else:\n",
        "    print('오후입니다.')"
      ],
      "metadata": {
        "colab": {
          "base_uri": "https://localhost:8080/"
        },
        "id": "OQEaw86OYTmR",
        "outputId": "78ff1211-2844-4d41-9769-81bf02f77cf1"
      },
      "execution_count": 48,
      "outputs": [
        {
          "output_type": "stream",
          "name": "stdout",
          "text": [
            "몇시 입니까?12\n",
            "오전입니다.\n"
          ]
        }
      ]
    }
  ]
}