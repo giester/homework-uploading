{
  "nbformat": 4,
  "nbformat_minor": 0,
  "metadata": {
    "colab": {
      "provenance": [],
      "authorship_tag": "ABX9TyMVcgdXb3blr3R7a0EYk3e5",
      "include_colab_link": true
    },
    "kernelspec": {
      "name": "python3",
      "display_name": "Python 3"
    },
    "language_info": {
      "name": "python"
    }
  },
  "cells": [
    {
      "cell_type": "markdown",
      "metadata": {
        "id": "view-in-github",
        "colab_type": "text"
      },
      "source": [
        "<a href=\"https://colab.research.google.com/github/giester/homework-uploading/blob/main/home_work_2_1.ipynb\" target=\"_parent\"><img src=\"https://colab.research.google.com/assets/colab-badge.svg\" alt=\"Open In Colab\"/></a>"
      ]
    },
    {
      "cell_type": "markdown",
      "source": [
        "LAB 2-1 : 대화식 모드에서 출력하기"
      ],
      "metadata": {
        "id": "Ip750LkAQ16A"
      }
    },
    {
      "cell_type": "code",
      "execution_count": 1,
      "metadata": {
        "colab": {
          "base_uri": "https://localhost:8080/"
        },
        "id": "ysHihm-ZQxmI",
        "outputId": "9b156480-2029-459d-d95e-85ed2f84e084"
      },
      "outputs": [
        {
          "output_type": "stream",
          "name": "stdout",
          "text": [
            "나의 이름은 : 윤상현\n",
            "나의 나이는 : 26\n",
            "나의 키는 : 170 cm입니다.\n",
            "10 + 20 = 30\n",
            "10 * 20 = 200\n"
          ]
        }
      ],
      "source": [
        "print('나의 이름은 :', '윤상현')\n",
        "\n",
        "print('나의 나이는 :', '26')\n",
        "\n",
        "print('나의 키는 :', 170, 'cm입니다.')\n",
        "\n",
        "print('10 + 20 =', 10 + 20)\n",
        "\n",
        "print('10 * 20 =', 10 * 20)"
      ]
    }
  ]
}