{
  "nbformat": 4,
  "nbformat_minor": 0,
  "metadata": {
    "colab": {
      "provenance": [],
      "authorship_tag": "ABX9TyOVzTULl5peGgdosTRCYq9i",
      "include_colab_link": true
    },
    "kernelspec": {
      "name": "python3",
      "display_name": "Python 3"
    },
    "language_info": {
      "name": "python"
    }
  },
  "cells": [
    {
      "cell_type": "markdown",
      "metadata": {
        "id": "view-in-github",
        "colab_type": "text"
      },
      "source": [
        "<a href=\"https://colab.research.google.com/github/giester/homework-uploading/blob/main/home_work2_2.ipynb\" target=\"_parent\"><img src=\"https://colab.research.google.com/assets/colab-badge.svg\" alt=\"Open In Colab\"/></a>"
      ]
    },
    {
      "cell_type": "markdown",
      "source": [
        "LAB 2-4 : 코드를 입력해 보고 그 출력결과를 밑줄 부분에 적으시오"
      ],
      "metadata": {
        "id": "GR78P_YeRGax"
      }
    },
    {
      "cell_type": "code",
      "execution_count": 1,
      "metadata": {
        "colab": {
          "base_uri": "https://localhost:8080/"
        },
        "id": "p8ZTfmE7RCQt",
        "outputId": "e7762e4a-7b98-45bb-ae63-6268b0d39055"
      },
      "outputs": [
        {
          "output_type": "stream",
          "name": "stdout",
          "text": [
            "나의 이름은: 윤상현\n",
            " 나의 나이는 : 26\n",
            "나의 키는 170 cm 입니다.\n",
            "10 + 20 = 30\n",
            "10 * 20= 200\n"
          ]
        }
      ],
      "source": [
        "name = '윤상현'\n",
        "print('나의 이름은:', name)\n",
        "\n",
        "age = 26\n",
        "print(' 나의 나이는 :', age)\n",
        "\n",
        "height = 170\n",
        "print('나의 키는', height, 'cm 입니다.')\n",
        "\n",
        "sum = 10 + 20\n",
        "print('10 + 20 =', sum)\n",
        "\n",
        "mult = 10 * 20\n",
        "print('10 * 20=', mult)"
      ]
    }
  ]
}
