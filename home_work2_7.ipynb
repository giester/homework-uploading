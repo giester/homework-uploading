{
  "nbformat": 4,
  "nbformat_minor": 0,
  "metadata": {
    "colab": {
      "provenance": [],
      "authorship_tag": "ABX9TyNHpgJQgfVfm76ZJDMOjcPU",
      "include_colab_link": true
    },
    "kernelspec": {
      "name": "python3",
      "display_name": "Python 3"
    },
    "language_info": {
      "name": "python"
    }
  },
  "cells": [
    {
      "cell_type": "markdown",
      "metadata": {
        "id": "view-in-github",
        "colab_type": "text"
      },
      "source": [
        "<a href=\"https://colab.research.google.com/github/giester/homework-uploading/blob/main/home_work2_7.ipynb\" target=\"_parent\"><img src=\"https://colab.research.google.com/assets/colab-badge.svg\" alt=\"Open In Colab\"/></a>"
      ]
    },
    {
      "cell_type": "markdown",
      "source": [
        "LAB 2-7 : 파이썬 연산자의 사용"
      ],
      "metadata": {
        "id": "ejxBSez5Rsna"
      }
    },
    {
      "cell_type": "code",
      "execution_count": 1,
      "metadata": {
        "colab": {
          "base_uri": "https://localhost:8080/"
        },
        "id": "lV-_HNdnRsIi",
        "outputId": "28da67f5-f585-4672-c430-364d9d192508"
      },
      "outputs": [
        {
          "output_type": "stream",
          "name": "stdout",
          "text": [
            "56088\n",
            "3825\n",
            "625\n",
            "2.5\n",
            "2\n",
            "0\n"
          ]
        }
      ],
      "source": [
        "print(123 * 456)\n",
        "print(1357 + 2468)\n",
        "print(5 ** 4)\n",
        "print(10 / 4)\n",
        "print(10 // 5)\n",
        "print(10 % 5)"
      ]
    }
  ]
}