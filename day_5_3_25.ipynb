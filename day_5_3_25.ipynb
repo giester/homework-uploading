{
  "nbformat": 4,
  "nbformat_minor": 0,
  "metadata": {
    "colab": {
      "provenance": [],
      "authorship_tag": "ABX9TyM3SkUANO1CqXAubRsqvvoB",
      "include_colab_link": true
    },
    "kernelspec": {
      "name": "python3",
      "display_name": "Python 3"
    },
    "language_info": {
      "name": "python"
    }
  },
  "cells": [
    {
      "cell_type": "markdown",
      "metadata": {
        "id": "view-in-github",
        "colab_type": "text"
      },
      "source": [
        "<a href=\"https://colab.research.google.com/github/giester/homework-uploading/blob/main/day_5_3_25.ipynb\" target=\"_parent\"><img src=\"https://colab.research.google.com/assets/colab-badge.svg\" alt=\"Open In Colab\"/></a>"
      ]
    },
    {
      "cell_type": "code",
      "execution_count": null,
      "metadata": {
        "id": "3tF-d_jzrlw_"
      },
      "outputs": [],
      "source": [
        "#수정본 #정답 해설본\n",
        "a, b = 1, 1\n",
        "for i in range(101):\n",
        "  tmp =a  #a 값을 저장 하는 변수\n",
        "  a = b\n",
        "  b= tmp+b\n",
        "  print('{}th Pib. Number is {}'.format(i+1, b))"
      ]
    },
    {
      "cell_type": "markdown",
      "source": [
        "소수 판별코드"
      ],
      "metadata": {
        "id": "a2SIuP1nxAYL"
      }
    },
    {
      "cell_type": "code",
      "source": [
        "n = int(input(\"insert a number: \"))\n",
        "is_prime = True\n",
        "for i in range(2,n):\n",
        "  if(n % i == 0):\n",
        "    is_prime = False\n",
        "if (is_prime):\n",
        "  print(n,\"is a prime\")\n",
        "else :\n",
        "  print(n, \"is not a prime\")"
      ],
      "metadata": {
        "colab": {
          "base_uri": "https://localhost:8080/"
        },
        "id": "X0J2LNufwW4P",
        "outputId": "83a0b8e8-f2d5-4df3-9b47-864efd0efdc0"
      },
      "execution_count": 31,
      "outputs": [
        {
          "output_type": "stream",
          "name": "stdout",
          "text": [
            "insert a number: 2\n",
            "2 is a prime\n"
          ]
        }
      ]
    },
    {
      "cell_type": "markdown",
      "source": [
        "소수인지 아닌지 numbers 도입"
      ],
      "metadata": {
        "id": "nKjZZOqPyjip"
      }
    },
    {
      "cell_type": "code",
      "source": [
        "numbers = [4, 7, 9 ,11, 29]  #줄 맞춤 들여쓰기 잘해야함   안하니 오류남    #지금결과 이상함\n",
        "\n",
        "for n in numbers:\n",
        "  is_prime = True\n",
        "  for i in range(2,n):\n",
        "    if(n % i == 0):\n",
        "     is_prime = False\n",
        "  if (is_prime):\n",
        "   print(n,\"is a prime\")\n",
        "else :\n",
        "  print(n, \"is not a prime\")"
      ],
      "metadata": {
        "colab": {
          "base_uri": "https://localhost:8080/"
        },
        "id": "tngJkS0BynRD",
        "outputId": "ec540f19-0e59-463f-d7b4-ccd5ed3df44d"
      },
      "execution_count": 46,
      "outputs": [
        {
          "output_type": "stream",
          "name": "stdout",
          "text": [
            "7 is a prime\n",
            "11 is a prime\n",
            "29 is a prime\n",
            "29 is not a prime\n"
          ]
        }
      ]
    },
    {
      "cell_type": "code",
      "source": [
        "numbers = [4, 7, 9 ,11, 29]  #위 코드 들여쓰기 수정버전\n",
        "\n",
        "for n in numbers:\n",
        "    is_prime = True # Indented this line\n",
        "    for i in range(2,n):\n",
        "        if(n % i == 0): # Indented this line\n",
        "            is_prime = False # Indented this line\n",
        "    if (is_prime): # Indented this line\n",
        "        print(n,\"is a prime\") # Indented this line\n",
        "    else : # Indented this line\n",
        "        print(n, \"is not a prime\") # Indented this line"
      ],
      "metadata": {
        "colab": {
          "base_uri": "https://localhost:8080/"
        },
        "id": "hegTdzWdy8Wx",
        "outputId": "4c165c36-e3cc-4b36-d434-4e422b8d81c9"
      },
      "execution_count": 24,
      "outputs": [
        {
          "output_type": "stream",
          "name": "stdout",
          "text": [
            "4 is not a prime\n",
            "7 is a prime\n",
            "9 is not a prime\n",
            "11 is a prime\n",
            "29 is a prime\n"
          ]
        }
      ]
    },
    {
      "cell_type": "code",
      "source": [
        "numbers = [4, 7, 9 ,11, 29]   #교수님 코드\n",
        "#is_prime=True   여기에 넣으면  4의 값이 나머지 값에 도입되어 재순환되어 값이 고정되어있는데\n",
        "for n in numbers:\n",
        "  is_prime=True     #루프로 돌때 마다 초기화가 된다\n",
        "  for num in range(2,n):\n",
        "    if n%num==0:\n",
        "      is_prime=False\n",
        "      break\n",
        "  if (is_prime):\n",
        "    print(n,\"is a prime\")\n",
        "  else:\n",
        "     print(n, \"is not a prime\")"
      ],
      "metadata": {
        "colab": {
          "base_uri": "https://localhost:8080/"
        },
        "id": "oqELF-XzzwKB",
        "outputId": "21b270a2-70b7-48f5-ebc7-ff13dd5b76dd"
      },
      "execution_count": 45,
      "outputs": [
        {
          "output_type": "stream",
          "name": "stdout",
          "text": [
            "4 is not a prime\n",
            "7 is a prime\n",
            "9 is not a prime\n",
            "11 is a prime\n",
            "29 is a prime\n"
          ]
        }
      ]
    },
    {
      "cell_type": "code",
      "source": [
        "primes = [4, 7, 9 ,11, 29]  #마지막 29계속 나오는거 고쳐야함\n",
        "for num in range(2,n):\n",
        "      is_prime=True\n",
        "      for num in range(2,n):\n",
        "           if n%num == 0:\n",
        "            is_prime=False\n",
        "\n",
        "      if (is_prime):\n",
        "          primes.append(n) #값을 옆으로 계속 붙임\n",
        "\n",
        "print(primes)"
      ],
      "metadata": {
        "colab": {
          "base_uri": "https://localhost:8080/"
        },
        "id": "Jt6jxDBB6eoB",
        "outputId": "1c023aa6-678d-4a38-8d4b-661b0d01f96b"
      },
      "execution_count": 56,
      "outputs": [
        {
          "output_type": "stream",
          "name": "stdout",
          "text": [
            "[29, 29, 29, 29, 29, 29, 29, 29, 29, 29, 29, 29, 29, 29, 29, 29, 29, 29, 29, 29, 29, 29, 29, 29, 29, 29, 29]\n"
          ]
        }
      ]
    },
    {
      "cell_type": "markdown",
      "source": [
        "while 문"
      ],
      "metadata": {
        "id": "Qa1xTIhG8PYv"
      }
    },
    {
      "cell_type": "code",
      "source": [
        "i = 0\n",
        "while i < 5 :\n",
        "  print('welcome to everyone!!')\n",
        "  i+=1 #이거 없으면 무한 루프"
      ],
      "metadata": {
        "colab": {
          "base_uri": "https://localhost:8080/"
        },
        "id": "qnMd5aCk9LGA",
        "outputId": "131d0b55-5da1-4ed3-e6ba-4147556b206b"
      },
      "execution_count": 59,
      "outputs": [
        {
          "output_type": "stream",
          "name": "stdout",
          "text": [
            "welcome to everyone!!\n",
            "welcome to everyone!!\n",
            "welcome to everyone!!\n",
            "welcome to everyone!!\n",
            "welcome to everyone!!\n"
          ]
        }
      ]
    },
    {
      "cell_type": "markdown",
      "source": [
        "시험문제 일수도?  코드가 몇번 반복되나  for 일때 while 일때"
      ],
      "metadata": {
        "id": "vTI4dIJD9x0G"
      }
    },
    {
      "cell_type": "code",
      "source": [
        "코드 3-44\t:\tfor\t문을 이용한 'Welcome\tto\teveryone!!'의 반복 출력기능\n",
        "print_welcome_with_for.py\n",
        "for i in range(5):\n",
        "print('Welcome to everyone!!')\n",
        "\n",
        "코드 3-45\t:\twhile\t문을 이용한 'Welcome\tto\teveryone!!'의 반복 출력기능\n",
        "print_welcome_with_while.py\n",
        "i = 0 # 초기 값\n",
        "while i < 5: # 루프의 조건식이 참이면 내부 블록이 실행됨\n",
        "print('Welcome to everyone!!')\n",
        "i += 1 # 조건 값의 변경\n",
        "#시험문제예상\n",
        "i = 0\n",
        "while i<10\n",
        "  print(i)\n",
        "  i+=2   #0포함 8까지 5번 돔"
      ],
      "metadata": {
        "id": "IMc2zald9wMH"
      },
      "execution_count": null,
      "outputs": []
    },
    {
      "cell_type": "code",
      "source": [
        "selected = None\n",
        "while selected not in ['가위', '바위', '보']:  #not으로 인해 정해진 문구가 아니면 false로 되어 반복됨\n",
        "  selected = input('가위, 바위, 보 중에서 선택하세요> ')\n",
        "print('선택한 값은:', selected)"
      ],
      "metadata": {
        "colab": {
          "base_uri": "https://localhost:8080/"
        },
        "id": "Vq30o_rW_dfN",
        "outputId": "7e055d6a-3601-43d2-de00-b424503ec451"
      },
      "execution_count": 64,
      "outputs": [
        {
          "output_type": "stream",
          "name": "stdout",
          "text": [
            "가위, 바위, 보 중에서 선택하세요> 보보\n",
            "가위, 바위, 보 중에서 선택하세요> 보\n",
            "선택한 값은: 보\n"
          ]
        }
      ]
    },
    {
      "cell_type": "code",
      "source": [
        "numbers = [4, 7, 9, 11, 29] # 3으로 나누기라 9만출력안됨\n",
        "for n in numbers:\n",
        "  if n%3==0:\n",
        "    continue  # 계속 진행됨 break쓰면 4,7까지만 나옴 9에서 멈춤\n",
        "  print(n)"
      ],
      "metadata": {
        "colab": {
          "base_uri": "https://localhost:8080/"
        },
        "id": "nTB89-7NBjgw",
        "outputId": "adbae5a7-1edf-45cf-af54-6ba0053d9b57"
      },
      "execution_count": 66,
      "outputs": [
        {
          "output_type": "stream",
          "name": "stdout",
          "text": [
            "4\n",
            "7\n",
            "11\n",
            "29\n"
          ]
        }
      ]
    }
  ]
}