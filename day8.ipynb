{
  "nbformat": 4,
  "nbformat_minor": 0,
  "metadata": {
    "colab": {
      "provenance": [],
      "authorship_tag": "ABX9TyN+6Y2vuMteY8kVBVPFvqdc",
      "include_colab_link": true
    },
    "kernelspec": {
      "name": "python3",
      "display_name": "Python 3"
    },
    "language_info": {
      "name": "python"
    }
  },
  "cells": [
    {
      "cell_type": "markdown",
      "metadata": {
        "id": "view-in-github",
        "colab_type": "text"
      },
      "source": [
        "<a href=\"https://colab.research.google.com/github/giester/homework-uploading/blob/main/day8.ipynb\" target=\"_parent\"><img src=\"https://colab.research.google.com/assets/colab-badge.svg\" alt=\"Open In Colab\"/></a>"
      ]
    },
    {
      "cell_type": "markdown",
      "source": [
        "4/8  6장 첫시작"
      ],
      "metadata": {
        "id": "nkbsP_sKzCuK"
      }
    },
    {
      "cell_type": "code",
      "execution_count": null,
      "metadata": {
        "colab": {
          "base_uri": "https://localhost:8080/"
        },
        "id": "VLjt7c3CwLTe",
        "outputId": "6b303c16-a71f-4177-ee06-7db4241ea31e"
      },
      "outputs": [
        {
          "output_type": "stream",
          "name": "stdout",
          "text": [
            "홍길동\n",
            "26\n",
            "82\n"
          ]
        }
      ],
      "source": [
        "#person 딕셔너리의 생성과 조회\n",
        "person = {'이름' : '홍길동', '나이' : 26, '몸무게' : 82}\n",
        "print(person['이름'])\n",
        "\n",
        "print(person['나이'])\n",
        "\n",
        "print(person['몸무게'])"
      ]
    },
    {
      "cell_type": "code",
      "source": [
        "#person 딕셔너리의 생성과 조회\n",
        "person = {'이름' : '홍길동', '나이' : 26, '몸무게' : 82}\n",
        "person['키'] = 175\n",
        "print(person['이름'])\n",
        "\n",
        "print(person['나이'])\n",
        "\n",
        "print(person['몸무게'])"
      ],
      "metadata": {
        "colab": {
          "base_uri": "https://localhost:8080/"
        },
        "id": "uH2N_FdQ0DvF",
        "outputId": "f10792e0-8f6e-486c-a172-38a0dafe65e5"
      },
      "execution_count": null,
      "outputs": [
        {
          "output_type": "stream",
          "name": "stdout",
          "text": [
            "홍길동\n",
            "26\n",
            "82\n"
          ]
        }
      ]
    },
    {
      "cell_type": "code",
      "source": [
        "#대화창 실습 : 딕셔너리의 항목 삽입\n",
        "person = {'이름' : '홍길동', '나이' : 26, '몸무게' : 82}\n",
        "person['직업'] = '율도국의 왕'\n",
        "person\n"
      ],
      "metadata": {
        "colab": {
          "base_uri": "https://localhost:8080/"
        },
        "id": "wiLT7pzo0q-s",
        "outputId": "014ec432-c51b-4dd0-ac74-c073c1bc5244"
      },
      "execution_count": null,
      "outputs": [
        {
          "output_type": "execute_result",
          "data": {
            "text/plain": [
              "{'이름': '홍길동', '나이': 26, '몸무게': 82, '직업': '율도국의 왕'}"
            ]
          },
          "metadata": {},
          "execution_count": 13
        }
      ]
    },
    {
      "cell_type": "code",
      "source": [
        "#대화창 실습 : 딕셔너리의 항목 삭제\n",
        "person = {'이름' : '홍길동', '나이' : 26, '몸무게' : 82, '출생지' : '부산'}\n",
        "del person['출생지'] #출생지 삭제\n",
        "person"
      ],
      "metadata": {
        "colab": {
          "base_uri": "https://localhost:8080/"
        },
        "id": "ywv-TGIc0-pR",
        "outputId": "0c52ac08-ab73-4a69-9bb0-2b75f225bee6"
      },
      "execution_count": null,
      "outputs": [
        {
          "output_type": "execute_result",
          "data": {
            "text/plain": [
              "{'이름': '홍길동', '나이': 26, '몸무게': 82}"
            ]
          },
          "metadata": {},
          "execution_count": 17
        }
      ]
    },
    {
      "cell_type": "code",
      "source": [
        "#딕셔너리의 메소드와 하는일\n",
        "person = {'이름' : '홍길동', '나이' : 26, '몸무게' : 82}\n",
        "person['직업'] = '율도국의 왕'\n",
        "person\n",
        "\n",
        "person.get('이름')"
      ],
      "metadata": {
        "colab": {
          "base_uri": "https://localhost:8080/",
          "height": 35
        },
        "id": "TDpEdqGf1faP",
        "outputId": "3b51a3a5-0818-4888-87c3-92f2f77b72d1"
      },
      "execution_count": null,
      "outputs": [
        {
          "output_type": "execute_result",
          "data": {
            "text/plain": [
              "'홍길동'"
            ],
            "application/vnd.google.colaboratory.intrinsic+json": {
              "type": "string"
            }
          },
          "metadata": {},
          "execution_count": 27
        }
      ]
    },
    {
      "cell_type": "code",
      "source": [
        "#대화창 실습 : 딕셔너리의 keys(), values(), items() 메소드\n",
        "person = {'이름' : '홍길동', '나이' : 26, '몸무게': 82}\n",
        "person.keys()\n",
        "\n",
        "person.values()\n",
        "\n",
        "person.items()\n"
      ],
      "metadata": {
        "colab": {
          "base_uri": "https://localhost:8080/"
        },
        "id": "6KQyNKvn2XPa",
        "outputId": "a65eac6e-e209-4c59-b0c2-720bb83f4427"
      },
      "execution_count": null,
      "outputs": [
        {
          "output_type": "execute_result",
          "data": {
            "text/plain": [
              "dict_items([('이름', '홍길동'), ('나이', 26), ('몸무게', 82)])"
            ]
          },
          "metadata": {},
          "execution_count": 29
        }
      ]
    },
    {
      "cell_type": "code",
      "source": [
        "#대화창 실습 : for 문을 이용한 딕셔너리의 순회\n",
        "person = {'이름' : '홍길동', '나이' : 26, '몸무게' : 82}\n",
        "for key in person:\n",
        "  print('{} : {}'.format(key,person[key]))"
      ],
      "metadata": {
        "colab": {
          "base_uri": "https://localhost:8080/"
        },
        "id": "36yLtxzi2oRn",
        "outputId": "ade27f28-7a0c-4c9d-e417-a7a3a087df0d"
      },
      "execution_count": null,
      "outputs": [
        {
          "output_type": "stream",
          "name": "stdout",
          "text": [
            "이름 : 홍길동\n",
            "나이 : 26\n",
            "몸무게 : 82\n"
          ]
        }
      ]
    },
    {
      "cell_type": "markdown",
      "source": [
        "대괄호[] 리스트  소괄호() 튜플"
      ],
      "metadata": {
        "id": "PIlWN2gV3oKS"
      }
    },
    {
      "cell_type": "markdown",
      "source": [
        "• 튜플\n",
        "• 여러 개의 요소(항목값)를 가지는 컬렉션 자료형collection data type\n",
        "• 리스트와는 달리 한 번 정해진 요소의 순서를 바꿀 수 없다\n",
        "• t = (‘one’, ‘two’, ‘three) 와 같이 괄호로 둘러싸인 형태\n",
        "• 교환불가능immutable 속성\n",
        "• 튜플 내부의 객체를 변경하거나 삭제하는 것도 불가능하다는 특징을\n",
        "가짐"
      ],
      "metadata": {
        "id": "BNID7QQl43hS"
      }
    },
    {
      "cell_type": "markdown",
      "source": [
        "tuple = (1,) 뒤에 , 을 사용해야함"
      ],
      "metadata": {
        "id": "ApMf8QsV5nNd"
      }
    },
    {
      "cell_type": "code",
      "source": [
        "def mplus(a,b):\n",
        "  return a+b,a-b\n",
        "\n",
        "hap, sub = mplus(3, 4)\n",
        "result = mplus(3,4)\n",
        "result"
      ],
      "metadata": {
        "colab": {
          "base_uri": "https://localhost:8080/"
        },
        "id": "cZNenBTf5umQ",
        "outputId": "17aa9806-911f-4bcd-93c8-6b748b846f85"
      },
      "execution_count": null,
      "outputs": [
        {
          "output_type": "execute_result",
          "data": {
            "text/plain": [
              "(7, -1)"
            ]
          },
          "metadata": {},
          "execution_count": 43
        }
      ]
    },
    {
      "cell_type": "code",
      "source": [
        "def mplus(a,b):\n",
        "  return a+b, a-b\n",
        "  {'apple', 'banana'}\n",
        "seto={}\n",
        "\n",
        "list=[0,1,1,0,2,3]\n",
        "seto={0,1,1,0,2,3}"
      ],
      "metadata": {
        "id": "SZ8ZbamF7Y3g"
      },
      "execution_count": null,
      "outputs": []
    },
    {
      "cell_type": "code",
      "source": [
        "a1 : s2 = {1,2,3,4,5,6,7,8,9}  #합집합은 |\t연산자를 사용\n",
        "\n",
        "s1 & s2 = {4,5,6} #교집합 연산은 & 연산자를 사용\n",
        "\n",
        "s1 - s2 = {1,2,3} #차집합 연산은 - 연산자를 사용"
      ],
      "metadata": {
        "colab": {
          "base_uri": "https://localhost:8080/",
          "height": 110
        },
        "id": "_1IfYXTA8o6I",
        "outputId": "b21934cc-dce8-4f5b-ad58-9f3abb1bbb5c"
      },
      "execution_count": null,
      "outputs": [
        {
          "output_type": "error",
          "ename": "SyntaxError",
          "evalue": "cannot assign to expression here. Maybe you meant '==' instead of '='? (<ipython-input-55-4c09e841e6e3>, line 3)",
          "traceback": [
            "\u001b[0;36m  File \u001b[0;32m\"<ipython-input-55-4c09e841e6e3>\"\u001b[0;36m, line \u001b[0;32m3\u001b[0m\n\u001b[0;31m    s1 & s2 = {4,5,6} #교집합 연산은 & 연산자를 사용\u001b[0m\n\u001b[0m    ^\u001b[0m\n\u001b[0;31mSyntaxError\u001b[0m\u001b[0;31m:\u001b[0m cannot assign to expression here. Maybe you meant '==' instead of '='?\n"
          ]
        }
      ]
    },
    {
      "cell_type": "code",
      "source": [
        "s1 = {1,2,3,4,5,6}\n",
        "s2 = {4,5,6,7,8,9}\n"
      ],
      "metadata": {
        "colab": {
          "base_uri": "https://localhost:8080/",
          "height": 110
        },
        "id": "8t4or3gM9lxM",
        "outputId": "be5f0f66-89e3-4a98-d223-241548207ffe"
      },
      "execution_count": null,
      "outputs": [
        {
          "output_type": "error",
          "ename": "SyntaxError",
          "evalue": "cannot assign to expression here. Maybe you meant '==' instead of '='? (<ipython-input-56-2f14e54ec705>, line 4)",
          "traceback": [
            "\u001b[0;36m  File \u001b[0;32m\"<ipython-input-56-2f14e54ec705>\"\u001b[0;36m, line \u001b[0;32m4\u001b[0m\n\u001b[0;31m    s1 & s2 = {4,5,6}\u001b[0m\n\u001b[0m    ^\u001b[0m\n\u001b[0;31mSyntaxError\u001b[0m\u001b[0;31m:\u001b[0m cannot assign to expression here. Maybe you meant '==' instead of '='?\n"
          ]
        }
      ]
    },
    {
      "cell_type": "markdown",
      "source": [
        "7.2 날짜와 시간 모듈"
      ],
      "metadata": {
        "id": "DWmmOecJ_pEY"
      }
    },
    {
      "cell_type": "code",
      "source": [
        ">>> import datetime # 이하 이 문장은 생략함\n",
        ">>> datetime.datetime.now()"
      ],
      "metadata": {
        "colab": {
          "base_uri": "https://localhost:8080/"
        },
        "id": "bnSYqFk2_h_5",
        "outputId": "23c8869e-a6e9-4c68-b434-4c3c4f75f171"
      },
      "execution_count": 58,
      "outputs": [
        {
          "output_type": "execute_result",
          "data": {
            "text/plain": [
              "datetime.datetime(2025, 4, 8, 6, 5, 2, 147284)"
            ]
          },
          "metadata": {},
          "execution_count": 58
        }
      ]
    },
    {
      "cell_type": "markdown",
      "source": [
        "import ~ as\n",
        "• 긴 모듈 이름을 간략하게 부르는 별명을 붙여주는 방법"
      ],
      "metadata": {
        "id": "G7HJfXUuAKfh"
      }
    },
    {
      "cell_type": "code",
      "source": [
        "directory.  #오류남...\n",
        "datetime\n",
        "  datetime py.\n",
        "def now():\n",
        "  datetime.datetimenow()\n",
        "  timedelta\n",
        "\n",
        "import datetime\n",
        "from datetime import datetime\n",
        "  datetime.now"
      ],
      "metadata": {
        "colab": {
          "base_uri": "https://localhost:8080/"
        },
        "id": "xPdEBObDApBK",
        "outputId": "6ff0029f-4d0b-43bf-a8bb-d88ebd8539ba"
      },
      "execution_count": 61,
      "outputs": [
        {
          "output_type": "execute_result",
          "data": {
            "text/plain": [
              "datetime.datetime(2025, 4, 8, 6, 15, 58, 362318)"
            ]
          },
          "metadata": {},
          "execution_count": 61
        }
      ]
    },
    {
      "cell_type": "code",
      "source": [
        "import datetime\n",
        "from datetime import datetime, timedelta\n",
        "\n",
        "def now():\n",
        "  return datetime.now()\n",
        "def now():\n",
        "  datetime.datetimenow()\n",
        "  timedelta\n",
        "\n",
        "import datetime\n",
        "from datetime import datetime\n",
        "datetime.now()"
      ],
      "metadata": {
        "colab": {
          "base_uri": "https://localhost:8080/"
        },
        "id": "VYGNgiyDCuLy",
        "outputId": "4634fa35-c2cf-456c-d13f-3093ebcd9010"
      },
      "execution_count": 81,
      "outputs": [
        {
          "output_type": "execute_result",
          "data": {
            "text/plain": [
              "datetime.datetime(2025, 4, 8, 6, 46, 40, 977285)"
            ]
          },
          "metadata": {},
          "execution_count": 81
        }
      ]
    },
    {
      "cell_type": "code",
      "source": [
        "import datetime as dt\n",
        "today = dt.date.today()\n",
        "print('오늘은 {}년 {}월 {}일입니다'.format(today.year,today.month,today.day))\n",
        "xMas = dt.datetime(2025,12,25)\n",
        "time_gap = xMas - dt.datetime.now()\n",
        "print('다음 크리스마스 가지는{}일 {}시간 남앗습니다.'.format(\\\n",
        "                                           time_gap.days,time_gap.seconds // 3600))"
      ],
      "metadata": {
        "colab": {
          "base_uri": "https://localhost:8080/"
        },
        "id": "i2Jc-6DIC6bn",
        "outputId": "cb96b13e-7667-4c7f-bc58-cfda6bdfea24"
      },
      "execution_count": 69,
      "outputs": [
        {
          "output_type": "stream",
          "name": "stdout",
          "text": [
            "오늘은 2025년 4월 8일입니다\n",
            "다음 크리스마스 가지는260일 17시간 남앗습니다.\n"
          ]
        }
      ]
    },
    {
      "cell_type": "code",
      "source": [
        "import datetime as dt\n",
        "import time\n",
        "\n",
        "time0 = time.time()\n",
        "today = dt.date.today()\n",
        "time1 = time.time()\n",
        "print(time1-time0)"
      ],
      "metadata": {
        "colab": {
          "base_uri": "https://localhost:8080/"
        },
        "id": "5ZrNgwc7EAbK",
        "outputId": "a30ef9f1-67ae-4ae9-cb2b-9ca81bc28902"
      },
      "execution_count": 75,
      "outputs": [
        {
          "output_type": "stream",
          "name": "stdout",
          "text": [
            "0.00011730194091796875\n"
          ]
        }
      ]
    },
    {
      "cell_type": "code",
      "source": [
        "import turtle as t  #코랩이라 실행안됨\n",
        "t.setup(width = 400, height = 400)\n",
        "for i in range(200):\n",
        "  t.forward(i)\n",
        "  t.left(93)\n",
        "t.done()"
      ],
      "metadata": {
        "colab": {
          "base_uri": "https://localhost:8080/",
          "height": 406
        },
        "id": "SXdNF6nxGHsI",
        "outputId": "0e7f7f9e-41a4-4ec4-f8f0-111a0d83f5f0"
      },
      "execution_count": 78,
      "outputs": [
        {
          "output_type": "error",
          "ename": "TclError",
          "evalue": "no display name and no $DISPLAY environment variable",
          "traceback": [
            "\u001b[0;31m---------------------------------------------------------------------------\u001b[0m",
            "\u001b[0;31mTclError\u001b[0m                                  Traceback (most recent call last)",
            "\u001b[0;32m<ipython-input-78-52b076fe1318>\u001b[0m in \u001b[0;36m<cell line: 0>\u001b[0;34m()\u001b[0m\n\u001b[1;32m      1\u001b[0m \u001b[0;32mimport\u001b[0m \u001b[0mturtle\u001b[0m \u001b[0;32mas\u001b[0m \u001b[0mt\u001b[0m\u001b[0;34m\u001b[0m\u001b[0;34m\u001b[0m\u001b[0m\n\u001b[0;32m----> 2\u001b[0;31m \u001b[0mt\u001b[0m\u001b[0;34m.\u001b[0m\u001b[0msetup\u001b[0m\u001b[0;34m(\u001b[0m\u001b[0mwidth\u001b[0m \u001b[0;34m=\u001b[0m \u001b[0;36m400\u001b[0m\u001b[0;34m,\u001b[0m \u001b[0mheight\u001b[0m \u001b[0;34m=\u001b[0m \u001b[0;36m400\u001b[0m\u001b[0;34m)\u001b[0m\u001b[0;34m\u001b[0m\u001b[0;34m\u001b[0m\u001b[0m\n\u001b[0m\u001b[1;32m      3\u001b[0m \u001b[0;32mfor\u001b[0m \u001b[0mi\u001b[0m \u001b[0;32min\u001b[0m \u001b[0mrange\u001b[0m\u001b[0;34m(\u001b[0m\u001b[0;36m200\u001b[0m\u001b[0;34m)\u001b[0m\u001b[0;34m:\u001b[0m\u001b[0;34m\u001b[0m\u001b[0;34m\u001b[0m\u001b[0m\n\u001b[1;32m      4\u001b[0m   \u001b[0mt\u001b[0m\u001b[0;34m.\u001b[0m\u001b[0mforward\u001b[0m\u001b[0;34m(\u001b[0m\u001b[0mi\u001b[0m\u001b[0;34m)\u001b[0m\u001b[0;34m\u001b[0m\u001b[0;34m\u001b[0m\u001b[0m\n\u001b[1;32m      5\u001b[0m   \u001b[0mt\u001b[0m\u001b[0;34m.\u001b[0m\u001b[0mleft\u001b[0m\u001b[0;34m(\u001b[0m\u001b[0;36m93\u001b[0m\u001b[0;34m)\u001b[0m\u001b[0;34m\u001b[0m\u001b[0;34m\u001b[0m\u001b[0m\n",
            "\u001b[0;32m/usr/lib/python3.11/turtle.py\u001b[0m in \u001b[0;36msetup\u001b[0;34m(width, height, startx, starty)\u001b[0m\n",
            "\u001b[0;32m/usr/lib/python3.11/turtle.py\u001b[0m in \u001b[0;36mScreen\u001b[0;34m()\u001b[0m\n\u001b[1;32m   3678\u001b[0m     else return the existing one.\"\"\"\n\u001b[1;32m   3679\u001b[0m     \u001b[0;32mif\u001b[0m \u001b[0mTurtle\u001b[0m\u001b[0;34m.\u001b[0m\u001b[0m_screen\u001b[0m \u001b[0;32mis\u001b[0m \u001b[0;32mNone\u001b[0m\u001b[0;34m:\u001b[0m\u001b[0;34m\u001b[0m\u001b[0;34m\u001b[0m\u001b[0m\n\u001b[0;32m-> 3680\u001b[0;31m         \u001b[0mTurtle\u001b[0m\u001b[0;34m.\u001b[0m\u001b[0m_screen\u001b[0m \u001b[0;34m=\u001b[0m \u001b[0m_Screen\u001b[0m\u001b[0;34m(\u001b[0m\u001b[0;34m)\u001b[0m\u001b[0;34m\u001b[0m\u001b[0;34m\u001b[0m\u001b[0m\n\u001b[0m\u001b[1;32m   3681\u001b[0m     \u001b[0;32mreturn\u001b[0m \u001b[0mTurtle\u001b[0m\u001b[0;34m.\u001b[0m\u001b[0m_screen\u001b[0m\u001b[0;34m\u001b[0m\u001b[0;34m\u001b[0m\u001b[0m\n\u001b[1;32m   3682\u001b[0m \u001b[0;34m\u001b[0m\u001b[0m\n",
            "\u001b[0;32m/usr/lib/python3.11/turtle.py\u001b[0m in \u001b[0;36m__init__\u001b[0;34m(self)\u001b[0m\n\u001b[1;32m   3694\u001b[0m         \u001b[0;31m# preserved (perhaps by passing it as an optional parameter)\u001b[0m\u001b[0;34m\u001b[0m\u001b[0;34m\u001b[0m\u001b[0m\n\u001b[1;32m   3695\u001b[0m         \u001b[0;32mif\u001b[0m \u001b[0m_Screen\u001b[0m\u001b[0;34m.\u001b[0m\u001b[0m_root\u001b[0m \u001b[0;32mis\u001b[0m \u001b[0;32mNone\u001b[0m\u001b[0;34m:\u001b[0m\u001b[0;34m\u001b[0m\u001b[0;34m\u001b[0m\u001b[0m\n\u001b[0;32m-> 3696\u001b[0;31m             \u001b[0m_Screen\u001b[0m\u001b[0;34m.\u001b[0m\u001b[0m_root\u001b[0m \u001b[0;34m=\u001b[0m \u001b[0mself\u001b[0m\u001b[0;34m.\u001b[0m\u001b[0m_root\u001b[0m \u001b[0;34m=\u001b[0m \u001b[0m_Root\u001b[0m\u001b[0;34m(\u001b[0m\u001b[0;34m)\u001b[0m\u001b[0;34m\u001b[0m\u001b[0;34m\u001b[0m\u001b[0m\n\u001b[0m\u001b[1;32m   3697\u001b[0m             \u001b[0mself\u001b[0m\u001b[0;34m.\u001b[0m\u001b[0m_root\u001b[0m\u001b[0;34m.\u001b[0m\u001b[0mtitle\u001b[0m\u001b[0;34m(\u001b[0m\u001b[0m_Screen\u001b[0m\u001b[0;34m.\u001b[0m\u001b[0m_title\u001b[0m\u001b[0;34m)\u001b[0m\u001b[0;34m\u001b[0m\u001b[0;34m\u001b[0m\u001b[0m\n\u001b[1;32m   3698\u001b[0m             \u001b[0mself\u001b[0m\u001b[0;34m.\u001b[0m\u001b[0m_root\u001b[0m\u001b[0;34m.\u001b[0m\u001b[0mondestroy\u001b[0m\u001b[0;34m(\u001b[0m\u001b[0mself\u001b[0m\u001b[0;34m.\u001b[0m\u001b[0m_destroy\u001b[0m\u001b[0;34m)\u001b[0m\u001b[0;34m\u001b[0m\u001b[0;34m\u001b[0m\u001b[0m\n",
            "\u001b[0;32m/usr/lib/python3.11/turtle.py\u001b[0m in \u001b[0;36m__init__\u001b[0;34m(self)\u001b[0m\n\u001b[1;32m    434\u001b[0m     \u001b[0;34m\"\"\"Root class for Screen based on Tkinter.\"\"\"\u001b[0m\u001b[0;34m\u001b[0m\u001b[0;34m\u001b[0m\u001b[0m\n\u001b[1;32m    435\u001b[0m     \u001b[0;32mdef\u001b[0m \u001b[0m__init__\u001b[0m\u001b[0;34m(\u001b[0m\u001b[0mself\u001b[0m\u001b[0;34m)\u001b[0m\u001b[0;34m:\u001b[0m\u001b[0;34m\u001b[0m\u001b[0;34m\u001b[0m\u001b[0m\n\u001b[0;32m--> 436\u001b[0;31m         \u001b[0mTK\u001b[0m\u001b[0;34m.\u001b[0m\u001b[0mTk\u001b[0m\u001b[0;34m.\u001b[0m\u001b[0m__init__\u001b[0m\u001b[0;34m(\u001b[0m\u001b[0mself\u001b[0m\u001b[0;34m)\u001b[0m\u001b[0;34m\u001b[0m\u001b[0;34m\u001b[0m\u001b[0m\n\u001b[0m\u001b[1;32m    437\u001b[0m \u001b[0;34m\u001b[0m\u001b[0m\n\u001b[1;32m    438\u001b[0m     \u001b[0;32mdef\u001b[0m \u001b[0msetupcanvas\u001b[0m\u001b[0;34m(\u001b[0m\u001b[0mself\u001b[0m\u001b[0;34m,\u001b[0m \u001b[0mwidth\u001b[0m\u001b[0;34m,\u001b[0m \u001b[0mheight\u001b[0m\u001b[0;34m,\u001b[0m \u001b[0mcwidth\u001b[0m\u001b[0;34m,\u001b[0m \u001b[0mcheight\u001b[0m\u001b[0;34m)\u001b[0m\u001b[0;34m:\u001b[0m\u001b[0;34m\u001b[0m\u001b[0;34m\u001b[0m\u001b[0m\n",
            "\u001b[0;32m/usr/lib/python3.11/tkinter/__init__.py\u001b[0m in \u001b[0;36m__init__\u001b[0;34m(self, screenName, baseName, className, useTk, sync, use)\u001b[0m\n\u001b[1;32m   2324\u001b[0m                 \u001b[0mbaseName\u001b[0m \u001b[0;34m=\u001b[0m \u001b[0mbaseName\u001b[0m \u001b[0;34m+\u001b[0m \u001b[0mext\u001b[0m\u001b[0;34m\u001b[0m\u001b[0;34m\u001b[0m\u001b[0m\n\u001b[1;32m   2325\u001b[0m         \u001b[0minteractive\u001b[0m \u001b[0;34m=\u001b[0m \u001b[0;32mFalse\u001b[0m\u001b[0;34m\u001b[0m\u001b[0;34m\u001b[0m\u001b[0m\n\u001b[0;32m-> 2326\u001b[0;31m         \u001b[0mself\u001b[0m\u001b[0;34m.\u001b[0m\u001b[0mtk\u001b[0m \u001b[0;34m=\u001b[0m \u001b[0m_tkinter\u001b[0m\u001b[0;34m.\u001b[0m\u001b[0mcreate\u001b[0m\u001b[0;34m(\u001b[0m\u001b[0mscreenName\u001b[0m\u001b[0;34m,\u001b[0m \u001b[0mbaseName\u001b[0m\u001b[0;34m,\u001b[0m \u001b[0mclassName\u001b[0m\u001b[0;34m,\u001b[0m \u001b[0minteractive\u001b[0m\u001b[0;34m,\u001b[0m \u001b[0mwantobjects\u001b[0m\u001b[0;34m,\u001b[0m \u001b[0museTk\u001b[0m\u001b[0;34m,\u001b[0m \u001b[0msync\u001b[0m\u001b[0;34m,\u001b[0m \u001b[0muse\u001b[0m\u001b[0;34m)\u001b[0m\u001b[0;34m\u001b[0m\u001b[0;34m\u001b[0m\u001b[0m\n\u001b[0m\u001b[1;32m   2327\u001b[0m         \u001b[0;32mif\u001b[0m \u001b[0museTk\u001b[0m\u001b[0;34m:\u001b[0m\u001b[0;34m\u001b[0m\u001b[0;34m\u001b[0m\u001b[0m\n\u001b[1;32m   2328\u001b[0m             \u001b[0mself\u001b[0m\u001b[0;34m.\u001b[0m\u001b[0m_loadtk\u001b[0m\u001b[0;34m(\u001b[0m\u001b[0;34m)\u001b[0m\u001b[0;34m\u001b[0m\u001b[0;34m\u001b[0m\u001b[0m\n",
            "\u001b[0;31mTclError\u001b[0m: no display name and no $DISPLAY environment variable"
          ]
        }
      ]
    },
    {
      "cell_type": "code",
      "source": [
        "# 코드 7-23\t:\tpencolor()\t메소드를 이용한 패턴 만들기\n",
        "turtle_color_rects.py\n",
        "import turtle as t\n",
        "colors = ['red', 'green', 'blue', 'orange']\n",
        "for i in range(200):\n",
        "t.pencolor(colors[i % 4])\n",
        "t.forward(i)\n",
        "t.left(93)\n",
        "t.done()\n",
        "\n",
        "#위의 코드에 문양에 색만입힌것"
      ],
      "metadata": {
        "id": "7YpBBxqvJcpO"
      },
      "execution_count": null,
      "outputs": []
    }
  ]
}