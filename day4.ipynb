{
  "nbformat": 4,
  "nbformat_minor": 0,
  "metadata": {
    "colab": {
      "provenance": [],
      "authorship_tag": "ABX9TyMPzdNAzCa3ON8PVCmkJK3w",
      "include_colab_link": true
    },
    "kernelspec": {
      "name": "python3",
      "display_name": "Python 3"
    },
    "language_info": {
      "name": "python"
    }
  },
  "cells": [
    {
      "cell_type": "markdown",
      "metadata": {
        "id": "view-in-github",
        "colab_type": "text"
      },
      "source": [
        "<a href=\"https://colab.research.google.com/github/giester/homework-uploading/blob/main/day4.ipynb\" target=\"_parent\"><img src=\"https://colab.research.google.com/assets/colab-badge.svg\" alt=\"Open In Colab\"/></a>"
      ]
    },
    {
      "cell_type": "markdown",
      "source": [
        "5장 리스트 배포용"
      ],
      "metadata": {
        "id": "W8CCB8KWwLHI"
      }
    },
    {
      "cell_type": "code",
      "execution_count": 1,
      "metadata": {
        "colab": {
          "base_uri": "https://localhost:8080/"
        },
        "id": "cLj4fNyJu_HG",
        "outputId": "36e27a84-f691-4361-c0bc-ebe6618081cf"
      },
      "outputs": [
        {
          "output_type": "stream",
          "name": "stdout",
          "text": [
            "[87, 84, 95, 67, 88, 94, 63]\n"
          ]
        }
      ],
      "source": [
        "score_list = [87, 84, 95, 67, 88, 94, 63]\n",
        "print(score_list)"
      ]
    },
    {
      "cell_type": "code",
      "source": [
        "print(score_list[0])"
      ],
      "metadata": {
        "colab": {
          "base_uri": "https://localhost:8080/"
        },
        "id": "Z9S3N6Cjv1zV",
        "outputId": "92db3435-05e2-40a5-a665-305f40f0fe6c"
      },
      "execution_count": 2,
      "outputs": [
        {
          "output_type": "stream",
          "name": "stdout",
          "text": [
            "87\n"
          ]
        }
      ]
    },
    {
      "cell_type": "code",
      "source": [
        "print(score_list[3])    #리스트안에 숫자도 들어감"
      ],
      "metadata": {
        "colab": {
          "base_uri": "https://localhost:8080/"
        },
        "id": "CwYyG5d1v7pu",
        "outputId": "953e1eb3-b1e6-41b2-badd-c189ca295c42"
      },
      "execution_count": 3,
      "outputs": [
        {
          "output_type": "stream",
          "name": "stdout",
          "text": [
            "67\n"
          ]
        }
      ]
    },
    {
      "cell_type": "code",
      "source": [
        "fruits = ['banana', 'apple', 'oragne', 'kiwi']    #리스트안에 문자도들어감\n",
        "print(fruits)"
      ],
      "metadata": {
        "colab": {
          "base_uri": "https://localhost:8080/"
        },
        "id": "ocP0YqDUwQgE",
        "outputId": "1db34aae-8a4b-49e1-d0e1-7dd2f85331ad"
      },
      "execution_count": 4,
      "outputs": [
        {
          "output_type": "stream",
          "name": "stdout",
          "text": [
            "['banana', 'apple', 'oragne', 'kiwi']\n"
          ]
        }
      ]
    },
    {
      "cell_type": "code",
      "source": [
        "array = [[1,2],[2,2]]            #리스트안에 리스트 변수도 들어간다\n",
        "print(array)"
      ],
      "metadata": {
        "colab": {
          "base_uri": "https://localhost:8080/"
        },
        "id": "AjLa1hQeweUj",
        "outputId": "1defe676-1308-42a0-cb45-d75e52ab2fec"
      },
      "execution_count": 5,
      "outputs": [
        {
          "output_type": "stream",
          "name": "stdout",
          "text": [
            "[[1, 2], [2, 2]]\n"
          ]
        }
      ]
    },
    {
      "cell_type": "code",
      "source": [
        "list1 = list(range(1,9))   #1부터 8까지만 만들어짐 (리스트변수가아닌데 list변수를넣어만듬)\n",
        "print(list1)"
      ],
      "metadata": {
        "colab": {
          "base_uri": "https://localhost:8080/"
        },
        "id": "yCSIvcmvw7Wm",
        "outputId": "7f25c19c-529c-4e42-f37d-b7ad95ca1abf"
      },
      "execution_count": 6,
      "outputs": [
        {
          "output_type": "stream",
          "name": "stdout",
          "text": [
            "[1, 2, 3, 4, 5, 6, 7, 8]\n"
          ]
        }
      ]
    },
    {
      "cell_type": "code",
      "source": [
        "for i in range(9):\n",
        "  print(i)"
      ],
      "metadata": {
        "colab": {
          "base_uri": "https://localhost:8080/"
        },
        "id": "OBGj5gvdxOjn",
        "outputId": "94a2e19a-830d-4809-b789-cd249552015d"
      },
      "execution_count": 8,
      "outputs": [
        {
          "output_type": "stream",
          "name": "stdout",
          "text": [
            "0\n",
            "1\n",
            "2\n",
            "3\n",
            "4\n",
            "5\n",
            "6\n",
            "7\n",
            "8\n"
          ]
        }
      ]
    },
    {
      "cell_type": "code",
      "source": [
        "list2 = []\n",
        "list2.append(4)\n",
        "print(list2)"
      ],
      "metadata": {
        "colab": {
          "base_uri": "https://localhost:8080/"
        },
        "id": "c-8yvdG_xoxH",
        "outputId": "d0121d4c-5272-4efc-87ee-167c945ff34d"
      },
      "execution_count": 9,
      "outputs": [
        {
          "output_type": "stream",
          "name": "stdout",
          "text": [
            "[4]\n"
          ]
        }
      ]
    },
    {
      "cell_type": "code",
      "source": [
        "list2 = []\n",
        "list2.append(4)\n",
        "print(list2)\n",
        "list2.append('add')\n",
        "print(list2)"
      ],
      "metadata": {
        "colab": {
          "base_uri": "https://localhost:8080/"
        },
        "id": "nHdnIjA7ypah",
        "outputId": "89a0cd79-25b2-46eb-a5f7-3078fb15bcb9"
      },
      "execution_count": 10,
      "outputs": [
        {
          "output_type": "stream",
          "name": "stdout",
          "text": [
            "[4]\n",
            "[4, 'add']\n"
          ]
        }
      ]
    },
    {
      "cell_type": "code",
      "source": [
        "str = 'ABCDE'\n",
        "print(str[0])"
      ],
      "metadata": {
        "colab": {
          "base_uri": "https://localhost:8080/"
        },
        "id": "Q2UHR6u_y_Zk",
        "outputId": "6264f724-c121-44eb-93c6-bc8c9186aed7"
      },
      "execution_count": 11,
      "outputs": [
        {
          "output_type": "stream",
          "name": "stdout",
          "text": [
            "A\n"
          ]
        }
      ]
    },
    {
      "cell_type": "code",
      "source": [
        "print(list1[0:4])"
      ],
      "metadata": {
        "colab": {
          "base_uri": "https://localhost:8080/"
        },
        "id": "JCE6J_fCzyMJ",
        "outputId": "1bae9c6c-060a-4f5f-c7e8-9d2f10e61324"
      },
      "execution_count": 12,
      "outputs": [
        {
          "output_type": "stream",
          "name": "stdout",
          "text": [
            "[1, 2, 3, 4]\n"
          ]
        }
      ]
    },
    {
      "cell_type": "code",
      "source": [
        "n_list = [10, 20 ,30 ,40]\n",
        "print(n_list.pop())\n",
        "print(n_list)"
      ],
      "metadata": {
        "colab": {
          "base_uri": "https://localhost:8080/"
        },
        "id": "gmzz1rdA04EZ",
        "outputId": "84a299f0-abb6-4cfd-d21b-cf0816543c53"
      },
      "execution_count": 15,
      "outputs": [
        {
          "output_type": "stream",
          "name": "stdout",
          "text": [
            "40\n",
            "[10, 20, 30]\n"
          ]
        }
      ]
    },
    {
      "cell_type": "code",
      "source": [
        "fruits = ['banana', 'apple', 'oragne', 'kiwi']    #리스트안에 문자도들어감\n",
        "print('banana' in fruits)\n",
        "if 'banana' in fruits :\n",
        "  print('there is my favorite fruit')"
      ],
      "metadata": {
        "colab": {
          "base_uri": "https://localhost:8080/"
        },
        "outputId": "adfbc705-8fb9-49fe-8e4c-df9797761601",
        "id": "iusQ4F6A2xHV"
      },
      "execution_count": 16,
      "outputs": [
        {
          "output_type": "stream",
          "name": "stdout",
          "text": [
            "True\n",
            "there is my favorite fruit\n"
          ]
        }
      ]
    },
    {
      "cell_type": "code",
      "source": [
        "n_list = [11, 22, 33, 44, 55, 66]\n",
        "if (55 in n_list) :\n",
        "  n_list.remove(55)\n",
        "print(n_list)"
      ],
      "metadata": {
        "colab": {
          "base_uri": "https://localhost:8080/"
        },
        "id": "E-XbmPVe3NO7",
        "outputId": "d40444a1-6c2c-41e2-b967-fd5cec8f91bf"
      },
      "execution_count": 24,
      "outputs": [
        {
          "output_type": "stream",
          "name": "stdout",
          "text": [
            "[11, 22, 33, 44, 66]\n"
          ]
        }
      ]
    },
    {
      "cell_type": "code",
      "source": [
        "fruits = ['banana', 'apple', 'oragne', 'kiwi']    #리스트안에 문자도들어감\n",
        "print(sum(fruits)"
      ],
      "metadata": {
        "colab": {
          "base_uri": "https://localhost:8080/",
          "height": 106
        },
        "id": "HMyGv78i4MuL",
        "outputId": "91fe2029-7f1f-4b9a-d1a7-86def8edeb99"
      },
      "execution_count": 26,
      "outputs": [
        {
          "output_type": "error",
          "ename": "SyntaxError",
          "evalue": "incomplete input (<ipython-input-26-1b1e3d536352>, line 2)",
          "traceback": [
            "\u001b[0;36m  File \u001b[0;32m\"<ipython-input-26-1b1e3d536352>\"\u001b[0;36m, line \u001b[0;32m2\u001b[0m\n\u001b[0;31m    print(sum(fruits)\u001b[0m\n\u001b[0m                     ^\u001b[0m\n\u001b[0;31mSyntaxError\u001b[0m\u001b[0;31m:\u001b[0m incomplete input\n"
          ]
        }
      ]
    },
    {
      "cell_type": "code",
      "source": [
        "n_list = [22, 44, 11, 66, 55, 33]\n",
        "a_list = sorted(n_list)\n",
        "print(a_list)\n",
        "print(n_list)"
      ],
      "metadata": {
        "colab": {
          "base_uri": "https://localhost:8080/"
        },
        "id": "1kONikp75gEi",
        "outputId": "2660346a-3b27-4e61-bd0e-2a53d978e673"
      },
      "execution_count": 28,
      "outputs": [
        {
          "output_type": "stream",
          "name": "stdout",
          "text": [
            "[11, 22, 33, 44, 55, 66]\n",
            "[22, 44, 11, 66, 55, 33]\n"
          ]
        }
      ]
    },
    {
      "cell_type": "code",
      "source": [
        "str = 'abc'*3\n",
        "print(str)"
      ],
      "metadata": {
        "colab": {
          "base_uri": "https://localhost:8080/"
        },
        "id": "BzpKdQOp7Dfa",
        "outputId": "7c3c22af-a4ae-4b42-d831-16f6ad7f033b"
      },
      "execution_count": 29,
      "outputs": [
        {
          "output_type": "stream",
          "name": "stdout",
          "text": [
            "abcabcabc\n"
          ]
        }
      ]
    }
  ]
}