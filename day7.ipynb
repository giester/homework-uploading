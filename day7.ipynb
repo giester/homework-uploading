{
  "nbformat": 4,
  "nbformat_minor": 0,
  "metadata": {
    "colab": {
      "provenance": [],
      "authorship_tag": "ABX9TyOxpVLnHEk4olUWeL4aFC1x",
      "include_colab_link": true
    },
    "kernelspec": {
      "name": "python3",
      "display_name": "Python 3"
    },
    "language_info": {
      "name": "python"
    }
  },
  "cells": [
    {
      "cell_type": "markdown",
      "metadata": {
        "id": "view-in-github",
        "colab_type": "text"
      },
      "source": [
        "<a href=\"https://colab.research.google.com/github/giester/homework-uploading/blob/main/day7.ipynb\" target=\"_parent\"><img src=\"https://colab.research.google.com/assets/colab-badge.svg\" alt=\"Open In Colab\"/></a>"
      ]
    },
    {
      "cell_type": "code",
      "execution_count": 2,
      "metadata": {
        "colab": {
          "base_uri": "https://localhost:8080/",
          "height": 110
        },
        "id": "d8lOMsrMvoBW",
        "outputId": "730499d8-aff9-40ad-fee2-4733cb6744c3"
      },
      "outputs": [
        {
          "output_type": "error",
          "ename": "IndentationError",
          "evalue": "expected an indented block after function definition on line 5 (<ipython-input-2-1b88aac04f4a>, line 6)",
          "traceback": [
            "\u001b[0;36m  File \u001b[0;32m\"<ipython-input-2-1b88aac04f4a>\"\u001b[0;36m, line \u001b[0;32m6\u001b[0m\n\u001b[0;31m    area = radius**2*np.pi\u001b[0m\n\u001b[0m    ^\u001b[0m\n\u001b[0;31mIndentationError\u001b[0m\u001b[0;31m:\u001b[0m expected an indented block after function definition on line 5\n"
          ]
        }
      ],
      "source": [
        "#반지름은 in put 받아서 output출력\n",
        "\n",
        "import numpy as np\n",
        "\n",
        "def circle(radius):\n",
        "      area = radius**2*np.pi\n",
        "      return area\n",
        "\n",
        "print(circle(5))  #반지름 5로 함"
      ]
    },
    {
      "cell_type": "code",
      "source": [
        "#원의 면적이 주어졌을때 반지름구하는 함수\n",
        "#함수이름  radius    in put은 area\n",
        "import numpy as np\n",
        "\n",
        "def radius(area):\n",
        "\n",
        "      result = (area / np.pi **(1/2))   #3.14는 np*pi랑같음\n",
        "      return result\n",
        "print(radius(5))"
      ],
      "metadata": {
        "colab": {
          "base_uri": "https://localhost:8080/"
        },
        "id": "U9T2Eqhyx1xw",
        "outputId": "b5e09738-14e6-4edf-d24d-6dd9a2f38027"
      },
      "execution_count": 6,
      "outputs": [
        {
          "output_type": "stream",
          "name": "stdout",
          "text": [
            "2.8209479177387817\n"
          ]
        }
      ]
    },
    {
      "cell_type": "code",
      "source": [
        "#값2개를 받아서 큰값을 리턴해주고싶음 #nawon\n",
        "\n",
        "def nawon(apple,banana):\n",
        "  if(apple > banana):\n",
        "      result = apple\n",
        "  else:\n",
        "      result = banana\n",
        "\n",
        "print(nawon(4,5))"
      ],
      "metadata": {
        "colab": {
          "base_uri": "https://localhost:8080/"
        },
        "id": "q131xxECxfGx",
        "outputId": "8f5107ca-55ca-4841-efd5-fbd7dfbb68a8"
      },
      "execution_count": 23,
      "outputs": [
        {
          "output_type": "stream",
          "name": "stdout",
          "text": [
            "None\n"
          ]
        }
      ]
    },
    {
      "cell_type": "code",
      "source": [
        "#리턴값 2개  #np.pi = 3.14\n",
        "\n",
        "import numpy as np\n",
        "def circle(radius):\n",
        "    circum = 2*np.pi*radius\n",
        "    area = np.pi*radius**2\n",
        "\n",
        "    return circum, area\n",
        "\n",
        "output1, output2  = circle(5)\n",
        "print(output1,output2)"
      ],
      "metadata": {
        "colab": {
          "base_uri": "https://localhost:8080/"
        },
        "id": "oO1PcOxO1ukt",
        "outputId": "8be6fd1d-daa4-4a73-a7ba-6e620c4e16ce"
      },
      "execution_count": 24,
      "outputs": [
        {
          "output_type": "stream",
          "name": "stdout",
          "text": [
            "31.41592653589793 78.53981633974483\n"
          ]
        }
      ]
    },
    {
      "cell_type": "code",
      "source": [
        "#리턴값 2개  #np.pi = 3.14\n",
        "\n",
        "import numpy as np\n",
        "def circle(radius):\n",
        "    circum = 2*np.pi*radius\n",
        "    area = np.pi*radius**2\n",
        "\n",
        "    return circum, area\n",
        "\n",
        "output  =  circle(5)\n",
        "print(type(output))   #type 지우면 [31.41592653589793 78.53981633974483] 나옴"
      ],
      "metadata": {
        "colab": {
          "base_uri": "https://localhost:8080/"
        },
        "id": "fy8SiITD2tSs",
        "outputId": "717d5658-72a9-409d-d2da-26d89101998c"
      },
      "execution_count": 26,
      "outputs": [
        {
          "output_type": "stream",
          "name": "stdout",
          "text": [
            "<class 'tuple'>\n"
          ]
        }
      ]
    },
    {
      "cell_type": "code",
      "source": [
        "#리턴값 2개  #np.pi = 3.14\n",
        "\n",
        "import numpy as np\n",
        "def circle(radius):\n",
        "    circum = 2*np.pi*radius\n",
        "    area = np.pi*radius**2\n",
        "\n",
        "    return [circum, area]  #리스트 변수로 변함 []추가함\n",
        "\n",
        "output  =  circle(5)\n",
        "print(type(output))"
      ],
      "metadata": {
        "colab": {
          "base_uri": "https://localhost:8080/"
        },
        "id": "w6vOCITf2yUu",
        "outputId": "a77436b5-55b0-4451-f844-68f2725ccc16"
      },
      "execution_count": 27,
      "outputs": [
        {
          "output_type": "stream",
          "name": "stdout",
          "text": [
            "<class 'list'>\n"
          ]
        }
      ]
    },
    {
      "cell_type": "code",
      "source": [
        "#리턴값 2개  #np.pi = 3.14\n",
        "\n",
        "import numpy as np\n",
        "def circle(radius):\n",
        "    circum = 2*np.pi*radius\n",
        "    area = np.pi*radius**2\n",
        "\n",
        "    return [circum, area]  #리스트 변수로 변함 []추가함\n",
        "\n",
        "print(circle(5).sort())  #리스트 변수 뽑아내는건데 교수님이 함수를 착각하신"
      ],
      "metadata": {
        "colab": {
          "base_uri": "https://localhost:8080/"
        },
        "id": "qh--rXP_3avM",
        "outputId": "0043e1b0-3dff-4e65-cd44-aa9c9c8819b5"
      },
      "execution_count": 30,
      "outputs": [
        {
          "output_type": "stream",
          "name": "stdout",
          "text": [
            "None\n"
          ]
        }
      ]
    },
    {
      "cell_type": "code",
      "source": [
        "#in put 이 3개이고 곱해서 out put\n",
        "\n",
        "import numpy as np\n",
        "def result(a,b,c):\n",
        "  return a*b*c\n",
        "\n",
        "print(result(1,2,3))"
      ],
      "metadata": {
        "colab": {
          "base_uri": "https://localhost:8080/"
        },
        "id": "lSpR_2XR4cMb",
        "outputId": "70f61711-7249-4111-be13-d71fa28e0a7d"
      },
      "execution_count": 31,
      "outputs": [
        {
          "output_type": "stream",
          "name": "stdout",
          "text": [
            "6\n"
          ]
        }
      ]
    },
    {
      "cell_type": "code",
      "source": [
        "#in put 이 2개여도되고 6개여도되는\n",
        "\n",
        "import numpy as np\n",
        "def result(a,b,c=1):  #c를 미리 1값을주어짐 3개함수에 (미리주는값은 뒤에서 부터줘야함) 디폴트값 지정\n",
        "  return a*b*c\n",
        "\n",
        "print(result(1,2,))  #out put 결과값을 2개만 나오게한다 c값이 이미 1이주어져있기때문"
      ],
      "metadata": {
        "colab": {
          "base_uri": "https://localhost:8080/"
        },
        "id": "n1dkROUw4wwn",
        "outputId": "792aa290-93d1-4958-a838-35e94ad7c9e3"
      },
      "execution_count": 32,
      "outputs": [
        {
          "output_type": "stream",
          "name": "stdout",
          "text": [
            "6\n"
          ]
        }
      ]
    },
    {
      "cell_type": "code",
      "source": [
        "import numpy as np\n",
        "def result(a,b,c=1):\n",
        "  return a*b*c\n",
        "\n",
        "print(result(1,2,))"
      ],
      "metadata": {
        "id": "hbB8Fv615UXv"
      },
      "execution_count": null,
      "outputs": []
    }
  ]
}