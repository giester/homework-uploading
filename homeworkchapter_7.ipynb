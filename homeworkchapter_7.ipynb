{
  "nbformat": 4,
  "nbformat_minor": 0,
  "metadata": {
    "colab": {
      "provenance": [],
      "authorship_tag": "ABX9TyMp9UxOisgDf63yewzwc2Ei",
      "include_colab_link": true
    },
    "kernelspec": {
      "name": "python3",
      "display_name": "Python 3"
    },
    "language_info": {
      "name": "python"
    }
  },
  "cells": [
    {
      "cell_type": "markdown",
      "metadata": {
        "id": "view-in-github",
        "colab_type": "text"
      },
      "source": [
        "<a href=\"https://colab.research.google.com/github/giester/homework-uploading/blob/main/homeworkchapter_7.ipynb\" target=\"_parent\"><img src=\"https://colab.research.google.com/assets/colab-badge.svg\" alt=\"Open In Colab\"/></a>"
      ]
    },
    {
      "cell_type": "markdown",
      "source": [
        "7-1"
      ],
      "metadata": {
        "id": "kR3pUK_6sPcM"
      }
    },
    {
      "cell_type": "code",
      "execution_count": null,
      "metadata": {
        "colab": {
          "base_uri": "https://localhost:8080/"
        },
        "id": "H5DJC3A1pzrx",
        "outputId": "9a83528c-7c1c-4153-9a1e-8b8aa5c35a0f"
      },
      "outputs": [
        {
          "output_type": "stream",
          "name": "stdout",
          "text": [
            "5000\n",
            "{'김밥': 6000, '어묵': 3000, '떡볶이': 2000}\n",
            "dict_values([6000, 3000, 2000])\n",
            "dict_keys(['김밥', '어묵', '떡볶이'])\n",
            "이 식당의 메뉴 계수는 3 개 입니다.\n"
          ]
        }
      ],
      "source": [
        "price = {'김밥': 5000, '어묵': 3000, '떡볶이': 2000}\n",
        "\n",
        "print(price['김밥'])  # (1)\n",
        "price['김밥'] = 6000\n",
        "print(price)  # (2)\n",
        "print(price.values())  # (3)\n",
        "print(price.keys())  # (4)\n",
        "print(f\"이 식당의 메뉴 계수는 {len(price)} 개 입니다.\")  # (5)"
      ]
    },
    {
      "cell_type": "markdown",
      "source": [
        "7-5"
      ],
      "metadata": {
        "id": "A9ByYv3dsQt6"
      }
    },
    {
      "cell_type": "code",
      "source": [
        "t = (10, 20, 30, 40)\n",
        "\n",
        "print(t[0])          # (1) 10\n",
        "print(t[0:2])        # (2) (10, 20)\n",
        "print(t[1:])         # (3) (20, 30, 40)\n",
        "print(t[:3])        # (4) (20, 30)\n",
        "print(t[1::2])       # (5) (20, 40)\n",
        "print(t[:-1])       # (6) (20, 30)"
      ],
      "metadata": {
        "colab": {
          "base_uri": "https://localhost:8080/"
        },
        "id": "e0BTX-NZsRie",
        "outputId": "6a6d6e8c-a764-4307-835a-fd4aef7ccb20"
      },
      "execution_count": null,
      "outputs": [
        {
          "output_type": "stream",
          "name": "stdout",
          "text": [
            "10\n",
            "(10, 20)\n",
            "(20, 30, 40)\n",
            "(10, 20, 30)\n",
            "(20, 40)\n",
            "(10, 20, 30)\n"
          ]
        }
      ]
    },
    {
      "cell_type": "markdown",
      "source": [
        "7-9"
      ],
      "metadata": {
        "id": "0gyjVW89tiR_"
      }
    },
    {
      "cell_type": "code",
      "source": [
        "tup = (1, 2, 5, 4, 3, 2, 1, 4, 7, 8, 9, 9, 3, 7, 3)\n",
        "\n",
        "unique_tup = tuple(sorted(set(tup)))\n",
        "\n",
        "print(f\"주어진 튜플: {tup}\")\n",
        "print(f\"중복 제거 튜플: {unique_tup}\")"
      ],
      "metadata": {
        "colab": {
          "base_uri": "https://localhost:8080/"
        },
        "id": "lAFQA3_ktmIS",
        "outputId": "c3a66426-f43a-4f31-d2a8-5c9724223ed9"
      },
      "execution_count": null,
      "outputs": [
        {
          "output_type": "stream",
          "name": "stdout",
          "text": [
            "주어진 튜플: (1, 2, 5, 4, 3, 2, 1, 4, 7, 8, 9, 9, 3, 7, 3)\n",
            "중복 제거 튜플: (1, 2, 3, 4, 5, 7, 8, 9)\n"
          ]
        }
      ]
    },
    {
      "cell_type": "markdown",
      "source": [
        "7-13"
      ],
      "metadata": {
        "id": "Xlsh6dnUttRs"
      }
    },
    {
      "cell_type": "code",
      "source": [
        "lst = [5, 6, 3, 9, 2, 12, 3, 8, 7]\n",
        "\n",
        "n = len(lst)\n",
        "for i in range(n):\n",
        "\n",
        "    for j in range(0, n-i-1):\n",
        "        if lst[j] > lst[j+1]:\n",
        "            lst[j], lst[j+1] = lst[j+1], lst[j]\n",
        "\n",
        "print(f\"주어진 리스트는 = [5, 6, 3, 9, 2, 12, 3, 8, 7]\")\n",
        "print(f\"정렬된 결과는 = {lst}\")"
      ],
      "metadata": {
        "colab": {
          "base_uri": "https://localhost:8080/"
        },
        "id": "m70G3SsRtuCs",
        "outputId": "4f72c4ac-8b49-444b-a005-c5cf6234828f"
      },
      "execution_count": null,
      "outputs": [
        {
          "output_type": "stream",
          "name": "stdout",
          "text": [
            "주어진 리스트는 = [5, 6, 3, 9, 2, 12, 3, 8, 7]\n",
            "정렬된 결과는 = [2, 3, 3, 5, 6, 7, 8, 9, 12]\n"
          ]
        }
      ]
    },
    {
      "cell_type": "markdown",
      "source": [
        "7-17"
      ],
      "metadata": {
        "id": "eyS2V0e9xCB7"
      }
    },
    {
      "cell_type": "code",
      "source": [
        "population_A = (100, 150, 230, 120, 180, 100, 140, 95, 81, 21, 4)\n",
        "population_B = (300, 420, 530, 420, 400, 300, 40, 5, 1, 1, 1)\n",
        "\n",
        "votes_A = sum(population_A[2:])\n",
        "votes_B = sum(population_B[2:])\n",
        "\n",
        "elderly_A = sum(population_A[7:]) / sum(population_A)\n",
        "elderly_B = sum(population_B[7:]) / sum(population_B)\n",
        "\n",
        "print(f\"마을 A와 B에 보낼 투표용지의 개수는 각각 {votes_A} 정과 {votes_B} 정입니다.\")\n",
        "print(f\"마을 A와 B의 고령화 정도는 각각 {elderly_A:.3f}와 {elderly_B:.3f}입니다.\")"
      ],
      "metadata": {
        "colab": {
          "base_uri": "https://localhost:8080/"
        },
        "id": "7EoLYJfXxGsD",
        "outputId": "c3b1bada-8f95-4752-f7eb-573a1c11e699"
      },
      "execution_count": null,
      "outputs": [
        {
          "output_type": "stream",
          "name": "stdout",
          "text": [
            "마을 A와 B에 보낼 투표용지의 개수는 각각 971 정과 1698 정입니다.\n",
            "마을 A와 B의 고령화 정도는 각각 0.165와 0.003입니다.\n"
          ]
        }
      ]
    },
    {
      "cell_type": "markdown",
      "source": [
        "7-21"
      ],
      "metadata": {
        "id": "AdBnVmecx-Ug"
      }
    },
    {
      "cell_type": "code",
      "source": [
        "user_input = input(\"문자열을 입력하시오: \")\n",
        "\n",
        "processed = ''.join(char.lower() for char in user_input if char.isalnum())\n",
        "\n",
        "is_palindrome = processed == processed[::-1]\n",
        "\n",
        "print(\"회문입니다.\" if is_palindrome else \"회문이 아닙니다.\")"
      ],
      "metadata": {
        "colab": {
          "base_uri": "https://localhost:8080/"
        },
        "id": "LB5hV2HuyAWw",
        "outputId": "d6792797-173a-4aaf-d203-770dd9fbc0e2"
      },
      "execution_count": null,
      "outputs": [
        {
          "output_type": "stream",
          "name": "stdout",
          "text": [
            "문자열을 입력하시오: racecar\n",
            "회문입니다.\n"
          ]
        }
      ]
    },
    {
      "cell_type": "markdown",
      "source": [
        "7-25"
      ],
      "metadata": {
        "id": "xPorVIfl0ikM"
      }
    },
    {
      "cell_type": "code",
      "source": [
        "dictionary = {}\n",
        "\n",
        "print(\"사전 프로그램 시작… 종료는 q를 입력\")\n",
        "\n",
        "while True:\n",
        "    user_input = input(\"$ \").strip()\n",
        "\n",
        "    if user_input == 'q':\n",
        "        print(\"사전 프로그램을 종료합니다.\")\n",
        "        break\n",
        "\n",
        "    elif user_input.startswith(\"<\"):\n",
        "        try:\n",
        "            if \":\" not in user_input:\n",
        "                raise ValueError\n",
        "            content = user_input[1:].strip()  # '<' 제거\n",
        "            eng, kor = content.split(\":\", 1)\n",
        "            dictionary[eng.strip()] = kor.strip()\n",
        "        except:\n",
        "            print(\"입력오류가 발생했습니다.\")\n",
        "\n",
        "    elif user_input.startswith(\">\"):\n",
        "        word = user_input[1:].strip()\n",
        "        if word in dictionary:\n",
        "            print(dictionary[word])\n",
        "        else:\n",
        "            print(f\"{word}가 사전에 없습니다.\")\n",
        "\n",
        "    else:\n",
        "        print(\"입력오류가 발생했습니다.\")"
      ],
      "metadata": {
        "colab": {
          "base_uri": "https://localhost:8080/"
        },
        "id": "AvUjJ7hi3dXZ",
        "outputId": "c8615ef5-d75a-4645-fdb0-aaff2c435068"
      },
      "execution_count": null,
      "outputs": [
        {
          "output_type": "stream",
          "name": "stdout",
          "text": [
            "사전 프로그램 시작… 종료는 q를 입력\n",
            "$ man\n",
            "입력오류가 발생했습니다.\n",
            "$ boy\n",
            "입력오류가 발생했습니다.\n"
          ]
        }
      ]
    }
  ]
}