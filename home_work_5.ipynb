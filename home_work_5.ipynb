{
  "nbformat": 4,
  "nbformat_minor": 0,
  "metadata": {
    "colab": {
      "provenance": [],
      "authorship_tag": "ABX9TyNdJKEyGYy4M/tzf7ZXQzEc",
      "include_colab_link": true
    },
    "kernelspec": {
      "name": "python3",
      "display_name": "Python 3"
    },
    "language_info": {
      "name": "python"
    }
  },
  "cells": [
    {
      "cell_type": "markdown",
      "metadata": {
        "id": "view-in-github",
        "colab_type": "text"
      },
      "source": [
        "<a href=\"https://colab.research.google.com/github/giester/homework-uploading/blob/main/home_work_5.ipynb\" target=\"_parent\"><img src=\"https://colab.research.google.com/assets/colab-badge.svg\" alt=\"Open In Colab\"/></a>"
      ]
    },
    {
      "cell_type": "markdown",
      "source": [
        "4-1 다음과 같이 구구단의 2단을 출력하는 프로그램을 for 문과 while 문을 사용하여 각각 작성하여라."
      ],
      "metadata": {
        "id": "mrpOYIgXI0ix"
      }
    },
    {
      "cell_type": "code",
      "execution_count": 4,
      "metadata": {
        "colab": {
          "base_uri": "https://localhost:8080/"
        },
        "id": "Uqn0360rIudF",
        "outputId": "cd43f101-76bb-46d6-cfc8-6ca9e8c7c88c"
      },
      "outputs": [
        {
          "output_type": "stream",
          "name": "stdout",
          "text": [
            "2 * 1 = 2\n",
            "2 * 2 = 4\n",
            "2 * 3 = 6\n",
            "2 * 4 = 8\n",
            "2 * 5 = 10\n",
            "2 * 6 = 12\n",
            "2 * 7 = 14\n",
            "2 * 8 = 16\n",
            "2 * 9 = 18\n"
          ]
        }
      ],
      "source": [
        "for i in range(1, 10): #for 문\n",
        "    print(f\"2 * {i} = {2 * i}\")"
      ]
    },
    {
      "cell_type": "code",
      "source": [
        "i = 1  #while 문\n",
        "while i <= 9:\n",
        "    print(f\"2 * {i} = {2 * i}\")\n",
        "    i += 1"
      ],
      "metadata": {
        "colab": {
          "base_uri": "https://localhost:8080/"
        },
        "id": "0c39y41ZJ1Kb",
        "outputId": "ca663f1e-6b47-46e3-8633-2c896bdb87bf"
      },
      "execution_count": 6,
      "outputs": [
        {
          "output_type": "stream",
          "name": "stdout",
          "text": [
            "2 * {i} = {2 * i}\n",
            "2 * {i} = {2 * i}\n",
            "2 * {i} = {2 * i}\n",
            "2 * {i} = {2 * i}\n",
            "2 * {i} = {2 * i}\n",
            "2 * {i} = {2 * i}\n",
            "2 * {i} = {2 * i}\n",
            "2 * {i} = {2 * i}\n",
            "2 * {i} = {2 * i}\n"
          ]
        }
      ]
    },
    {
      "cell_type": "markdown",
      "source": [
        "4-3 다음의 프로그램은 어떤 결과값을 출력하는가? 출력 결과를 미리 예측한후 타이핑하여 그 결과가 맞는지 확인해 보도록 하자."
      ],
      "metadata": {
        "id": "hxO6ohQ5L0a2"
      }
    },
    {
      "cell_type": "code",
      "source": [
        "for i in range(3):\n",
        "    print('Python ')\n",
        "    print('is ')\n",
        "    print('FUN! ')"
      ],
      "metadata": {
        "colab": {
          "base_uri": "https://localhost:8080/"
        },
        "id": "77WTzzdrLbQ2",
        "outputId": "ba7f9585-8e61-4a37-a513-ea061c581d54"
      },
      "execution_count": 9,
      "outputs": [
        {
          "output_type": "stream",
          "name": "stdout",
          "text": [
            "Python \n",
            "is \n",
            "FUN! \n",
            "Python \n",
            "is \n",
            "FUN! \n",
            "Python \n",
            "is \n",
            "FUN! \n",
            "Python \n",
            "is \n",
            "Python \n",
            "is \n",
            "Python \n",
            "is \n",
            "FUN! \n"
          ]
        }
      ]
    },
    {
      "cell_type": "code",
      "source": [
        "for i in range(3):\n",
        "    print('Python ')\n",
        "    print('is ')\n",
        "print('FUN! ')"
      ],
      "metadata": {
        "colab": {
          "base_uri": "https://localhost:8080/"
        },
        "id": "vbfx8kSiLrl3",
        "outputId": "c67c43cc-470d-4d1b-c47f-a49e92d29008"
      },
      "execution_count": 10,
      "outputs": [
        {
          "output_type": "stream",
          "name": "stdout",
          "text": [
            "Python \n",
            "is \n",
            "Python \n",
            "is \n",
            "Python \n",
            "is \n",
            "FUN! \n"
          ]
        }
      ]
    },
    {
      "cell_type": "code",
      "source": [
        "for i in range(3):\n",
        "    print('Python ')\n",
        "print('is ')\n",
        "print('FUN! ')"
      ],
      "metadata": {
        "colab": {
          "base_uri": "https://localhost:8080/"
        },
        "id": "UTx7ski-LxcL",
        "outputId": "5d149d93-46dc-43a1-e754-95f42084898b"
      },
      "execution_count": 11,
      "outputs": [
        {
          "output_type": "stream",
          "name": "stdout",
          "text": [
            "Python \n",
            "Python \n",
            "Python \n",
            "is \n",
            "FUN! \n"
          ]
        }
      ]
    },
    {
      "cell_type": "markdown",
      "source": [
        "4-5 맛나 식당의 메뉴 주문프로그램 개발"
      ],
      "metadata": {
        "id": "t6Two6C1L8A-"
      }
    },
    {
      "cell_type": "code",
      "source": [
        "print('맛나 식당에 오신것을 환영합니다., 메뉴는 다음과 같습니다.')\n",
        "print('b)햄버거')\n",
        "print('c)치킨')\n",
        "print('p)피자')\n",
        "a=input('b, c, p메뉴 선택하세요:')\n",
        "while a!='b' and a!='c' and a!='p':\n",
        "    a=input('다시 b c p 메뉴를 선택하세요:')\n",
        "\n",
        "\n",
        "while a=='b' or a=='c' or a=='p':\n",
        "    break\n",
        "if a=='b':\n",
        "        print('햄버거을 선택하였습니다')\n",
        "elif a=='c':\n",
        "          print('치킨을 선택하였습니다')\n",
        "elif a=='p':\n",
        "          print('피자을 선택하였습니다')\n"
      ],
      "metadata": {
        "colab": {
          "base_uri": "https://localhost:8080/"
        },
        "id": "VJt7WYS6L-1o",
        "outputId": "2f6b423d-ab0c-4d64-a84b-6a8f6b8e1a79"
      },
      "execution_count": 13,
      "outputs": [
        {
          "output_type": "stream",
          "name": "stdout",
          "text": [
            "맛나 식당에 오신것을 환영합니다., 메뉴는 다음과 같습니다.\n",
            "b)햄버거\n",
            "c)치킨\n",
            "p)피자\n",
            "b, c, p메뉴 선택하세요:a\n",
            "다시 b c p 메뉴를 선택하세요:b\n",
            "햄버거을 선택하였습니다\n"
          ]
        }
      ]
    },
    {
      "cell_type": "markdown",
      "source": [
        "4-7"
      ],
      "metadata": {
        "id": "6zg1rr4VMtbw"
      }
    },
    {
      "cell_type": "code",
      "source": [
        "n = int(input('숫자를 입력하세요: '))\n",
        "\n",
        "if n == 1:\n",
        "    print('소수가 아닙니다.')\n",
        "else:\n",
        "    is_prime = True\n",
        "    for i in range(2, int(n ** 0.5) + 1):\n",
        "        if n % i == 0:\n",
        "            is_prime = False\n",
        "            break\n",
        "\n",
        "    if is_prime:\n",
        "        print('소수 입니다')\n",
        "    else:\n",
        "        print('소수가 아닙니다')\n"
      ],
      "metadata": {
        "colab": {
          "base_uri": "https://localhost:8080/"
        },
        "id": "t8WBxsJrMohh",
        "outputId": "7055b921-7846-4ca3-f5fb-f20655b877fd"
      },
      "execution_count": 25,
      "outputs": [
        {
          "output_type": "stream",
          "name": "stdout",
          "text": [
            "숫자를 입력하세요: 1\n",
            "는 소수가 아닙니다.\n"
          ]
        }
      ]
    },
    {
      "cell_type": "markdown",
      "source": [
        "4-9"
      ],
      "metadata": {
        "id": "r5CKoLq1Opf8"
      }
    },
    {
      "cell_type": "code",
      "source": [
        "n= int(input('숫자:'))\n",
        "for i in range(1,n+1):\n",
        "    t=0\n",
        "    for j in range(1,n+1):\n",
        "        t+=j**2\n",
        "\n",
        "i+=t\n",
        "print('결과는', t ,'입니다')"
      ],
      "metadata": {
        "colab": {
          "base_uri": "https://localhost:8080/"
        },
        "id": "PQKxjqagOqDy",
        "outputId": "feaf024e-e871-4aa2-8686-3fd0057e025e"
      },
      "execution_count": 28,
      "outputs": [
        {
          "output_type": "stream",
          "name": "stdout",
          "text": [
            "숫자:5\n",
            "결과는 55 입니다\n"
          ]
        }
      ]
    },
    {
      "cell_type": "markdown",
      "source": [
        "4-11"
      ],
      "metadata": {
        "id": "LMMK7GjSO_Ms"
      }
    },
    {
      "cell_type": "code",
      "source": [
        "depth = 30\n",
        "climb = 7\n",
        "slide = 5\n",
        "\n",
        "day = 0\n",
        "position = 0\n",
        "\n",
        "while position < depth:\n",
        "    day += 1\n",
        "    position += climb\n",
        "    print(f\"day: {day}  달팽이의 위치: {position} 미터\")\n",
        "\n",
        "    if position >= depth:\n",
        "        break\n",
        "\n",
        "    position -= slide\n",
        "\n",
        "print(f\"\\n우물을 탈출하는 데 걸린 날은 {day}일입니다.\")"
      ],
      "metadata": {
        "colab": {
          "base_uri": "https://localhost:8080/"
        },
        "id": "s_QR2gxpPluo",
        "outputId": "44c2afd1-6bf0-46f1-a0c0-38ec756d2fe5"
      },
      "execution_count": 33,
      "outputs": [
        {
          "output_type": "stream",
          "name": "stdout",
          "text": [
            "day: 1  달팽이의 위치: 7 미터\n",
            "day: 2  달팽이의 위치: 9 미터\n",
            "day: 3  달팽이의 위치: 11 미터\n",
            "day: 4  달팽이의 위치: 13 미터\n",
            "day: 5  달팽이의 위치: 15 미터\n",
            "day: 6  달팽이의 위치: 17 미터\n",
            "day: 7  달팽이의 위치: 19 미터\n",
            "day: 8  달팽이의 위치: 21 미터\n",
            "day: 9  달팽이의 위치: 23 미터\n",
            "day: 10  달팽이의 위치: 25 미터\n",
            "day: 11  달팽이의 위치: 27 미터\n",
            "day: 12  달팽이의 위치: 29 미터\n",
            "day: 13  달팽이의 위치: 31 미터\n",
            "\n",
            "우물을 탈출하는 데 걸린 날은13일입니다.\n"
          ]
        }
      ]
    },
    {
      "cell_type": "markdown",
      "source": [
        "4-13"
      ],
      "metadata": {
        "id": "oawNt8qwQwEx"
      }
    },
    {
      "cell_type": "code",
      "source": [
        "print(\"세 자리의 암스트롱 수 : \", end=\"\")\n",
        "\n",
        "for num in range(100, 1000):\n",
        "    hundreds = num // 100\n",
        "    tens = (num // 10) % 10\n",
        "    ones = num % 10\n",
        "\n",
        "    if (hundreds**3 + tens**3 + ones**3) == num:\n",
        "        print(num, end=\" \")"
      ],
      "metadata": {
        "colab": {
          "base_uri": "https://localhost:8080/"
        },
        "id": "uX3kQqj4QxMF",
        "outputId": "6350a032-4e11-49c5-fb91-5c0cce699ccc"
      },
      "execution_count": 32,
      "outputs": [
        {
          "output_type": "stream",
          "name": "stdout",
          "text": [
            "세 자리의 암스트롱 수 : 153 370 371 407 "
          ]
        }
      ]
    },
    {
      "cell_type": "markdown",
      "source": [
        "4-15"
      ],
      "metadata": {
        "id": "B3khi2ZHQ_i3"
      }
    },
    {
      "cell_type": "code",
      "source": [
        "fuel = 500\n",
        "\n",
        "while True:\n",
        "    change = int(input(\"충전 또는 사용한 연료를 +/- 기호와 함께 입력하세요: \"))\n",
        "    fuel += change  # 연료량 갱신\n",
        "\n",
        "    print(f\"현재 탱크량은 {fuel} 입니다.\")\n",
        "\n",
        "    if fuel < 50:\n",
        "        print(\"경고: 연료가 10% 미만이니 충전하세요!\")\n",
        "        break"
      ],
      "metadata": {
        "colab": {
          "base_uri": "https://localhost:8080/"
        },
        "id": "e2bdQbt4RAUd",
        "outputId": "45b3b22f-2455-4379-8978-812b53d13aba"
      },
      "execution_count": 35,
      "outputs": [
        {
          "output_type": "stream",
          "name": "stdout",
          "text": [
            "충전 또는 사용한 연료를 +/- 기호와 함께 입력하세요: +60\n",
            "현재 탱크량은 560 입니다.\n",
            "충전 또는 사용한 연료를 +/- 기호와 함께 입력하세요: -300\n",
            "현재 탱크량은 260 입니다.\n",
            "충전 또는 사용한 연료를 +/- 기호와 함께 입력하세요: -220\n",
            "현재 탱크량은 40 입니다.\n",
            "경고: 연료가 10% 미만이니 충전하세요!\n"
          ]
        }
      ]
    },
    {
      "cell_type": "markdown",
      "source": [
        "4-17"
      ],
      "metadata": {
        "id": "5TxmaNdcRlhh"
      }
    },
    {
      "cell_type": "code",
      "source": [
        "def sum_of_divisors(n):   #이거 너무 어렵습니다.........ㅠ_ㅠ\n",
        "    \"\"\"주어진 수 n의 진약수(자기 자신 제외) 합을 구하는 함수\"\"\"\n",
        "    divisors = {1}\n",
        "    for i in range(2, int(n**0.5) + 1):\n",
        "        if n % i == 0:\n",
        "            divisors.add(i)\n",
        "            if i != n // i:\n",
        "                divisors.add(n // i)\n",
        "    return sum(divisors)\n",
        "\n",
        "for num in range(1, 20001):\n",
        "    pair = sum_of_divisors(num)\n",
        "    if pair > num and sum_of_divisors(pair) == num:\n",
        "        print(f\"{num}의 친화수 {pair}\")\n",
        "        print(f\"{pair}의 친화수 {num}\")"
      ],
      "metadata": {
        "colab": {
          "base_uri": "https://localhost:8080/"
        },
        "id": "-rar99f9RmPt",
        "outputId": "7093a571-c133-4d42-8ff8-5c12da16d5c1"
      },
      "execution_count": 40,
      "outputs": [
        {
          "output_type": "stream",
          "name": "stdout",
          "text": [
            "220의 친화수 284\n",
            "284의 친화수 220\n",
            "1184의 친화수 1210\n",
            "1210의 친화수 1184\n",
            "2620의 친화수 2924\n",
            "2924의 친화수 2620\n",
            "5020의 친화수 5564\n",
            "5564의 친화수 5020\n",
            "6232의 친화수 6368\n",
            "6368의 친화수 6232\n",
            "10744의 친화수 10856\n",
            "10856의 친화수 10744\n",
            "12285의 친화수 14595\n",
            "14595의 친화수 12285\n",
            "17296의 친화수 18416\n",
            "18416의 친화수 17296\n"
          ]
        }
      ]
    }
  ]
}