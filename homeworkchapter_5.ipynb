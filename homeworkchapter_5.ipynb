{
  "nbformat": 4,
  "nbformat_minor": 0,
  "metadata": {
    "colab": {
      "provenance": [],
      "authorship_tag": "ABX9TyO6qkOFSXIy9b8OvEETO45a",
      "include_colab_link": true
    },
    "kernelspec": {
      "name": "python3",
      "display_name": "Python 3"
    },
    "language_info": {
      "name": "python"
    }
  },
  "cells": [
    {
      "cell_type": "markdown",
      "metadata": {
        "id": "view-in-github",
        "colab_type": "text"
      },
      "source": [
        "<a href=\"https://colab.research.google.com/github/giester/homework-uploading/blob/main/homeworkchapter_5.ipynb\" target=\"_parent\"><img src=\"https://colab.research.google.com/assets/colab-badge.svg\" alt=\"Open In Colab\"/></a>"
      ]
    },
    {
      "cell_type": "markdown",
      "source": [
        "5-1"
      ],
      "metadata": {
        "id": "VFyJwdVBl4jC"
      }
    },
    {
      "cell_type": "code",
      "execution_count": 1,
      "metadata": {
        "colab": {
          "base_uri": "https://localhost:8080/"
        },
        "id": "Nz_pzF6llYXM",
        "outputId": "b1cbd592-a63e-48f7-d909-a29861a06312"
      },
      "outputs": [
        {
          "output_type": "stream",
          "name": "stdout",
          "text": [
            "환영합니다.\n",
            "환영합니다.\n"
          ]
        }
      ],
      "source": [
        "def my_greet():\n",
        "    print(\"환영합니다.\")\n",
        "\n",
        "my_greet()\n",
        "my_greet()"
      ]
    },
    {
      "cell_type": "markdown",
      "source": [
        "5-5"
      ],
      "metadata": {
        "id": "0bom72lKl6Lr"
      }
    },
    {
      "cell_type": "code",
      "source": [
        "def inch2cm(inch):\n",
        "    return inch * 2.54\n",
        "\n",
        "for i in range(1, 6):\n",
        "    cm = inch2cm(i)\n",
        "    print(f\"{i} 인치 = {cm:.2f} 센티미터\")"
      ],
      "metadata": {
        "colab": {
          "base_uri": "https://localhost:8080/"
        },
        "id": "BKbT1aA2l3hL",
        "outputId": "4307245f-5c8c-4df7-8da5-52513a5cb3e6"
      },
      "execution_count": 2,
      "outputs": [
        {
          "output_type": "stream",
          "name": "stdout",
          "text": [
            "1 인치 = 2.54 센티미터\n",
            "2 인치 = 5.08 센티미터\n",
            "3 인치 = 7.62 센티미터\n",
            "4 인치 = 10.16 센티미터\n",
            "5 인치 = 12.70 센티미터\n"
          ]
        }
      ]
    },
    {
      "cell_type": "markdown",
      "source": [
        "5-9"
      ],
      "metadata": {
        "id": "cE9PAKvEmSC0"
      }
    },
    {
      "cell_type": "code",
      "source": [
        "def mean_of_n(nums):\n",
        "    return sum(nums) / len(nums)\n",
        "\n",
        "def max_of_n(nums):\n",
        "    return max(nums)\n",
        "\n",
        "\n",
        "def min_of_n(nums):\n",
        "    return min(nums)\n",
        "\n",
        "user_input = input(\"정수를 여러 개 입력하시오 : \")\n",
        "nums = list(map(int, user_input.split()))\n",
        "\n",
        "\n",
        "print(f\"평균값은 {mean_of_n(nums):.1f}\")\n",
        "print(f\"최댓값은 {max_of_n(nums)}\")\n",
        "print(f\"최솟값은 {min_of_n(nums)}\")"
      ],
      "metadata": {
        "colab": {
          "base_uri": "https://localhost:8080/"
        },
        "id": "8hLeDIEzmTTD",
        "outputId": "baf0c726-f371-4264-b7c2-05850e9bde78"
      },
      "execution_count": 4,
      "outputs": [
        {
          "output_type": "stream",
          "name": "stdout",
          "text": [
            "정수를 여러 개 입력하시오 : 1 5 8\n",
            "평균값은 4.7\n",
            "최댓값은 8\n",
            "최솟값은 1\n"
          ]
        }
      ]
    },
    {
      "cell_type": "markdown",
      "source": [
        "5-13"
      ],
      "metadata": {
        "id": "N9j7cwPRmxHj"
      }
    },
    {
      "cell_type": "code",
      "source": [
        "PI = 3.14\n",
        "\n",
        "\n",
        "def volume(shape, *args):\n",
        "    if shape == 'cube':\n",
        "        s = args[0]\n",
        "        return s ** 3\n",
        "    elif shape == 'rectangular':\n",
        "        w, h, l = args\n",
        "        return w * h * l\n",
        "    elif shape == 'cone':\n",
        "        r, h = args\n",
        "        return (1/3) * PI * r**2 * h\n",
        "    elif shape == 'sphere':\n",
        "        r = args[0]\n",
        "        return (4/3) * PI * r**3\n",
        "    elif shape == 'cylinder':\n",
        "        r, h = args\n",
        "        return PI * r**2 * h\n",
        "    else:\n",
        "        return None\n",
        "\n",
        "\n",
        "print(\"1) 정육면체, 모서리 12:\", volume('cube', 12))\n",
        "print(\"2) 정육면체, 모서리 20:\", volume('cube', 20))\n",
        "print(\"3) 직육면체, 가로 3, 세로 5, 높이 6:\", volume('rectangular', 3, 5, 6))\n",
        "print(\"4) 원뿔, 반지름 20, 높이 10:\", volume('cone', 20, 10))\n",
        "print(\"5) 구, 반지름 15:\", volume('sphere', 15))\n",
        "print(\"6) 원기둥, 반지름 20, 높이 10:\", volume('cylinder', 20, 10))"
      ],
      "metadata": {
        "colab": {
          "base_uri": "https://localhost:8080/"
        },
        "id": "zfgORwzLmyBx",
        "outputId": "9e452078-db5e-4ec8-9707-d10ccf07868a"
      },
      "execution_count": 5,
      "outputs": [
        {
          "output_type": "stream",
          "name": "stdout",
          "text": [
            "1) 정육면체, 모서리 12: 1728\n",
            "2) 정육면체, 모서리 20: 8000\n",
            "3) 직육면체, 가로 3, 세로 5, 높이 6: 90\n",
            "4) 원뿔, 반지름 20, 높이 10: 4186.666666666666\n",
            "5) 구, 반지름 15: 14130.0\n",
            "6) 원기둥, 반지름 20, 높이 10: 12560.0\n"
          ]
        }
      ]
    },
    {
      "cell_type": "markdown",
      "source": [
        "5-17"
      ],
      "metadata": {
        "id": "XPwgsaSOm8uZ"
      }
    },
    {
      "cell_type": "code",
      "source": [
        "def sum_range(n1, n2):\n",
        "    return sum(range(n1, n2 + 1))\n",
        "\n",
        "\n",
        "print(\"10에서 20까지의 정수의 합 : {}\".format(sum_range(10, 20)))\n",
        "print(\"40에서 100까지의 정수의 합 : {}\".format(sum_range(40, 100)))"
      ],
      "metadata": {
        "colab": {
          "base_uri": "https://localhost:8080/"
        },
        "id": "XbzmRDBPm9kT",
        "outputId": "d462c814-935e-4bb3-97ea-a723f5fdf7b0"
      },
      "execution_count": 6,
      "outputs": [
        {
          "output_type": "stream",
          "name": "stdout",
          "text": [
            "10에서 20까지의 정수의 합 : 165\n",
            "40에서 100까지의 정수의 합 : 4270\n"
          ]
        }
      ]
    },
    {
      "cell_type": "markdown",
      "source": [
        "5-21"
      ],
      "metadata": {
        "id": "mmF79qMenqp9"
      }
    },
    {
      "cell_type": "code",
      "source": [
        "def parse_rrn(rrn):\n",
        "    yy = int(rrn[:2])\n",
        "    mm = int(rrn[2:4])\n",
        "    dd = int(rrn[4:6])\n",
        "\n",
        "    # 연도 계산\n",
        "    if yy >= 50:\n",
        "        year = 1900 + yy\n",
        "    else:\n",
        "        year = 2000 + yy\n",
        "\n",
        "    # 결과 출력\n",
        "    print(f\"{year}년 {mm}월 {dd}일\")\n",
        "\n",
        "# 예시 입력\n",
        "rrn1 = \"570312\"\n",
        "rrn2 = \"011123\"\n",
        "\n",
        "print(\"주민등록번호 첫 6숫자 형식 입력:\", rrn1)\n",
        "parse_rrn(rrn1)\n",
        "print()\n",
        "print(\"주민등록번호 첫 6숫자 형식 입력:\", rrn2)\n",
        "parse_rrn(rrn2)"
      ],
      "metadata": {
        "colab": {
          "base_uri": "https://localhost:8080/"
        },
        "id": "MNU_P4lany-T",
        "outputId": "12c4cd5e-e1d9-4b94-fd9a-828168b966a7"
      },
      "execution_count": 7,
      "outputs": [
        {
          "output_type": "stream",
          "name": "stdout",
          "text": [
            "주민등록번호 첫 6숫자 형식 입력: 570312\n",
            "1957년 3월 12일\n",
            "\n",
            "주민등록번호 첫 6숫자 형식 입력: 011123\n",
            "2001년 11월 23일\n"
          ]
        }
      ]
    },
    {
      "cell_type": "markdown",
      "source": [
        "5-25"
      ],
      "metadata": {
        "id": "avzQzxkBoTgE"
      }
    },
    {
      "cell_type": "code",
      "source": [
        "s1 = 'Kang Young Min'\n",
        "s2 = 'Kang Young-Min'\n",
        "s3 = 'Park Dong Min'\n",
        "s4 = 'Park Dong-Yun'\n",
        "\n",
        "strings = [s1, s2, s3, s4]\n",
        "\n",
        "for s in strings:\n",
        "    original = s\n",
        "    modified = s.replace(\" \", \"\").replace(\"-\", \"\").upper()\n",
        "    count_n = modified.count('N')\n",
        "    print(f\"{original}(은)는 {modified}(으)로 수정됨\")\n",
        "    print(f\"문자 'N'은 {count_n}번 나타납니다.\\n\")"
      ],
      "metadata": {
        "colab": {
          "base_uri": "https://localhost:8080/"
        },
        "id": "PE2n_Hd6oUSC",
        "outputId": "359571d6-02e2-40b1-b6f0-83074b4ddb67"
      },
      "execution_count": 8,
      "outputs": [
        {
          "output_type": "stream",
          "name": "stdout",
          "text": [
            "Kang Young Min(은)는 KANGYOUNGMIN(으)로 수정됨\n",
            "문자 'N'은 3번 나타납니다.\n",
            "\n",
            "Kang Young-Min(은)는 KANGYOUNGMIN(으)로 수정됨\n",
            "문자 'N'은 3번 나타납니다.\n",
            "\n",
            "Park Dong Min(은)는 PARKDONGMIN(으)로 수정됨\n",
            "문자 'N'은 2번 나타납니다.\n",
            "\n",
            "Park Dong-Yun(은)는 PARKDONGYUN(으)로 수정됨\n",
            "문자 'N'은 2번 나타납니다.\n",
            "\n"
          ]
        }
      ]
    }
  ]
}