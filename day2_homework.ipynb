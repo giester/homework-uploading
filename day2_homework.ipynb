{
  "nbformat": 4,
  "nbformat_minor": 0,
  "metadata": {
    "colab": {
      "provenance": [],
      "authorship_tag": "ABX9TyOk5RZlLuLhMZEgETFuwcGb",
      "include_colab_link": true
    },
    "kernelspec": {
      "name": "python3",
      "display_name": "Python 3"
    },
    "language_info": {
      "name": "python"
    }
  },
  "cells": [
    {
      "cell_type": "markdown",
      "metadata": {
        "id": "view-in-github",
        "colab_type": "text"
      },
      "source": [
        "<a href=\"https://colab.research.google.com/github/giester/homework-uploading/blob/main/day2_homework.ipynb\" target=\"_parent\"><img src=\"https://colab.research.google.com/assets/colab-badge.svg\" alt=\"Open In Colab\"/></a>"
      ]
    },
    {
      "cell_type": "markdown",
      "source": [
        "코드 2-2 변수와 친해지기: 원의 반지름, 면적 , 둘레를 출력하는 프로그램"
      ],
      "metadata": {
        "id": "TaNEYdtvR4YZ"
      }
    },
    {
      "cell_type": "code",
      "execution_count": 2,
      "metadata": {
        "colab": {
          "base_uri": "https://localhost:8080/"
        },
        "id": "QMhEBmmkRf-B",
        "outputId": "0819cd1d-7871-4a08-d0e5-403d8c1c11f9"
      },
      "outputs": [
        {
          "output_type": "stream",
          "name": "stdout",
          "text": [
            "원의 반지름 4.0\n",
            "원의 반지름 50.24\n",
            "원의 둘레 25.12\n"
          ]
        }
      ],
      "source": [
        "print('원의 반지름', 4.0)\n",
        "print('원의 반지름', 3.14 * 4.0 * 4.0)\n",
        "print('원의 둘레', 2.0 * 3.14 * 4.0)"
      ]
    },
    {
      "cell_type": "markdown",
      "source": [
        " 코드 2-3 : 변수를 이용하여 원의 면적과 둘레를 구하는방법"
      ],
      "metadata": {
        "id": "r3Hc7PpqS8Q0"
      }
    },
    {
      "cell_type": "code",
      "source": [
        "r = 4.0                    # 변수 사용방법 적용\n",
        "print('원의 반지름', r)    # 4.0이 반복적으로 사용되니 변수로 지정해 편하게 쓴다\n",
        "print('원의 면적', 3.14 * r * r)\n",
        "print('원의 반지름', 2.0 * 3.14 * r)"
      ],
      "metadata": {
        "colab": {
          "base_uri": "https://localhost:8080/"
        },
        "id": "9E1WU-HgS7gv",
        "outputId": "bc06a417-a6d1-4e4e-f0b2-39b3f6942303"
      },
      "execution_count": 4,
      "outputs": [
        {
          "output_type": "stream",
          "name": "stdout",
          "text": [
            "원의 반지름 4.0\n",
            "원의 면적 50.24\n",
            "원의 반지름 25.12\n"
          ]
        }
      ]
    },
    {
      "cell_type": "markdown",
      "source": [
        "코드 2-4 : 변수를 이용하여 원의 면적과 둘레를 구하는방법"
      ],
      "metadata": {
        "id": "a1tLBkFaTZFu"
      }
    },
    {
      "cell_type": "code",
      "source": [
        "r = 6.0\n",
        "print('원의 반지름', r)\n",
        "print('원의 면적', 3.14 * r * r)\n",
        "print('원의 반지름', 2.0 * 3.14 * r)"
      ],
      "metadata": {
        "colab": {
          "base_uri": "https://localhost:8080/"
        },
        "id": "5i3eO1mMTbDY",
        "outputId": "35f1db14-2207-4efb-f213-35f322e5050b"
      },
      "execution_count": 5,
      "outputs": [
        {
          "output_type": "stream",
          "name": "stdout",
          "text": [
            "원의 반지름 6.0\n",
            "원의 면적 113.03999999999999\n",
            "원의 반지름 37.68\n"
          ]
        }
      ]
    },
    {
      "cell_type": "markdown",
      "source": [
        "2.3 변수의 선언"
      ],
      "metadata": {
        "id": "7L7MJNKnT8fU"
      }
    },
    {
      "cell_type": "code",
      "source": [
        "name = ' 윤상현'\n",
        "print('이름 :',  name)\n",
        "\n",
        "width = 10\n",
        "height = 5\n",
        "rectangle_area = width * height\n",
        "print('사각형의 면적 :', rectangle_area)"
      ],
      "metadata": {
        "colab": {
          "base_uri": "https://localhost:8080/"
        },
        "id": "jo8TO-BYUDEZ",
        "outputId": "5a45be90-4a32-4d55-c310-09eccd196947"
      },
      "execution_count": 7,
      "outputs": [
        {
          "output_type": "stream",
          "name": "stdout",
          "text": [
            "이름 :  윤상현\n",
            "사각형의 면적 : 50\n"
          ]
        }
      ]
    },
    {
      "cell_type": "markdown",
      "source": [
        "LAB 2-4 : 코드를 입력해 보고 그 출력결과를 밑줄 부분에 적으시오"
      ],
      "metadata": {
        "id": "7FOrg6G4UYDS"
      }
    },
    {
      "cell_type": "code",
      "source": [
        "name = '윤상현'\n",
        "print('나의 이름은:', name)\n",
        "\n",
        "age = 26\n",
        "print(' 나의 나이는 :', age)\n",
        "\n",
        "height = 170\n",
        "print('나의 키는', height, 'cm 입니다.')\n",
        "\n",
        "sum = 10 + 20\n",
        "print('10 + 20 =', sum)\n",
        "\n",
        "mult = 10 * 20\n",
        "print('10 * 20=', mult)"
      ],
      "metadata": {
        "colab": {
          "base_uri": "https://localhost:8080/"
        },
        "id": "uFzh6Na0Udqh",
        "outputId": "8c53cc07-5af7-4f5b-ed27-cfb6273c8211"
      },
      "execution_count": 9,
      "outputs": [
        {
          "output_type": "stream",
          "name": "stdout",
          "text": [
            "나의 이름은: 윤상현\n",
            " 나의 나이는 : 26\n",
            "나의 키는 170 cm 입니다.\n",
            "10 + 20 = 30\n",
            "10 * 20= 200\n"
          ]
        }
      ]
    },
    {
      "cell_type": "markdown",
      "source": [
        "코드 2-5 : 변수에 값을 지정하고 출력하기"
      ],
      "metadata": {
        "id": "TNwvWO8iVVM7"
      }
    },
    {
      "cell_type": "code",
      "source": [
        "name = '윤상현'\n",
        "age = 26\n",
        "print('안녕하세요', name,'입니다. 저는 나이가', age, '살입니다')"
      ],
      "metadata": {
        "colab": {
          "base_uri": "https://localhost:8080/"
        },
        "id": "qRJAfmVEVY1s",
        "outputId": "67211b38-6e72-4be3-ce28-0a3abfbdb99a"
      },
      "execution_count": 10,
      "outputs": [
        {
          "output_type": "stream",
          "name": "stdout",
          "text": [
            "안녕하세요 윤상현 입니다. 저는 나이가 26 살입니다\n"
          ]
        }
      ]
    },
    {
      "cell_type": "markdown",
      "source": [
        "코드 2-6 : 변수에 새로운 값을 할당하기"
      ],
      "metadata": {
        "id": "GUo4pigmVx4p"
      }
    },
    {
      "cell_type": "code",
      "source": [
        "name = '윤상현'\n",
        "age = 26\n",
        "print('안녕하세요', name,'입니다. 저는 나이가', age, '살입니다')\n",
        "\n",
        "name = '春日 歩'\n",
        "age = 38\n",
        "print('こんにちは。', name,'です。 私は年が', age, 'です。')"
      ],
      "metadata": {
        "colab": {
          "base_uri": "https://localhost:8080/"
        },
        "id": "sFn2Pl8PV1qj",
        "outputId": "2d7c90d0-0baa-4c30-cebe-b84aaaad0318"
      },
      "execution_count": 12,
      "outputs": [
        {
          "output_type": "stream",
          "name": "stdout",
          "text": [
            "안녕하세요 윤상현 입니다. 저는 나이가 26 살입니다\n",
            "こんにちは。 春日 歩 です。 私は年が 38 です。\n"
          ]
        }
      ]
    },
    {
      "cell_type": "markdown",
      "source": [
        "LAB 2-6 : 변수 값의 재지정"
      ],
      "metadata": {
        "id": "kDVqbeDxW4P4"
      }
    },
    {
      "cell_type": "code",
      "source": [
        "width = 20\n",
        "height = 40\n",
        "width = 30\n",
        "area = width * height\n",
        "print('사각형의 면적', area)"
      ],
      "metadata": {
        "colab": {
          "base_uri": "https://localhost:8080/"
        },
        "id": "iPQfDlEAW6dO",
        "outputId": "a631744f-fb92-4437-b9aa-958f21157bb6"
      },
      "execution_count": 13,
      "outputs": [
        {
          "output_type": "stream",
          "name": "stdout",
          "text": [
            "사각형의 면적 1200\n"
          ]
        }
      ]
    },
    {
      "cell_type": "markdown",
      "source": [
        "대화창 실습 : 파이썬 표헌식의 사용"
      ],
      "metadata": {
        "id": "ZAHLc5kJXVJB"
      }
    },
    {
      "cell_type": "code",
      "source": [
        "print(4 + 10)    # print 없이 그냥 구동하니 마지막 11 % 2만 나옴 + 각각 print  추가함\n",
        "print(4.0 - 0.1)\n",
        "print(20 * 20)\n",
        "print(11 / 2)\n",
        "print(11 // 2)\n",
        "print(11 % 2)\n",
        "\n",
        "print(4 ** 0.5)\n",
        "print(4 ** 5)"
      ],
      "metadata": {
        "colab": {
          "base_uri": "https://localhost:8080/"
        },
        "id": "q2upIaFeXYOF",
        "outputId": "63cb2187-6fd2-45e8-9844-7e2ea764cdbe"
      },
      "execution_count": 19,
      "outputs": [
        {
          "output_type": "stream",
          "name": "stdout",
          "text": [
            "14\n",
            "3.9\n",
            "400\n",
            "5.5\n",
            "5\n",
            "1\n",
            "2.0\n",
            "1024\n"
          ]
        }
      ]
    },
    {
      "cell_type": "markdown",
      "source": [
        "LAB 2-7 : 파이썬 연산자의 사용"
      ],
      "metadata": {
        "id": "uORHvy8iX_H7"
      }
    },
    {
      "cell_type": "code",
      "source": [
        "print(123 * 456)\n",
        "print(1357 + 2468)\n",
        "print(5 ** 4)\n",
        "print(10 / 4)\n",
        "print(10 // 5)\n",
        "print(10 % 5)"
      ],
      "metadata": {
        "colab": {
          "base_uri": "https://localhost:8080/"
        },
        "id": "Gg25jl2UYCJn",
        "outputId": "9c1576d9-dd96-40e6-f69d-d5fb7d88c0f6"
      },
      "execution_count": 20,
      "outputs": [
        {
          "output_type": "stream",
          "name": "stdout",
          "text": [
            "56088\n",
            "3825\n",
            "625\n",
            "2.5\n",
            "2\n",
            "0\n"
          ]
        }
      ]
    }
  ]
}