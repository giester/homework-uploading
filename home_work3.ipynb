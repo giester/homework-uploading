{
  "nbformat": 4,
  "nbformat_minor": 0,
  "metadata": {
    "colab": {
      "provenance": [],
      "authorship_tag": "ABX9TyNjPH96s+3BSDbbY/AZs74J",
      "include_colab_link": true
    },
    "kernelspec": {
      "name": "python3",
      "display_name": "Python 3"
    },
    "language_info": {
      "name": "python"
    }
  },
  "cells": [
    {
      "cell_type": "markdown",
      "metadata": {
        "id": "view-in-github",
        "colab_type": "text"
      },
      "source": [
        "<a href=\"https://colab.research.google.com/github/giester/homework-uploading/blob/main/home_work3.ipynb\" target=\"_parent\"><img src=\"https://colab.research.google.com/assets/colab-badge.svg\" alt=\"Open In Colab\"/></a>"
      ]
    },
    {
      "cell_type": "markdown",
      "source": [
        "으뜸파이썬 연습문제"
      ],
      "metadata": {
        "id": "ISpoZ2dHM0hZ"
      }
    },
    {
      "cell_type": "markdown",
      "source": [
        "2-1"
      ],
      "metadata": {
        "id": "8U7xgFSNM44l"
      }
    },
    {
      "cell_type": "code",
      "execution_count": 3,
      "metadata": {
        "colab": {
          "base_uri": "https://localhost:8080/"
        },
        "id": "QSh1Ap7bMb_R",
        "outputId": "b4e30d81-8b51-4409-897a-2c594edb2737"
      },
      "outputs": [
        {
          "output_type": "stream",
          "name": "stdout",
          "text": [
            "100 + 200 = 300\n",
            "200 + 300 + 400 = 900\n"
          ]
        }
      ],
      "source": [
        "print( 100,'+', 200 , '=', 100 + 200)\n",
        "\n",
        "print( 200,'+', 300 , '+' ,400, '=', 200 + 300 + 400)"
      ]
    },
    {
      "cell_type": "markdown",
      "source": [
        "2-2"
      ],
      "metadata": {
        "id": "QwrEA7aUNm1H"
      }
    },
    {
      "cell_type": "code",
      "source": [
        "weight = 30\n",
        "heigth = 60\n",
        "\n",
        "print(weight)\n",
        "print(heigth)"
      ],
      "metadata": {
        "colab": {
          "base_uri": "https://localhost:8080/"
        },
        "id": "nfBd08kNM0HG",
        "outputId": "bdb96ffa-798c-404c-fa8f-b4b83a693682"
      },
      "execution_count": 6,
      "outputs": [
        {
          "output_type": "stream",
          "name": "stdout",
          "text": [
            "30\n",
            "60\n"
          ]
        }
      ]
    },
    {
      "cell_type": "markdown",
      "source": [
        "2-3"
      ],
      "metadata": {
        "id": "lTx7y-0yOLrG"
      }
    },
    {
      "cell_type": "code",
      "source": [
        "width = 30\n",
        "height = 60\n",
        "\n",
        "area = width * height\n",
        "\n",
        "print(\"사각형의 면적:\", area)"
      ],
      "metadata": {
        "colab": {
          "base_uri": "https://localhost:8080/"
        },
        "id": "XGWnS1OmOM0t",
        "outputId": "9a4340c5-36d1-40fa-8d23-3583d1d34f5b"
      },
      "execution_count": 8,
      "outputs": [
        {
          "output_type": "stream",
          "name": "stdout",
          "text": [
            "사각형의 면적: 1800\n"
          ]
        }
      ]
    },
    {
      "cell_type": "markdown",
      "source": [
        "2-4"
      ],
      "metadata": {
        "id": "eYOfzkk5O_Jh"
      }
    },
    {
      "cell_type": "code",
      "source": [
        "width = 40\n",
        "height = 20\n",
        "\n",
        "area = (width * height) / 2\n",
        "\n",
        "print(\"삼각형의 면적:\", area)"
      ],
      "metadata": {
        "colab": {
          "base_uri": "https://localhost:8080/"
        },
        "id": "ruXMX_ExPBRj",
        "outputId": "8ce0fde3-59a1-465d-fb23-acf1a5662b1a"
      },
      "execution_count": 67,
      "outputs": [
        {
          "output_type": "stream",
          "name": "stdout",
          "text": [
            "삼각형의 면적: 400.0\n"
          ]
        }
      ]
    },
    {
      "cell_type": "markdown",
      "source": [
        "2-5"
      ],
      "metadata": {
        "id": "AM3SG9AHPcVW"
      }
    },
    {
      "cell_type": "code",
      "source": [
        "side = int(input(\"정사각형의 밑변을 입력하시오: \"))\n",
        "\n",
        "area = side ** 2\n",
        "\n",
        "print(\"정사각형의 면적:\", area)"
      ],
      "metadata": {
        "colab": {
          "base_uri": "https://localhost:8080/"
        },
        "id": "IS2gYFKNPdQg",
        "outputId": "f5d5985e-10ca-46fd-9f92-f76e365f7f01"
      },
      "execution_count": 12,
      "outputs": [
        {
          "output_type": "stream",
          "name": "stdout",
          "text": [
            "정사각형의 밑변을 입력하시오: 40\n",
            "정사각형의 면적: 1600\n"
          ]
        }
      ]
    },
    {
      "cell_type": "markdown",
      "source": [
        "2-6"
      ],
      "metadata": {
        "id": "Yzr_a5QwP_Oe"
      }
    },
    {
      "cell_type": "code",
      "source": [
        "a = sum(range(1, 11))\n",
        "\n",
        "\n",
        "print('1에서 10까지의 합:', a)"
      ],
      "metadata": {
        "colab": {
          "base_uri": "https://localhost:8080/"
        },
        "id": "PF5B3iXvQBP0",
        "outputId": "c91bdaca-66cd-4312-9839-e043bf1e912b"
      },
      "execution_count": 61,
      "outputs": [
        {
          "output_type": "stream",
          "name": "stdout",
          "text": [
            "1에서 10까지의 합: 55\n"
          ]
        }
      ]
    },
    {
      "cell_type": "markdown",
      "source": [
        "2-7"
      ],
      "metadata": {
        "id": "tDK56qPiYJ4J"
      }
    },
    {
      "cell_type": "code",
      "source": [
        "print('10! =', 1 * 2 * 3 * 4 * 5 * 6 * 7 * 8 * 9 * 10)"
      ],
      "metadata": {
        "colab": {
          "base_uri": "https://localhost:8080/"
        },
        "id": "Ye7fexVAYK3n",
        "outputId": "c9331993-5445-43d6-ee6f-ec39d3cec1f2"
      },
      "execution_count": 66,
      "outputs": [
        {
          "output_type": "stream",
          "name": "stdout",
          "text": [
            "10! = 3628800\n"
          ]
        }
      ]
    },
    {
      "cell_type": "markdown",
      "source": [
        "2-8"
      ],
      "metadata": {
        "id": "kcQMtELzQ0qB"
      }
    },
    {
      "cell_type": "code",
      "source": [
        "a = 2\n",
        "n = 2\n",
        "\n",
        "print(\"a  n  a**n\")\n",
        "print(a, n, a**n)\n",
        "print(a+1, n, (a+1)**n)\n",
        "print(a+2, n, (a+2)**n)\n",
        "print(a+3, n, (a+3)**n)\n",
        "print(a+4, n, (a+4)**n)"
      ],
      "metadata": {
        "colab": {
          "base_uri": "https://localhost:8080/"
        },
        "id": "z2CImVWQSJt4",
        "outputId": "10bad3f4-3fee-4229-c015-a59000cef2f7"
      },
      "execution_count": 24,
      "outputs": [
        {
          "output_type": "stream",
          "name": "stdout",
          "text": [
            "a  n  a**n\n",
            "2 2 4\n",
            "3 2 9\n",
            "4 2 16\n",
            "5 2 25\n",
            "6 2 36\n"
          ]
        }
      ]
    },
    {
      "cell_type": "markdown",
      "source": [
        "2-9"
      ],
      "metadata": {
        "id": "kIdJKXqVZR65"
      }
    },
    {
      "cell_type": "code",
      "source": [
        "def celsius_to_fahrenheit(celsius):\n",
        "    return (celsius * 9/5) + 32\n",
        "\n",
        "print(f\"{'섭씨':<10} {'화씨'}\")\n",
        "\n",
        "for celsius in range(0, 51, 10):\n",
        "    fahrenheit = celsius_to_fahrenheit(celsius)\n",
        "    print(f\"{celsius:<10} {fahrenheit}\")"
      ],
      "metadata": {
        "colab": {
          "base_uri": "https://localhost:8080/"
        },
        "id": "qPCvBHxEZQyz",
        "outputId": "f1625b03-708d-4caa-ea50-8dcfeb1b961b"
      },
      "execution_count": 71,
      "outputs": [
        {
          "output_type": "stream",
          "name": "stdout",
          "text": [
            "섭씨         화씨\n",
            "0          32.0\n",
            "10         50.0\n",
            "20         68.0\n",
            "30         86.0\n",
            "40         104.0\n",
            "50         122.0\n"
          ]
        }
      ]
    },
    {
      "cell_type": "markdown",
      "source": [
        "2-10"
      ],
      "metadata": {
        "id": "bk7_vG5YSkha"
      }
    },
    {
      "cell_type": "code",
      "source": [
        "a = int(input('섭씨온도를 입력하세요:'))\n",
        "print('섭씨',a,'도는 화씨', (9/5) * a+32,'도입니다')"
      ],
      "metadata": {
        "colab": {
          "base_uri": "https://localhost:8080/"
        },
        "id": "AjWItuj0SkPS",
        "outputId": "7e1d57f5-f6ea-4188-8321-6a36f8f0c101"
      },
      "execution_count": 26,
      "outputs": [
        {
          "output_type": "stream",
          "name": "stdout",
          "text": [
            "섭씨온도를 입력하세요:30\n",
            "섭씨 30 도는 화씨 86.0 도입니다\n"
          ]
        }
      ]
    },
    {
      "cell_type": "markdown",
      "source": [
        "2-11"
      ],
      "metadata": {
        "id": "O8ZIjZT0Z88x"
      }
    },
    {
      "cell_type": "code",
      "source": [
        "a = int(input('화씨온도를 입력하세요:'))\n",
        "print('화씨',a,'도는 섭씨', (a-32) * 5/9 ,'도입니다')"
      ],
      "metadata": {
        "colab": {
          "base_uri": "https://localhost:8080/"
        },
        "id": "0N11NaR7Z9sq",
        "outputId": "720657f9-a888-4d96-a0be-4f0bc93ad9db"
      },
      "execution_count": 82,
      "outputs": [
        {
          "output_type": "stream",
          "name": "stdout",
          "text": [
            "화씨온도를 입력하세요:86\n",
            "화씨 86 도는 섭씨 30.0 도입니다\n"
          ]
        }
      ]
    },
    {
      "cell_type": "markdown",
      "source": [
        "2-12"
      ],
      "metadata": {
        "id": "NdoptYZHa5EC"
      }
    },
    {
      "cell_type": "code",
      "source": [
        "PI = 3.141592\n",
        "radius = 11\n",
        "\n",
        "circumference = 2 * PI * radius\n",
        "area = PI * radius ** 2\n",
        "\n",
        "print(f\"원의 반지름 = {radius}\")\n",
        "print(f\"원의 둘레 = {circumference}\")\n",
        "print(f\"원의 면적 = {area}\")"
      ],
      "metadata": {
        "colab": {
          "base_uri": "https://localhost:8080/"
        },
        "id": "RqOGQvtaa6jW",
        "outputId": "107b9966-7251-422a-9273-52c235d154b0"
      },
      "execution_count": 84,
      "outputs": [
        {
          "output_type": "stream",
          "name": "stdout",
          "text": [
            "원의 반지름 = 11\n",
            "원의 둘레 = 69.115024\n",
            "원의 면적 = 380.132632\n"
          ]
        }
      ]
    },
    {
      "cell_type": "markdown",
      "source": [
        "2-13"
      ],
      "metadata": {
        "id": "UfE7fKLkboRi"
      }
    },
    {
      "cell_type": "code",
      "source": [
        "PI = 3.141592\n",
        "radius = int(input('원의 반지름을를 입력하세요:'))\n",
        "\n",
        "circumference = 2 * PI * radius\n",
        "area = PI * radius ** 2\n",
        "\n",
        "print(f\"원의 반지름 = {radius}\")\n",
        "print(f\"원의 둘레 = {circumference}\")\n",
        "print(f\"원의 면적 = {area}\")"
      ],
      "metadata": {
        "colab": {
          "base_uri": "https://localhost:8080/"
        },
        "id": "IuSAh3oebpF-",
        "outputId": "dd1696b4-eb45-4d64-9460-e0d96d46cd92"
      },
      "execution_count": 88,
      "outputs": [
        {
          "output_type": "stream",
          "name": "stdout",
          "text": [
            "원의 반지름을를 입력하세요:11\n",
            "원의 반지름 = 11\n",
            "원의 둘레 = 69.115024\n",
            "원의 면적 = 380.132632\n"
          ]
        }
      ]
    },
    {
      "cell_type": "markdown",
      "source": [
        "2-14"
      ],
      "metadata": {
        "id": "M7P_9nOKTVCg"
      }
    },
    {
      "cell_type": "code",
      "source": [
        "r = 0.5\n",
        "\n",
        "print('2의 제곱근 =', 2 ** r)\n",
        "print('3의 제곱근 =', 3 ** r)\n",
        "print('4의 제곱근 =', 4 ** r)\n",
        "print('5의 제곱근 =', 5 ** r)\n",
        "print('6의 제곱근 =', 6 ** r)\n",
        "print('7의 제곱근 =', 7 ** r)\n",
        "print('8의 제곱근 =', 8 ** r)\n",
        "print('9의 제곱근 =', 9 ** r)\n",
        "print('10의 제곱근 =', 10 ** r)"
      ],
      "metadata": {
        "colab": {
          "base_uri": "https://localhost:8080/"
        },
        "id": "FbSFRWaOTVxg",
        "outputId": "a12db00c-7d4f-4bc7-dd75-e417aaea6fcc"
      },
      "execution_count": 33,
      "outputs": [
        {
          "output_type": "stream",
          "name": "stdout",
          "text": [
            "2의 제곱근 = 1.4142135623730951\n",
            "3의 제곱근 = 1.7320508075688772\n",
            "4의 제곱근 = 2.0\n",
            "5의 제곱근 = 2.23606797749979\n",
            "6의 제곱근 = 2.449489742783178\n",
            "7의 제곱근 = 2.6457513110645907\n",
            "8의 제곱근 = 2.8284271247461903\n",
            "9의 제곱근 = 3.0\n",
            "10의 제곱근 = 3.1622776601683795\n"
          ]
        }
      ]
    },
    {
      "cell_type": "markdown",
      "source": [
        "2-15"
      ],
      "metadata": {
        "id": "KGviElexb_GC"
      }
    },
    {
      "cell_type": "code",
      "source": [
        "a = int(input('밑변을 입력하세요:'))\n",
        "b = int(input('높이를을 입력하세요:'))\n",
        "c = print('빗변 :',(a**2 + b**2)**0.5)"
      ],
      "metadata": {
        "colab": {
          "base_uri": "https://localhost:8080/"
        },
        "id": "G4YoleWacAK4",
        "outputId": "c1728568-24d6-4486-9ce0-9ce28b0a8d09"
      },
      "execution_count": 98,
      "outputs": [
        {
          "output_type": "stream",
          "name": "stdout",
          "text": [
            "밑변을 입력하세요:5\n",
            "높이를을 입력하세요:12\n",
            "빗변 : 13.0\n"
          ]
        }
      ]
    },
    {
      "cell_type": "markdown",
      "source": [
        "2-16"
      ],
      "metadata": {
        "id": "P3dwbNRZdEXN"
      }
    },
    {
      "cell_type": "code",
      "source": [
        "#어려움!!!!!!!!!!\n",
        "\n",
        "# 원래 복소수\n",
        "z = 1 + 2j\n",
        "\n",
        "# 회전 각도 (90도 = π/2 라디안)\n",
        "theta = cmath.pi / 2\n",
        "\n",
        "# 회전된 복소수 계산\n",
        "z_rotated = z * cmath.exp(1j * theta)\n",
        "\n",
        "# 결과 출력\n",
        "print(\"회전하기 전:\", z)\n",
        "print(\"90도 회전한 후:\", z_rotated)"
      ],
      "metadata": {
        "colab": {
          "base_uri": "https://localhost:8080/"
        },
        "id": "AQo-HRCHdFOG",
        "outputId": "54777ef2-af6c-473c-c4ff-45b6d8c242b2"
      },
      "execution_count": 102,
      "outputs": [
        {
          "output_type": "stream",
          "name": "stdout",
          "text": [
            "회전하기 전: (1+2j)\n",
            "90도 회전한 후: (-2+1.0000000000000002j)\n"
          ]
        }
      ]
    },
    {
      "cell_type": "markdown",
      "source": [
        "2-17"
      ],
      "metadata": {
        "id": "w6qMoVU2dsXI"
      }
    },
    {
      "cell_type": "code",
      "source": [
        "powers_of_two = []\n",
        "\n",
        "for i in range(10):\n",
        "    result = 2 ** (i + 1)\n",
        "    powers_of_two.append(result)\n",
        "\n",
        "print(powers_of_two)"
      ],
      "metadata": {
        "colab": {
          "base_uri": "https://localhost:8080/"
        },
        "id": "yAfj0WRddtDX",
        "outputId": "b5516475-8a69-49f7-8666-8344b5676d07"
      },
      "execution_count": 105,
      "outputs": [
        {
          "output_type": "stream",
          "name": "stdout",
          "text": [
            "[2, 4, 8, 16, 32, 64, 128, 256, 512, 1024]\n"
          ]
        }
      ]
    },
    {
      "cell_type": "markdown",
      "source": [
        "2-18"
      ],
      "metadata": {
        "id": "hTTHm7sqefoz"
      }
    },
    {
      "cell_type": "code",
      "source": [
        "a = int(input('정수를 입력하세요: '))\n",
        "\n",
        "# 조건문을 사용하여 짝수인지 확인\n",
        "if a % 2 == 0:\n",
        "    print('이 수가 짝수인가요? True')\n",
        "else:\n",
        "   print('이 수가 짝수인가요? False')\n"
      ],
      "metadata": {
        "colab": {
          "base_uri": "https://localhost:8080/"
        },
        "id": "uzswX_sregad",
        "outputId": "f6c86dc5-a5fc-47e1-a68b-972c069ea015"
      },
      "execution_count": 117,
      "outputs": [
        {
          "output_type": "stream",
          "name": "stdout",
          "text": [
            "정수를 입력하세요: 21\n",
            "이 수가 짝수인가요? False\n"
          ]
        }
      ]
    },
    {
      "cell_type": "markdown",
      "source": [
        "2-19"
      ],
      "metadata": {
        "id": "KcRGL2umUFG3"
      }
    },
    {
      "cell_type": "code",
      "source": [
        "a = int(input('정수를 입력하세요: '))\n",
        "if 0 < a <= 100 and a % 2 == 0:\n",
        "    print('입력된 정수는 0에서 100의 범위 안에 있는 짝수인가요 True')\n",
        "else:\n",
        "    print('입력된 정수는 0에서 100의 범위 안에 있는 짝수인가요 False')\n"
      ],
      "metadata": {
        "colab": {
          "base_uri": "https://localhost:8080/"
        },
        "id": "KiGQE3IgUGBM",
        "outputId": "62b86acf-6268-464b-8f34-6b58bae0c4e1"
      },
      "execution_count": 48,
      "outputs": [
        {
          "output_type": "stream",
          "name": "stdout",
          "text": [
            "정수를 입력하세요: 2\n",
            "입력된 정수는 0에서 100의 범위 안에 있는 짝수인가요 True.\n"
          ]
        }
      ]
    },
    {
      "cell_type": "markdown",
      "source": [
        "2-20"
      ],
      "metadata": {
        "id": "Sw2PEbCrfVpU"
      }
    },
    {
      "cell_type": "code",
      "source": [
        "a = 5\n",
        "b = 6\n",
        "\n",
        "and_result = a & b\n",
        "or_result = a | b\n",
        "xor_result = a ^ b\n",
        "\n",
        "print(f'0b{bin(a)[2:]} & 0b{bin(b)[2:]} = 0b{bin(and_result)[2:]}')\n",
        "print(f'0b{bin(a)[2:]} | 0b{bin(b)[2:]} = 0b{bin(or_result)[2:]}')\n",
        "print(f'0b{bin(a)[2:]} ^ 0b{bin(b)[2:]} = 0b{bin(xor_result)[2:]}')"
      ],
      "metadata": {
        "colab": {
          "base_uri": "https://localhost:8080/"
        },
        "id": "7eNYAiPjfWV-",
        "outputId": "5e8c8f07-86d6-4fee-9c41-e477c46ca1cd"
      },
      "execution_count": 119,
      "outputs": [
        {
          "output_type": "stream",
          "name": "stdout",
          "text": [
            "0b101 & 0b110 = 0b100\n",
            "0b101 | 0b110 = 0b111\n",
            "0b101 ^ 0b110 = 0b11\n"
          ]
        }
      ]
    },
    {
      "cell_type": "markdown",
      "source": [
        "2-21"
      ],
      "metadata": {
        "id": "EkabF78JVwRb"
      }
    },
    {
      "cell_type": "code",
      "source": [
        "a = int(input('정수를 입력하시오 :'))\n",
        "print(a, '의 2진수 값:', bin(a))\n",
        "print(a,'의 2진수 값에 대한 비트단위 부정값 :',bin(~a))"
      ],
      "metadata": {
        "colab": {
          "base_uri": "https://localhost:8080/"
        },
        "id": "XoOlKdKpVxFV",
        "outputId": "5c23a709-70f0-40ff-80ac-4c25c013d471"
      },
      "execution_count": 50,
      "outputs": [
        {
          "output_type": "stream",
          "name": "stdout",
          "text": [
            "정수를 입력하시오 :9\n",
            "9 의 2진수 값: 0b1001\n",
            "9 의 2진수 값에 대한 비트단위 부정값 : -0b1010\n"
          ]
        }
      ]
    },
    {
      "cell_type": "markdown",
      "source": [
        "2-22"
      ],
      "metadata": {
        "id": "p60hyVM_gBkT"
      }
    },
    {
      "cell_type": "code",
      "source": [
        "a = int(input('정수 a를 입력하세요: '))\n",
        "b = int(input('정수 b를 입력하세요: '))\n",
        "\n",
        "quotient = a // b\n",
        "remainder = a % b\n",
        "\n",
        "print(f'a / b의 몫: {quotient}')\n",
        "print(f'a / b의 나머지: {remainder}')"
      ],
      "metadata": {
        "colab": {
          "base_uri": "https://localhost:8080/"
        },
        "id": "oqsgzFn4gCpq",
        "outputId": "75d37a38-6adc-4db5-c1eb-8065daac7c03"
      },
      "execution_count": 130,
      "outputs": [
        {
          "output_type": "stream",
          "name": "stdout",
          "text": [
            "정수 a를 입력하세요: 202\n",
            "정수 b를 입력하세요: 50\n",
            "a / b의 몫: 4\n",
            "a / b의 나머지: 2\n"
          ]
        }
      ]
    },
    {
      "cell_type": "markdown",
      "source": [
        "2-23"
      ],
      "metadata": {
        "id": "ptxreUwXgP4D"
      }
    },
    {
      "cell_type": "code",
      "source": [
        "a = int(input('세 자리 정수를 입력하시오: '))\n",
        "\n",
        "hundreds = a // 100          # 백의 자리\n",
        "tens = (a // 10) % 10        # 십의 자리\n",
        "units = a % 10               # 일의 자리\n",
        "\n",
        "print(f'백의 자리: {hundreds}')\n",
        "print(f'십의 자리: {tens}')\n",
        "print(f'일의 자리: {units}')"
      ],
      "metadata": {
        "id": "2wPNWqffgRBb"
      },
      "execution_count": null,
      "outputs": []
    },
    {
      "cell_type": "markdown",
      "source": [
        "2-24"
      ],
      "metadata": {
        "id": "GARxrvk5hiiS"
      }
    },
    {
      "cell_type": "code",
      "source": [
        "a = int(input('세 자리 정수를 입력하시오: '))\n",
        "\n",
        "hundreds = a // 100          # 백의 자리\n",
        "tens = (a // 10) % 10        # 십의 자리\n",
        "units = a % 10               # 일의 자리\n",
        "\n",
        "print(f'백의 자리: {units}')\n",
        "print(f'십의 자리: {tens}')\n",
        "print(f'일의 자리: {hundreds}')"
      ],
      "metadata": {
        "colab": {
          "base_uri": "https://localhost:8080/"
        },
        "id": "xFzYmhF2hkHr",
        "outputId": "1733381c-b087-4411-e0ea-8b66e12edddd"
      },
      "execution_count": 132,
      "outputs": [
        {
          "output_type": "stream",
          "name": "stdout",
          "text": [
            "세 자리 정수를 입력하시오: 349\n",
            "백의 자리: 9\n",
            "십의 자리: 4\n",
            "일의 자리: 3\n"
          ]
        }
      ]
    }
  ]
}