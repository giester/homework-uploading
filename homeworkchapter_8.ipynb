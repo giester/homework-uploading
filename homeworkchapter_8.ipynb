{
  "nbformat": 4,
  "nbformat_minor": 0,
  "metadata": {
    "colab": {
      "provenance": [],
      "authorship_tag": "ABX9TyPS7DyA7vpF8vNp3Z+0/8Rg",
      "include_colab_link": true
    },
    "kernelspec": {
      "name": "python3",
      "display_name": "Python 3"
    },
    "language_info": {
      "name": "python"
    }
  },
  "cells": [
    {
      "cell_type": "markdown",
      "metadata": {
        "id": "view-in-github",
        "colab_type": "text"
      },
      "source": [
        "<a href=\"https://colab.research.google.com/github/giester/homework-uploading/blob/main/homeworkchapter_8.ipynb\" target=\"_parent\"><img src=\"https://colab.research.google.com/assets/colab-badge.svg\" alt=\"Open In Colab\"/></a>"
      ]
    },
    {
      "cell_type": "markdown",
      "source": [
        "8-1"
      ],
      "metadata": {
        "id": "oCn0c1j4CA_A"
      }
    },
    {
      "cell_type": "code",
      "execution_count": 1,
      "metadata": {
        "colab": {
          "base_uri": "https://localhost:8080/"
        },
        "id": "_94mb1FqAFV1",
        "outputId": "0d1247eb-00c3-439d-d752-8efe2be36e2f"
      },
      "outputs": [
        {
          "output_type": "stream",
          "name": "stdout",
          "text": [
            "춘향이와 몽룡이의 연애 시작일 : 2019년 02월 14일\n",
            "연애 시작일로부터 경과한 날짜 : 2250 일\n",
            "100일 기념일 : 2019년 05월 25일\n",
            "200일 기념일 : 2019년 09월 02일\n",
            "500일 기념일 : 2020년 06월 28일\n",
            "1000일 기념일 : 2021년 11월 10일\n"
          ]
        }
      ],
      "source": [
        "from datetime import date, timedelta\n",
        "\n",
        "start_date = date(2019, 2, 14)\n",
        "today = date.today()\n",
        "\n",
        "days_passed = (today - start_date).days\n",
        "\n",
        "print(\"춘향이와 몽룡이의 연애 시작일 :\", start_date.strftime(\"%Y년 %m월 %d일\"))\n",
        "print(\"연애 시작일로부터 경과한 날짜 :\", days_passed, \"일\")\n",
        "\n",
        "def print_anniversary(days):\n",
        "    anniv_date = start_date + timedelta(days=days)\n",
        "    print(f\"{days}일 기념일 : {anniv_date.strftime('%Y년 %m월 %d일')}\")\n",
        "\n",
        "print_anniversary(100)\n",
        "print_anniversary(200)\n",
        "print_anniversary(500)\n",
        "print_anniversary(1000)"
      ]
    },
    {
      "cell_type": "markdown",
      "source": [
        "8-5"
      ],
      "metadata": {
        "id": "1F6IVUlCCe85"
      }
    },
    {
      "cell_type": "code",
      "source": [
        "import math\n",
        "\n",
        "for degree in range(0, 181, 10):\n",
        "    radians = math.radians(degree)\n",
        "    sin_value = math.sin(radians)\n",
        "    cos_value = math.cos(radians)\n",
        "    tan_value = math.tan(radians) if cos_value != 0 else 'undefined'\n",
        "    print(f\"sin({degree}) = {sin_value:.3f}, cos({degree}) = {cos_value:.3f}, tan({degree}) = {tan_value}\")"
      ],
      "metadata": {
        "colab": {
          "base_uri": "https://localhost:8080/"
        },
        "id": "Rb4xPj8OCftB",
        "outputId": "73e6f47c-6492-4f54-972b-7a69098d584c"
      },
      "execution_count": 2,
      "outputs": [
        {
          "output_type": "stream",
          "name": "stdout",
          "text": [
            "sin(0) = 0.000, cos(0) = 1.000, tan(0) = 0.0\n",
            "sin(10) = 0.174, cos(10) = 0.985, tan(10) = 0.17632698070846498\n",
            "sin(20) = 0.342, cos(20) = 0.940, tan(20) = 0.36397023426620234\n",
            "sin(30) = 0.500, cos(30) = 0.866, tan(30) = 0.5773502691896257\n",
            "sin(40) = 0.643, cos(40) = 0.766, tan(40) = 0.8390996311772799\n",
            "sin(50) = 0.766, cos(50) = 0.643, tan(50) = 1.19175359259421\n",
            "sin(60) = 0.866, cos(60) = 0.500, tan(60) = 1.7320508075688767\n",
            "sin(70) = 0.940, cos(70) = 0.342, tan(70) = 2.7474774194546216\n",
            "sin(80) = 0.985, cos(80) = 0.174, tan(80) = 5.671281819617707\n",
            "sin(90) = 1.000, cos(90) = 0.000, tan(90) = 1.633123935319537e+16\n",
            "sin(100) = 0.985, cos(100) = -0.174, tan(100) = -5.671281819617711\n",
            "sin(110) = 0.940, cos(110) = -0.342, tan(110) = -2.7474774194546225\n",
            "sin(120) = 0.866, cos(120) = -0.500, tan(120) = -1.7320508075688783\n",
            "sin(130) = 0.766, cos(130) = -0.643, tan(130) = -1.19175359259421\n",
            "sin(140) = 0.643, cos(140) = -0.766, tan(140) = -0.8390996311772804\n",
            "sin(150) = 0.500, cos(150) = -0.866, tan(150) = -0.5773502691896257\n",
            "sin(160) = 0.342, cos(160) = -0.940, tan(160) = -0.36397023426620256\n",
            "sin(170) = 0.174, cos(170) = -0.985, tan(170) = -0.1763269807084649\n",
            "sin(180) = 0.000, cos(180) = -1.000, tan(180) = -1.2246467991473532e-16\n"
          ]
        }
      ]
    },
    {
      "cell_type": "markdown",
      "source": [
        "8-9"
      ],
      "metadata": {
        "id": "nE6eVvMcCvOD"
      }
    },
    {
      "cell_type": "code",
      "source": [
        "import random\n",
        "\n",
        "random_number = random.randint(1, 20)\n",
        "attempts = 0\n",
        "\n",
        "print(\"1-20까지의 숫자를 입력하세요.\")\n",
        "\n",
        "while True:\n",
        "    user_input = input(\"숫자를 입력하세요: \")\n",
        "\n",
        "    if not user_input.isdigit():\n",
        "        print(\"유효한 숫자를 입력하세요.\")\n",
        "        continue\n",
        "\n",
        "    user_number = int(user_input)\n",
        "    attempts += 1\n",
        "\n",
        "    if user_number < 1 or user_number > 20:\n",
        "        print(\"1보다 크고 20보다 작은 숫자를 입력하세요.\")\n",
        "    elif user_number < random_number:\n",
        "        print(\"보다 큽니다!\")\n",
        "    elif user_number > random_number:\n",
        "        print(\"보다 작습니다!\")\n",
        "    else:\n",
        "        print(f\"잘했어요! {attempts}번 만에 맞췄습니다.\")\n",
        "        break"
      ],
      "metadata": {
        "colab": {
          "base_uri": "https://localhost:8080/"
        },
        "id": "RYYtBN28Cv9C",
        "outputId": "37c163e1-4b2f-499a-cc89-bca9410a147f"
      },
      "execution_count": null,
      "outputs": [
        {
          "output_type": "stream",
          "name": "stdout",
          "text": [
            "1-20까지의 숫자를 입력하세요.\n",
            "숫자를 입력하세요: 3\n",
            "보다 큽니다!\n",
            "숫자를 입력하세요: 9\n",
            "보다 큽니다!\n",
            "숫자를 입력하세요: 6\n",
            "보다 큽니다!\n"
          ]
        }
      ]
    }
  ]
}