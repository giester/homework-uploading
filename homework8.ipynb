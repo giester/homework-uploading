{
  "nbformat": 4,
  "nbformat_minor": 0,
  "metadata": {
    "colab": {
      "provenance": [],
      "authorship_tag": "ABX9TyPwCB/CJs5R7LcQSPQV8VuY",
      "include_colab_link": true
    },
    "kernelspec": {
      "name": "python3",
      "display_name": "Python 3"
    },
    "language_info": {
      "name": "python"
    }
  },
  "cells": [
    {
      "cell_type": "markdown",
      "metadata": {
        "id": "view-in-github",
        "colab_type": "text"
      },
      "source": [
        "<a href=\"https://colab.research.google.com/github/giester/homework-uploading/blob/main/homework8.ipynb\" target=\"_parent\"><img src=\"https://colab.research.google.com/assets/colab-badge.svg\" alt=\"Open In Colab\"/></a>"
      ]
    },
    {
      "cell_type": "code",
      "execution_count": 10,
      "metadata": {
        "colab": {
          "base_uri": "https://localhost:8080/"
        },
        "id": "w3IgN5sbg72F",
        "outputId": "1fe82335-86f6-4121-a1fb-d7271aa003a1"
      },
      "outputs": [
        {
          "output_type": "execute_result",
          "data": {
            "text/plain": [
              "7"
            ]
          },
          "metadata": {},
          "execution_count": 10
        }
      ],
      "source": [
        "list_ex = [10, 20, 30, 40, 50, 60, 70]\n",
        "high = 5   #변수 5지정\n",
        "low = 3    #변수 3지정\n",
        "list_ex[low]   #low가 3이라 40출력\n",
        "\n",
        "list_ex[low + 2]  # 40에 + 2  60출력\n",
        "\n",
        "list_ex[high - low] # 5 - 3 2 라서 30출력\n",
        "\n",
        "list_ex[-1] #70출력됨 -1이라서 뒤에서부터?\n",
        "\n",
        "list_ex[2*3] #2*3 6   70출력 0, 1, 2, 3, 4, 5, 6,\n",
        "\n",
        "list_ex[2] * 3   #30먼저 출력되고 30에*3 해서 90출력\n",
        "\n",
        "list_ex[5 % 4]  #5 ÷ 4 = 1  0, 1 이라서 20출력\n",
        "\n",
        "len(list_ex) # [10, 20, 30, 40, 50, 60, 70] 의갯수 7나옴"
      ]
    },
    {
      "cell_type": "code",
      "source": [
        "list1 = [3, 5, 7]\n",
        "list2 = [2, 3, 4, 5, 6]\n",
        "\n",
        "for num1 in list1:\n",
        "    for num2 in list2:\n",
        "        print(f\"{num1} * {num2} = {num1 * num2}\")"
      ],
      "metadata": {
        "colab": {
          "base_uri": "https://localhost:8080/"
        },
        "id": "q7I11Kn8k8vP",
        "outputId": "c3a68c5a-8b89-4f2d-b9bd-5d1b1ccc3cc1"
      },
      "execution_count": 11,
      "outputs": [
        {
          "output_type": "stream",
          "name": "stdout",
          "text": [
            "3 * 2 = 6\n",
            "3 * 3 = 9\n",
            "3 * 4 = 12\n",
            "3 * 5 = 15\n",
            "3 * 6 = 18\n",
            "5 * 2 = 10\n",
            "5 * 3 = 15\n",
            "5 * 4 = 20\n",
            "5 * 5 = 25\n",
            "5 * 6 = 30\n",
            "7 * 2 = 14\n",
            "7 * 3 = 21\n",
            "7 * 4 = 28\n",
            "7 * 5 = 35\n",
            "7 * 6 = 42\n"
          ]
        }
      ]
    },
    {
      "cell_type": "code",
      "source": [
        "list1 = ['I like', 'I love']\n",
        "list2 = [' Pancake.', ' Kiwi juice', ' espresso.']\n",
        "\n",
        "for a in list1:     #변수이름 a 로 설정\n",
        "    for b in list2: #변수이름 b 로 설정\n",
        "        print(a, b)"
      ],
      "metadata": {
        "colab": {
          "base_uri": "https://localhost:8080/"
        },
        "id": "tKIcxAh0mrKh",
        "outputId": "6a92ae35-3e21-4cb4-a90b-5e6b03d433cd"
      },
      "execution_count": 25,
      "outputs": [
        {
          "output_type": "stream",
          "name": "stdout",
          "text": [
            "I like  Pancake.\n",
            "I like  Kiwi juice\n",
            "I like  espresso.\n",
            "I love  Pancake.\n",
            "I love  Kiwi juice\n",
            "I love  espresso.\n"
          ]
        }
      ]
    },
    {
      "cell_type": "code",
      "source": [
        "n_list = [10, 20, 30, 50, 60]\n",
        "\n",
        "total = 0  # 합을 저장할 변수\n",
        "for num in n_list:  # 리스트의 모든 숫자\n",
        "    total += num  # total에 숫자를 더함\n",
        "\n",
        "print(\"리스트 원소들의 합:\", total)"
      ],
      "metadata": {
        "colab": {
          "base_uri": "https://localhost:8080/"
        },
        "id": "zrMGovIxpidD",
        "outputId": "9716308b-f515-4a9c-a305-970801f02d05"
      },
      "execution_count": 28,
      "outputs": [
        {
          "output_type": "stream",
          "name": "stdout",
          "text": [
            "리스트 원소들의 합: 170\n"
          ]
        }
      ]
    },
    {
      "cell_type": "code",
      "source": [
        "n_list = [10, 20, 30, 50, 60]\n",
        "\n",
        "max_value = n_list[0]  # 첫 번째 값을 최댓값으로 설정\n",
        "\n",
        "# 리스트를 순회하면서 최댓값 찾기\n",
        "for num in n_list:\n",
        "    if num > max_value:  # 현재 값이 max보다 크면 업뎃\n",
        "        max_value = num\n",
        "\n",
        "print(\"리스트 원소들:\", n_list)\n",
        "print(\"리스트 원소들 중 최댓값:\", max_value)"
      ],
      "metadata": {
        "colab": {
          "base_uri": "https://localhost:8080/"
        },
        "id": "tGAwACsmtQCx",
        "outputId": "c322d88c-2724-42c2-f87c-d2537484e9aa"
      },
      "execution_count": 29,
      "outputs": [
        {
          "output_type": "stream",
          "name": "stdout",
          "text": [
            "리스트 원소들: [10, 20, 30, 50, 60]\n",
            "리스트 원소들 중 최댓값: 60\n"
          ]
        }
      ]
    },
    {
      "cell_type": "code",
      "source": [
        "# 사용자로부터 5개의 수를 입력받기\n",
        "numbers = list(map(int, input(\"5개의 수를 입력하세요: \").split()))\n",
        "\n",
        "# 합 평균 최대값 최소값 계산\n",
        "total = sum(numbers)\n",
        "average = total / len(numbers)\n",
        "maximum = max(numbers)\n",
        "minimum = min(numbers)\n",
        "\n",
        "print(\"합:\", total)\n",
        "print(\"평균:\", average)\n",
        "print(\"최댓값:\", maximum)\n",
        "print(\"최솟값:\", minimum)\n"
      ],
      "metadata": {
        "colab": {
          "base_uri": "https://localhost:8080/"
        },
        "id": "b8eQS1YNt1Av",
        "outputId": "bbdf591d-ddb3-4493-c9d8-b72e0c9ce745"
      },
      "execution_count": 31,
      "outputs": [
        {
          "output_type": "stream",
          "name": "stdout",
          "text": [
            "5개의 수를 입력하세요: 45 67 20 34 2\n",
            "합: 168\n",
            "평균: 33.6\n",
            "최댓값: 67\n",
            "최솟값: 2\n"
          ]
        }
      ]
    },
    {
      "cell_type": "code",
      "source": [
        "import math\n",
        "\n",
        "n = int(input(\"n을 입력하세요: \"))\n",
        "\n",
        "numbers = list(map(int, input(f\"{n}개의 수를 입력하세요: \").split()))\n",
        "\n",
        "# 평균 계산\n",
        "mean = sum(numbers) / n\n",
        "\n",
        "# 표준편차 계산\n",
        "variance = sum((x - mean) ** 2 for x in numbers) / n\n",
        "standard_deviation = math.sqrt(variance)\n",
        "\n",
        "# 결과 출력\n",
        "print(\"합:\", sum(numbers))\n",
        "print(\"평균:\", mean)\n",
        "print(\"표준편차:\", standard_deviation)\n"
      ],
      "metadata": {
        "colab": {
          "base_uri": "https://localhost:8080/"
        },
        "id": "KM-Vgjk7vNlD",
        "outputId": "7aec5a60-9e25-46dd-9fb3-cf5f98f90eba"
      },
      "execution_count": 32,
      "outputs": [
        {
          "output_type": "stream",
          "name": "stdout",
          "text": [
            "n을 입력하세요: 10\n",
            "10개의 수를 입력하세요: 45 67 20 34 2 100 23 45 67 89\n",
            "합: 492\n",
            "평균: 49.2\n",
            "표준편차: 29.71800800861323\n"
          ]
        }
      ]
    },
    {
      "cell_type": "code",
      "source": [
        "greet = 'Have a beautiful day'\n",
        "greet[ 0 : 4]\n",
        "greet[ 6 :16]\n",
        "greet[ 17 :20]"
      ],
      "metadata": {
        "colab": {
          "base_uri": "https://localhost:8080/",
          "height": 35
        },
        "id": "RhcddFlWwZAg",
        "outputId": "a489c886-9e13-468e-c42e-afd125a3bbf4"
      },
      "execution_count": 41,
      "outputs": [
        {
          "output_type": "execute_result",
          "data": {
            "text/plain": [
              "'day'"
            ],
            "application/vnd.google.colaboratory.intrinsic+json": {
              "type": "string"
            }
          },
          "metadata": {},
          "execution_count": 41
        }
      ]
    },
    {
      "cell_type": "code",
      "source": [
        "#  animals 리스트 생성\n",
        "animals = ['dog', 'cat', 'tiger', 'lion']\n",
        "print(animals)\n",
        "\n",
        "#  리스트의 원소들을 한 칸씩 원형으로 이동\n",
        "animals = animals[1:] + animals[:1]  # dog를 맨 뒤로 이동\n",
        "print(animals)\n",
        "\n",
        "#  모든 요소를 순회하며 문장 출력\n",
        "for animal in animals:\n",
        "    print(f'I love {animal}.')"
      ],
      "metadata": {
        "colab": {
          "base_uri": "https://localhost:8080/"
        },
        "id": "JbYb6ymXxCkL",
        "outputId": "c4fe1fe1-afac-464d-ff25-e91c90d8f2d1"
      },
      "execution_count": 42,
      "outputs": [
        {
          "output_type": "stream",
          "name": "stdout",
          "text": [
            "['dog', 'cat', 'tiger', 'lion']\n",
            "['cat', 'tiger', 'lion', 'dog']\n",
            "I love cat.\n",
            "I love tiger.\n",
            "I love lion.\n",
            "I love dog.\n"
          ]
        }
      ]
    },
    {
      "cell_type": "code",
      "source": [
        "# 주어진 문자열 리스트 s_list를 초기화\n",
        "s_list = ['abc', 'bcd', 'abc', 'abba', 'cdcc', 'opq', 'opq']\n",
        "# 중복을 제거한 문자열을 저장할 빈 리스트 new_s_list를 초기화\n",
        "new_s_list = []\n",
        "\n",
        "# s_list의 각 요소에 대해 반복\n",
        "for item in s_list:\n",
        "    #  item이 new_s_list에 아직 없다면 (중복되지 않았다면)\n",
        "    if item not in new_s_list:\n",
        "        # new_s_list에 item을 추가\n",
        "        new_s_list.append(item)\n",
        "\n",
        "# s_list의 내용을 출력\n",
        "print(\"s_list =\", s_list)\n",
        "# 중복이 제거된 new_s_list의 내용을 출력\n",
        "print(\"new_s_list =\", new_s_list)"
      ],
      "metadata": {
        "colab": {
          "base_uri": "https://localhost:8080/"
        },
        "id": "GK6YMJRmx3yG",
        "outputId": "e7cfbe5b-f59e-4179-8049-598215588aa9"
      },
      "execution_count": 47,
      "outputs": [
        {
          "output_type": "stream",
          "name": "stdout",
          "text": [
            "s_list = ['abc', 'bcd', 'abc', 'abba', 'cddc', 'opq', 'opq']\n",
            "new_s_list = ['abc', 'bcd', 'abba', 'cddc', 'opq']\n"
          ]
        }
      ]
    },
    {
      "cell_type": "code",
      "source": [
        "src = 'a2b3c6a2c3f1g1'\n",
        "output = ''  # 결과 문자열 초기화\n",
        "\n",
        "i = 0  # 인덱스 초기화\n",
        "while i < len(src):\n",
        "    char = src[i]\n",
        "    i += 1\n",
        "\n",
        "    # 숫자가 있는지 확인\n",
        "    count = 0\n",
        "    while i < len(src) and src[i].isdigit():\n",
        "        count = count * 10 + int(src[i])  # 숫자 조합\n",
        "        i += 1\n",
        "\n",
        "    # 결과 문자열에 추가\n",
        "    output += char * count\n",
        "\n",
        "\n",
        "print(\"src =\", src)  #\n",
        "print(\"output =\", output)"
      ],
      "metadata": {
        "colab": {
          "base_uri": "https://localhost:8080/"
        },
        "id": "diwUDnlQ0CqV",
        "outputId": "ba4f34ec-18b9-47a8-ccf6-fc6b8cf68563"
      },
      "execution_count": 51,
      "outputs": [
        {
          "output_type": "stream",
          "name": "stdout",
          "text": [
            "src = a2b3c6a2c3f1g1\n",
            "output = aabbbccccccaacccfg\n"
          ]
        }
      ]
    },
    {
      "cell_type": "code",
      "source": [
        "# 각 사람의 정보를 담는 리스트 생성\n",
        "person1 = ['온달', 20, 1, 180.0, 100.0]\n",
        "person2 = ['이사부', 25, 1, 170.0, 70.0]\n",
        "person3 = ['평강', 22, 0, 169.0, 60.0]\n",
        "person4 = ['혁거세', 40, 1, 150.0, 50.0]\n",
        "\n",
        "# 리스트에 담긴 사람 수를 계산하는 함수\n",
        "def how_many_persons(person_list):\n",
        "    return len(person_list)\n",
        "\n",
        "# 리스트에 담긴 사람들의 평균 나이를 계산하는 함수\n",
        "def compute_average_age(person_list):\n",
        "    total_age = sum(person[1] for person in person_list)\n",
        "    return total_age / len(person_list)\n",
        "\n",
        "#  리스트에 담긴 사람들의 성별을 분석하는 함수\n",
        "def count_males_females(person_list):\n",
        "    n_male = sum(person[2] for person in person_list)\n",
        "    n_female = len(person_list) - n_male\n",
        "    return n_male, n_female\n",
        "\n",
        "#  리스트에 포함된 정보를 각 사람별로 분리하여 출력하는 함수\n",
        "def display_persons(person_list):\n",
        "    for person in person_list:\n",
        "        print(person)\n",
        "\n",
        "# 모든 사람 정보를 담은 리스트 생성\n",
        "person_list = [person1, person2, person3, person4]\n",
        "\n",
        "#  사람 수 계산 및 출력\n",
        "n_persons = how_many_persons(person_list)\n",
        "print(str(n_persons) + '명의 정보가 담겨 있습니다.')\n",
        "\n",
        "#  평균 나이 계산 및 출력\n",
        "average_age = compute_average_age(person_list)\n",
        "print('평균 나이는 ' + str(average_age) + '세입니다.')\n",
        "\n",
        "#  성별 분석 및 출력\n",
        "n_male, n_female = count_males_females(person_list)\n",
        "print('리스트에는 남자가 ' + str(n_male) + '명, 여자가 ' + str(n_female) + '명입니다.')\n",
        "\n",
        "#  각 사람별 정보 출력\n",
        "display_persons(person_list)\n"
      ],
      "metadata": {
        "colab": {
          "base_uri": "https://localhost:8080/"
        },
        "id": "0fOwoqW_2PVI",
        "outputId": "c7b1b5ed-5d86-4510-b0e7-9291dbcf73f1"
      },
      "execution_count": 54,
      "outputs": [
        {
          "output_type": "stream",
          "name": "stdout",
          "text": [
            "4명의 정보가 담겨 있습니다.\n",
            "평균 나이는 26.75세입니다.\n",
            "리스트에는 남자가 3명, 여자가 1명입니다.\n",
            "['온달', 20, 1, 180.0, 100.0]\n",
            "['이사부', 25, 1, 170.0, 70.0]\n",
            "['평강', 22, 0, 169.0, 60.0]\n",
            "['혁거세', 40, 1, 150.0, 50.0]\n"
          ]
        }
      ]
    }
  ]
}