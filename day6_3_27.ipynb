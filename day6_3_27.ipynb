{
  "nbformat": 4,
  "nbformat_minor": 0,
  "metadata": {
    "colab": {
      "provenance": [],
      "authorship_tag": "ABX9TyNAMcKczmK7zX76yH0rrNxE",
      "include_colab_link": true
    },
    "kernelspec": {
      "name": "python3",
      "display_name": "Python 3"
    },
    "language_info": {
      "name": "python"
    }
  },
  "cells": [
    {
      "cell_type": "markdown",
      "metadata": {
        "id": "view-in-github",
        "colab_type": "text"
      },
      "source": [
        "<a href=\"https://colab.research.google.com/github/giester/homework-uploading/blob/main/day6_3_27.ipynb\" target=\"_parent\"><img src=\"https://colab.research.google.com/assets/colab-badge.svg\" alt=\"Open In Colab\"/></a>"
      ]
    },
    {
      "cell_type": "markdown",
      "source": [
        "min(), max(), sum()과 같은 파이썬 내장함수의 인자로 리스트를\n",
        "넘겨주면 각각 리스트 안의 최솟값, 최댓값, 합 연산 가능\n",
        "\n",
        "len() 함수는 리스트 내 항목의 개수를 반환"
      ],
      "metadata": {
        "id": "JlpsczY0Jmak"
      }
    },
    {
      "cell_type": "code",
      "execution_count": 18,
      "metadata": {
        "colab": {
          "base_uri": "https://localhost:8080/"
        },
        "id": "zW1FtrXMGa6F",
        "outputId": "c22fbffb-519f-4bfc-f65f-3351c50cbbac"
      },
      "outputs": [
        {
          "output_type": "stream",
          "name": "stdout",
          "text": [
            "11\n",
            "2\n",
            "3\n"
          ]
        }
      ],
      "source": [
        "numbers = [11 , 2 ,5]\n",
        "print(max(numbers))\n",
        "print(min(numbers))\n",
        "print(len(numbers))"
      ]
    },
    {
      "cell_type": "markdown",
      "source": [
        "5.6 리스트의 메소드"
      ],
      "metadata": {
        "id": "Am4EBAaTKtz-"
      }
    },
    {
      "cell_type": "markdown",
      "source": [
        "• 정렬sorting 메소드인 sort()\n",
        "• 디폴트로 오름차순 정렬을 수행\n",
        "• 리스트 변수 뒤에 마침표(.)와 sort()를 적음\n",
        "• 오름차순 정렬ascending order sorting\n",
        "• 값이 증가하는 정렬\n",
        "• 내림차순 정렬descending order sorting\n",
        "• 값이 감소하는 정렬"
      ],
      "metadata": {
        "id": "-X9UssazKvBG"
      }
    },
    {
      "cell_type": "code",
      "source": [
        "numbers = [11, 2, 5]  #정렬\n",
        "numbers.sort()"
      ],
      "metadata": {
        "id": "PZD3Fqi7KGPe"
      },
      "execution_count": 19,
      "outputs": []
    },
    {
      "cell_type": "code",
      "source": [
        "str = \"Puykyong National University\"\n",
        "num_o= str.count('o')"
      ],
      "metadata": {
        "id": "lulkmbYlK0ze"
      },
      "execution_count": 24,
      "outputs": []
    },
    {
      "cell_type": "markdown",
      "source": [
        "extend() 메소드 실습\n",
        "• extend()는 리스트 뒤에 리스트\n",
        "나 항목을 추가하는 메소드"
      ],
      "metadata": {
        "id": "jJiKs1YgLhn_"
      }
    },
    {
      "cell_type": "code",
      "source": [
        "list1 = ['a', 'b', 'c']\n",
        "list2 = [1, 2, 3]\n",
        "list1.extend(list2)  #추가 붙이기?\n",
        "list1\n",
        "\n",
        "list1.extend('d')\n",
        "list1"
      ],
      "metadata": {
        "colab": {
          "base_uri": "https://localhost:8080/"
        },
        "id": "rUkbeisLLieq",
        "outputId": "c2420cad-c3a7-47c2-ec1a-847878595a25"
      },
      "execution_count": 28,
      "outputs": [
        {
          "output_type": "execute_result",
          "data": {
            "text/plain": [
              "['a', 'b', 'c', 1, 2, 3, 'd']"
            ]
          },
          "metadata": {},
          "execution_count": 28
        }
      ]
    },
    {
      "cell_type": "markdown",
      "source": [
        "5.9 리스트의 슬라이싱\n",
        "리스트_이름[start : end]\n",
        "기타 등등등"
      ],
      "metadata": {
        "id": "gPObTCrdNyGT"
      }
    },
    {
      "cell_type": "code",
      "source": [
        "a_list = [10, 20 , 30 ,40 ,50 ,60 ,70 ,80]   #[1:-1] [20, 30, 40, 50, 60, 70]\n",
        "a_list[1:-1]"
      ],
      "metadata": {
        "colab": {
          "base_uri": "https://localhost:8080/"
        },
        "id": "6aU56ihvPq_t",
        "outputId": "861b65ca-e693-4c1b-bf99-be04307aa1b2"
      },
      "execution_count": 47,
      "outputs": [
        {
          "output_type": "execute_result",
          "data": {
            "text/plain": [
              "[20, 30, 40, 50, 60, 70]"
            ]
          },
          "metadata": {},
          "execution_count": 47
        }
      ]
    },
    {
      "cell_type": "code",
      "source": [
        "a_list = [10, 20 , 30 ,40 ,50 ,60 ,70 ,80]   #[:-1] [10, 20, 30, 40, 50, 60, 70]\n",
        "a_list[:-1]"
      ],
      "metadata": {
        "colab": {
          "base_uri": "https://localhost:8080/"
        },
        "id": "ZldL3aizPacL",
        "outputId": "34362239-f811-4dd3-b7c0-ad450b483d6b"
      },
      "execution_count": 45,
      "outputs": [
        {
          "output_type": "execute_result",
          "data": {
            "text/plain": [
              "[10, 20, 30, 40, 50, 60, 70]"
            ]
          },
          "metadata": {},
          "execution_count": 45
        }
      ]
    },
    {
      "cell_type": "code",
      "source": [
        "a_list = [10, 20 , 30 ,40 ,50 ,60 ,70 ,80]   #[-1:] 하니 80부터 출력됨\n",
        "a_list[-1:]"
      ],
      "metadata": {
        "colab": {
          "base_uri": "https://localhost:8080/"
        },
        "id": "8dOJ7x8zOojU",
        "outputId": "34e9534b-dedb-4dd7-99ca-30b65cbc19cc"
      },
      "execution_count": 46,
      "outputs": [
        {
          "output_type": "execute_result",
          "data": {
            "text/plain": [
              "[20, 30, 40, 50, 60, 70]"
            ]
          },
          "metadata": {},
          "execution_count": 46
        }
      ]
    },
    {
      "cell_type": "markdown",
      "source": [
        "4.2 함수와 매개변수"
      ],
      "metadata": {
        "id": "vr_gHqXGQ31U"
      }
    },
    {
      "cell_type": "code",
      "source": [
        "def plus(a,b):\n",
        "  c = a+b\n",
        "  return c\n",
        "\n",
        "res = plus(4,3)\n",
        "print(res)"
      ],
      "metadata": {
        "colab": {
          "base_uri": "https://localhost:8080/"
        },
        "id": "QVqYBqNERTtZ",
        "outputId": "ddfde47b-7a2f-4c06-b40a-3c38b6767845"
      },
      "execution_count": 48,
      "outputs": [
        {
          "output_type": "stream",
          "name": "stdout",
          "text": [
            "7\n"
          ]
        }
      ]
    },
    {
      "cell_type": "markdown",
      "source": [
        "코드 4-16\t:\t함수 내부에서 값을 변경하고,\t그 값을 외부에서 확인하기"
      ],
      "metadata": {
        "id": "DYy2g4QGYXuo"
      }
    },
    {
      "cell_type": "code",
      "source": [
        "def print_sum():\n",
        "  a = 100\n",
        "  b = 200\n",
        "  result = a+ b\n",
        "  print('print_sum() 내부 :',a, '과', b, '의 합은', result,'입니다.')\n",
        "a = 10\n",
        "b = 20\n",
        "print_sum()\n",
        "result = a + b\n",
        "print('print_sum() 내부 :',a, '과', b, '의 합은', result,'입니다.')"
      ],
      "metadata": {
        "colab": {
          "base_uri": "https://localhost:8080/"
        },
        "id": "XMeXZrBSXzD3",
        "outputId": "2e95be78-d1a5-4b47-c12c-46ab3f83cc79"
      },
      "execution_count": 50,
      "outputs": [
        {
          "output_type": "stream",
          "name": "stdout",
          "text": [
            "print_sum() 내부 : 100 과 200 의 합은 300 입니다.\n",
            "print_sum() 내부 : 10 과 20 의 합은 30 입니다.\n"
          ]
        }
      ]
    },
    {
      "cell_type": "code",
      "source": [
        "n = int(input(\"번호를 입력하시오:\"))\n",
        "is_prime = True\n",
        "def chk_prime(7):\n",
        "\n",
        "  return is_prime\n",
        "\n",
        "print(chk_prime(7))"
      ],
      "metadata": {
        "id": "PRJ473GMZIKj"
      },
      "execution_count": null,
      "outputs": []
    },
    {
      "cell_type": "markdown",
      "source": [
        "def 변수 정답본 매우중요!!!!!!!!!!!!"
      ],
      "metadata": {
        "id": "3HAswG2NgA-n"
      }
    },
    {
      "cell_type": "code",
      "source": [
        "def chk_prime(a):\n",
        "  is_prime = True\n",
        "  for i in range(2, a):\n",
        "    if a % i == 0:\n",
        "      is_prime = False\n",
        "      break\n",
        "\n",
        "    return is_prime\n",
        "num = 7\n",
        "is_prime = chk_prime(num)\n",
        "if(is_prime):\n",
        "  print(num, 'is a prime number')\n",
        "else:\n",
        "  print(num, 'is not a prime number')"
      ],
      "metadata": {
        "colab": {
          "base_uri": "https://localhost:8080/"
        },
        "id": "fJ5-RrHnZ1fn",
        "outputId": "12b05f1d-aa5c-44d0-92be-434cc31e3f03"
      },
      "execution_count": 72,
      "outputs": [
        {
          "output_type": "stream",
          "name": "stdout",
          "text": [
            "7 is a prime number\n"
          ]
        }
      ]
    },
    {
      "cell_type": "code",
      "source": [
        "def mult(a,b):\n",
        "  return a+b\n",
        "\n",
        "print(mult(4,5))"
      ],
      "metadata": {
        "colab": {
          "base_uri": "https://localhost:8080/"
        },
        "id": "uDT45IiDeQiw",
        "outputId": "683f2a4f-9de9-4f0c-cf04-d3fa1fb1bce1"
      },
      "execution_count": 69,
      "outputs": [
        {
          "output_type": "stream",
          "name": "stdout",
          "text": [
            "9\n"
          ]
        }
      ]
    },
    {
      "cell_type": "code",
      "source": [
        "def mult(a,b):\n",
        "  return a+b\n",
        "a = 213\n",
        "b = 235\n",
        "c = mult(a,b)\n",
        "print(c)"
      ],
      "metadata": {
        "colab": {
          "base_uri": "https://localhost:8080/"
        },
        "id": "P29K5rL-fDVP",
        "outputId": "57ea53d9-ae24-4713-fdcf-867de87c4879"
      },
      "execution_count": 70,
      "outputs": [
        {
          "output_type": "stream",
          "name": "stdout",
          "text": [
            "448\n"
          ]
        }
      ]
    }
  ]
}