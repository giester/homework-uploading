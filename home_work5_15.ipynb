{
  "nbformat": 4,
  "nbformat_minor": 0,
  "metadata": {
    "colab": {
      "provenance": [],
      "authorship_tag": "ABX9TyPQF352j86bg2qRawEJWLxV",
      "include_colab_link": true
    },
    "kernelspec": {
      "name": "python3",
      "display_name": "Python 3"
    },
    "language_info": {
      "name": "python"
    }
  },
  "cells": [
    {
      "cell_type": "markdown",
      "metadata": {
        "id": "view-in-github",
        "colab_type": "text"
      },
      "source": [
        "<a href=\"https://colab.research.google.com/github/giester/homework-uploading/blob/main/home_work5_15.ipynb\" target=\"_parent\"><img src=\"https://colab.research.google.com/assets/colab-badge.svg\" alt=\"Open In Colab\"/></a>"
      ]
    },
    {
      "cell_type": "markdown",
      "source": [
        "10.1"
      ],
      "metadata": {
        "id": "xE08c7siuOfR"
      }
    },
    {
      "cell_type": "code",
      "execution_count": 2,
      "metadata": {
        "colab": {
          "base_uri": "https://localhost:8080/"
        },
        "id": "gV3Fg2Wqsew9",
        "outputId": "8ccd66b7-fdd3-49cb-8053-2237447f3454"
      },
      "outputs": [
        {
          "output_type": "stream",
          "name": "stdout",
          "text": [
            "1. 123 + 334 = 457\n",
            "2. 123 - 334 = -211\n",
            "3. 123 * 334 = 41082\n",
            "4. 123 / 3 = 41.0\n"
          ]
        }
      ],
      "source": [
        "result_add = (123).__add__(334)\n",
        "print(f\"1. 123 + 334 = {result_add}\")\n",
        "\n",
        "\n",
        "result_sub = (123).__sub__(334)\n",
        "print(f\"2. 123 - 334 = {result_sub}\")\n",
        "\n",
        "\n",
        "result_mul = (123).__mul__(334)\n",
        "print(f\"3. 123 * 334 = {result_mul}\")\n",
        "\n",
        "\n",
        "result_truediv = (123).__truediv__(3)\n",
        "print(f\"4. 123 / 3 = {result_truediv}\")"
      ]
    },
    {
      "cell_type": "markdown",
      "source": [
        "10.3"
      ],
      "metadata": {
        "id": "VPmSZHkbuPoH"
      }
    },
    {
      "cell_type": "code",
      "source": [
        "s = 'Hello World~'\n",
        "\n",
        "methods = ['pop', 'sort', 'append', 'upper', 'insert', 'remove']\n",
        "usable = []\n",
        "not_usable = []\n",
        "\n",
        "for method in methods:\n",
        "    if hasattr(s, method):\n",
        "        usable.append(method + '()')\n",
        "    else:\n",
        "        not_usable.append(method + '()')\n",
        "\n",
        "print(\"사용 가능한 메서드:\")\n",
        "for m in usable:\n",
        "    print(f\"- {m}\")\n",
        "\n",
        "print(\"\\n사용 불가능한 메서드:\")\n",
        "for m in not_usable:\n",
        "    print(f\"- {m}\")\n"
      ],
      "metadata": {
        "colab": {
          "base_uri": "https://localhost:8080/"
        },
        "id": "ebdXJ55TtXiZ",
        "outputId": "9c59d545-8d8d-4b1f-e45f-411d8e1941ed"
      },
      "execution_count": 4,
      "outputs": [
        {
          "output_type": "stream",
          "name": "stdout",
          "text": [
            "사용 가능한 메서드:\n",
            "- upper()\n",
            "\n",
            "사용 불가능한 메서드:\n",
            "- pop()\n",
            "- sort()\n",
            "- append()\n",
            "- insert()\n",
            "- remove()\n"
          ]
        }
      ]
    },
    {
      "cell_type": "markdown",
      "source": [
        "10.5"
      ],
      "metadata": {
        "id": "0Ygo0ySzvdXU"
      }
    },
    {
      "cell_type": "code",
      "source": [
        "a, b, c, d, e = int(1), int(1), int(2), int(3), int(3)\n",
        "\n",
        "\n",
        "variables = [a, b, c, d, e]\n",
        "counts = {i: 0 for i in range(1, 11)}\n",
        "\n",
        "\n",
        "for num in range(1, 11):\n",
        "\n",
        "    num_object = int(num)\n",
        "    counts[num] = sum(1 for var in variables if var is num_object)\n",
        "\n",
        "\n",
        "for key, value in counts.items():\n",
        "    if value > 0:\n",
        "        print(f\"{key} : {value}개\")"
      ],
      "metadata": {
        "colab": {
          "base_uri": "https://localhost:8080/"
        },
        "id": "1pKXBMJ5vB_e",
        "outputId": "18fa4798-cb4b-4a31-df8f-698d5df1b112"
      },
      "execution_count": 35,
      "outputs": [
        {
          "output_type": "stream",
          "name": "stdout",
          "text": [
            "1 : 2개\n",
            "2 : 1개\n",
            "3 : 2개\n"
          ]
        }
      ]
    },
    {
      "cell_type": "markdown",
      "source": [
        "10.7"
      ],
      "metadata": {
        "id": "jA0midODvlgv"
      }
    },
    {
      "cell_type": "code",
      "source": [
        "class Dog:\n",
        "    def __init__(self, name, age):\n",
        "        self.name = name\n",
        "        self.age = age\n",
        "\n",
        "    def __str__(self):\n",
        "        return f\"이름은 {self.name}이고 나이는 {self.age}살입니다.\"\n",
        "\n",
        "\n",
        "my_dog = Dog(\"Mango\", 3)\n",
        "\n",
        "\n",
        "print(my_dog)"
      ],
      "metadata": {
        "colab": {
          "base_uri": "https://localhost:8080/"
        },
        "id": "EmUMRlYYvnQI",
        "outputId": "0748452e-c7f3-4763-867b-b4d8d8f719e8"
      },
      "execution_count": 19,
      "outputs": [
        {
          "output_type": "stream",
          "name": "stdout",
          "text": [
            "이름은 Mango이고 나이는 3살입니다.\n"
          ]
        }
      ]
    },
    {
      "cell_type": "markdown",
      "source": [
        "10.9"
      ],
      "metadata": {
        "id": "H-lfUHcwvuV4"
      }
    },
    {
      "cell_type": "code",
      "source": [
        "class Counter:\n",
        "    def __init__(self, number):\n",
        "        self.number = number\n",
        "\n",
        "    def __add__(self, other):\n",
        "\n",
        "        new_number = self.number + other.number\n",
        "        if new_number >= 100:\n",
        "            new_number = 0\n",
        "        return Counter(new_number)\n",
        "\n",
        "    def __sub__(self, other):\n",
        "\n",
        "        new_number = self.number - other.number\n",
        "        return Counter(new_number)\n",
        "\n",
        "    def __str__(self):\n",
        "\n",
        "        return f\"C({self.number})\"\n",
        "\n",
        "c1 = Counter(10)\n",
        "c2 = Counter(20)\n",
        "c3 = c1 + c2  # C(30)\n",
        "c4 = c1 - c2  # C(-10)\n",
        "\n",
        "print(\"c3 =\", c3)\n",
        "print(\"c4 =\", c4)"
      ],
      "metadata": {
        "colab": {
          "base_uri": "https://localhost:8080/"
        },
        "id": "wmJgONJ8vu6F",
        "outputId": "2ce97e66-e121-4219-93f7-eb6d5356f2ee"
      },
      "execution_count": 22,
      "outputs": [
        {
          "output_type": "stream",
          "name": "stdout",
          "text": [
            "c3 = C(30)\n",
            "c4 = C(-10)\n"
          ]
        }
      ]
    },
    {
      "cell_type": "markdown",
      "source": [
        "10.11"
      ],
      "metadata": {
        "id": "lnDBs-sHwZqY"
      }
    },
    {
      "cell_type": "code",
      "source": [
        "class Student:\n",
        "    def __init__(self, name, student_id):\n",
        "        self._name = name\n",
        "        self._student_id = student_id\n",
        "        self._korean_quiz = 0\n",
        "        self._math_quiz = 0\n",
        "        self._science_quiz = 0\n",
        "        self._total_score = 0\n",
        "        self._avg_score = 0.0\n",
        "\n",
        "\n",
        "    def get_name(self):\n",
        "        return self._name\n",
        "\n",
        "\n",
        "    def get_student_id(self):\n",
        "        return self._student_id\n",
        "\n",
        "\n",
        "    def set_korean_quiz(self, score):\n",
        "        self._korean_quiz = score\n",
        "\n",
        "    def set_math_quiz(self, score):\n",
        "        self._math_quiz = score\n",
        "\n",
        "    def set_science_quiz(self, score):\n",
        "        self._science_quiz = score\n",
        "\n",
        "\n",
        "    def get_korean_quiz(self):\n",
        "        return self._korean_quiz\n",
        "\n",
        "    def get_math_quiz(self):\n",
        "        return self._math_quiz\n",
        "\n",
        "    def get_science_quiz(self):\n",
        "        return self._science_quiz\n",
        "\n",
        "\n",
        "    def get_total_score(self):\n",
        "        self._total_score = self._korean_quiz + self._math_quiz + self._science_quiz\n",
        "        return self._total_score\n",
        "\n",
        "    def get_avg_score(self):\n",
        "        self._avg_score = self.get_total_score() / 3\n",
        "        return self._avg_score\n",
        "\n",
        "\n",
        "    def __str__(self):\n",
        "        return (f\"학생의 이름은 {self._name}입니다.\\n\"\n",
        "                f\"학생의 학번은 {self._student_id}입니다.\\n\"\n",
        "                f\"학생의 국어 성적은 {self._korean_quiz}입니다.\\n\"\n",
        "                f\"학생의 수학 성적은 {self._math_quiz}입니다.\\n\"\n",
        "                f\"학생의 과학 성적은 {self._science_quiz}입니다.\\n\"\n",
        "                f\"학생의 전체 점수는 {self.get_total_score()}점이고, 평균 점수는 {self.get_avg_score():.1f}입니다.\")\n",
        "\n",
        "\n",
        "name = input(\"학생의 이름을 입력하세요: \")\n",
        "student_id = input(\"학생의 학번을 입력하세요: \")\n",
        "\n",
        "student = Student(name, student_id)\n",
        "\n",
        "korean_quiz = int(input(\"학생의 국어 성적을 입력하세요: \"))\n",
        "math_quiz = int(input(\"학생의 수학 성적을 입력하세요: \"))\n",
        "science_quiz = int(input(\"학생의 과학 성적을 입력하세요: \"))\n",
        "\n",
        "student.set_korean_quiz(korean_quiz)\n",
        "student.set_math_quiz(math_quiz)\n",
        "student.set_science_quiz(science_quiz)\n",
        "\n",
        "\n",
        "print(student)"
      ],
      "metadata": {
        "colab": {
          "base_uri": "https://localhost:8080/"
        },
        "id": "9gKyBV-4waYQ",
        "outputId": "b983a8e2-0785-4e7d-9d01-dadf8e3cc0b4"
      },
      "execution_count": 23,
      "outputs": [
        {
          "output_type": "stream",
          "name": "stdout",
          "text": [
            "학생의 이름을 입력하세요: 홍길동\n",
            "학생의 학번을 입력하세요: 20240012\n",
            "학생의 국어 성적을 입력하세요: 85\n",
            "학생의 수학 성적을 입력하세요: 90\n",
            "학생의 과학 성적을 입력하세요: 95\n",
            "학생의 이름은 홍길동입니다.\n",
            "학생의 학번은 20240012입니다.\n",
            "학생의 국어 성적은 85입니다.\n",
            "학생의 수학 성적은 90입니다.\n",
            "학생의 과학 성적은 95입니다.\n",
            "학생의 전체 점수는 270점이고, 평균 점수는 90.0입니다.\n"
          ]
        }
      ]
    },
    {
      "cell_type": "markdown",
      "source": [
        "10.13"
      ],
      "metadata": {
        "id": "51-hSSVFwl-U"
      }
    },
    {
      "cell_type": "code",
      "source": [
        "class Rectangle:\n",
        "    def __init__(self, x, y, width, height):\n",
        "        self._x = x\n",
        "        self._y = y\n",
        "        self._width = width\n",
        "        self._height = height\n",
        "\n",
        "    def get_x(self):\n",
        "        return self._x\n",
        "\n",
        "    def get_y(self):\n",
        "        return self._y\n",
        "\n",
        "    def get_width(self):\n",
        "        return self._width\n",
        "\n",
        "    def get_height(self):\n",
        "        return self._height\n",
        "\n",
        "    def set_x(self, x):\n",
        "        self._x = x\n",
        "\n",
        "    def set_y(self, y):\n",
        "        self._y = y\n",
        "\n",
        "    def set_width(self, width):\n",
        "        self._width = width\n",
        "\n",
        "    def set_height(self, height):\n",
        "        self._height = height\n",
        "\n",
        "    def area(self):\n",
        "\n",
        "        return self._width * self._height\n",
        "\n",
        "    def overlaps(self, r):\n",
        "\n",
        "        return not (self._x + self._width <= r._x or r._x + r._width <= self._x or\n",
        "                    self._y + self._height <= r._y or r._y + r._height <= self._y)\n",
        "\n",
        "    def contains(self, r):\n",
        "\n",
        "        return (self._x <= r._x and\n",
        "                self._y <= r._y and\n",
        "                self._x + self._width >= r._x + r._width and\n",
        "                self._y + self._height >= r._y + r._height)\n",
        "\n",
        "    def __str__(self):\n",
        "        return (f\"Rectangle(x = {self._x}, y = {self._y}, w = {self._width}, h = {self._height}), \"\n",
        "                f\"면적 = {self.area()}\")\n",
        "\n",
        "\n",
        "r1 = Rectangle(0, 0, 100, 100)\n",
        "r2 = Rectangle(100, 100, 10, 10)\n",
        "r3 = Rectangle(0, 0, 200, 60)\n",
        "\n",
        "\n",
        "print(\"r1 =\", r1)\n",
        "print(\"r2 =\", r2)\n",
        "print(\"r3 =\", r3)\n",
        "\n",
        "print()\n",
        "\n",
        "print(\"r1 contains r2:\", r1.contains(r2))\n",
        "print(\"r1 contains r3:\", r1.contains(r3))\n",
        "print(\"r3 contains r1:\", r3.contains(r1))\n",
        "\n",
        "print()\n",
        "\n",
        "print(\"r1 overlaps r2:\", r1.overlaps(r2))\n",
        "print(\"r1 overlaps r3:\", r1.overlaps(r3))\n",
        "print(\"r3 overlaps r2:\", r3.overlaps(r2))"
      ],
      "metadata": {
        "colab": {
          "base_uri": "https://localhost:8080/"
        },
        "id": "52LLBG0mwmw0",
        "outputId": "d7019414-fe69-4eb0-886e-bb730a75191d"
      },
      "execution_count": 27,
      "outputs": [
        {
          "output_type": "stream",
          "name": "stdout",
          "text": [
            "r1 = Rectangle(x = 0, y = 0, w = 100, h = 100), 면적 = 10000\n",
            "r2 = Rectangle(x = 100, y = 100, w = 10, h = 10), 면적 = 100\n",
            "r3 = Rectangle(x = 0, y = 0, w = 200, h = 60), 면적 = 12000\n",
            "\n",
            "r1 contains r2: False\n",
            "r1 contains r3: False\n",
            "r3 contains r1: False\n",
            "\n",
            "r1 overlaps r2: False\n",
            "r1 overlaps r3: True\n",
            "r3 overlaps r2: False\n"
          ]
        }
      ]
    }
  ]
}