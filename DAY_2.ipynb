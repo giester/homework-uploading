{
  "nbformat": 4,
  "nbformat_minor": 0,
  "metadata": {
    "colab": {
      "provenance": [],
      "authorship_tag": "ABX9TyOb2OwkwkeOY/5/6VyHMjdd",
      "include_colab_link": true
    },
    "kernelspec": {
      "name": "python3",
      "display_name": "Python 3"
    },
    "language_info": {
      "name": "python"
    }
  },
  "cells": [
    {
      "cell_type": "markdown",
      "metadata": {
        "id": "view-in-github",
        "colab_type": "text"
      },
      "source": [
        "<a href=\"https://colab.research.google.com/github/giester/homework-uploading/blob/main/DAY_2.ipynb\" target=\"_parent\"><img src=\"https://colab.research.google.com/assets/colab-badge.svg\" alt=\"Open In Colab\"/></a>"
      ]
    },
    {
      "cell_type": "code",
      "execution_count": 2,
      "metadata": {
        "colab": {
          "base_uri": "https://localhost:8080/"
        },
        "id": "4C1hfUcfoPUa",
        "outputId": "41413e76-009c-44cc-d251-1d561626bfe2"
      },
      "outputs": [
        {
          "output_type": "stream",
          "name": "stdout",
          "text": [
            "원의 반지름 5.0\n",
            "원의 면적 78.5\n",
            "원의 반지름 31.400000000000002\n",
            "원의 반지름 6.0\n",
            "원의 면적 113.03999999999999\n",
            "원의 반지름 31.400000000000002\n"
          ]
        }
      ],
      "source": [
        "print('원의 반지름', 5.0)    # 5.0이 반복적으로 사용되니 변수로 지정해 편하게 쓴다\n",
        "print('원의 면적', 3.14 * 5.0 * 5.0)\n",
        "print('원의 반지름', 2.0 * 3.14 * 5.0)\n",
        "\n",
        "print('원의 반지름', 6.0)\n",
        "print('원의 면적', 3.14 * 6.0 * 6.0)\n",
        "print('원의 반지름', 2.0 * 3.14 * 5.0)"
      ]
    },
    {
      "cell_type": "code",
      "source": [
        "r = 6.0                    # 변수 사용방법 적용\n",
        "print('원의 반지름', r)    # 5.0이 반복적으로 사용되니 변수로 지정해 편하게 쓴다\n",
        "print('원의 면적', 3.14 * r * r)\n",
        "print('원의 반지름', 2.0 * 3.14 * r)"
      ],
      "metadata": {
        "colab": {
          "base_uri": "https://localhost:8080/"
        },
        "id": "_bY9UBp8pWpS",
        "outputId": "df4d9b81-0982-4441-ad72-2826f21b75bd"
      },
      "execution_count": 4,
      "outputs": [
        {
          "output_type": "stream",
          "name": "stdout",
          "text": [
            "원의 반지름 5.0\n",
            "원의 면적 78.5\n",
            "원의 반지름 31.400000000000002\n"
          ]
        }
      ]
    },
    {
      "cell_type": "code",
      "source": [
        "name = '윤상현'            #변수의 선언 literal(리터럴)\n",
        "print('이름 :', name)      # 할당연산자 오른쪽에있는걸 왼쪽에 할당한다\n",
        "# 이름 : 윤상현\n",
        "width = 10\n",
        "height = 5\n",
        "rectangle_area = width * height\n",
        "print('사각형의 면적:', rectangle_area)\n",
        "# 사각형의 면적 : 50"
      ],
      "metadata": {
        "colab": {
          "base_uri": "https://localhost:8080/"
        },
        "id": "t_joBZJws2ZM",
        "outputId": "25a94cd7-b173-4259-fe2d-1531e3903503"
      },
      "execution_count": 9,
      "outputs": [
        {
          "output_type": "stream",
          "name": "stdout",
          "text": [
            "이름 : 윤상현\n",
            "사각형의 면적: 50\n"
          ]
        }
      ]
    },
    {
      "cell_type": "code",
      "source": [
        "name = '윤상현'\n",
        "print('이름 :', name)               # 할당연산자 오른쪽에있는걸 왼쪽에 할당한다\n",
        "# 이름 : 윤상현\n",
        "width = 20\n",
        "height = 5\n",
        "rectangle_area = width * height\n",
        "print('사각형의 면적:', rectangle_area)       #변수라서 공식이 저장되는것이 아닌 숫자가 저장된다\n",
        "# 사각형의 면적 : 50"
      ],
      "metadata": {
        "colab": {
          "base_uri": "https://localhost:8080/"
        },
        "id": "LjXSyJMVtcVU",
        "outputId": "00081972-42aa-484f-bb07-96a8d1f01967"
      },
      "execution_count": 8,
      "outputs": [
        {
          "output_type": "stream",
          "name": "stdout",
          "text": [
            "이름 : 윤상현\n",
            "사각형의 면적: 100\n"
          ]
        }
      ]
    },
    {
      "cell_type": "markdown",
      "source": [
        "#식별자 이름 규칙   식별자identifier\n",
        "#1. 문자와 숫자, 밑줄 문자 _로 이루어진다.\n",
        "#2. 중간에 공백이 들어가면 안 된다.\n",
        "#3. 첫 글자는 반드시 문자나 밑줄 문자 _로 시작해야 한다.\n",
        "#4. 대문자와 소문자는 구분된다. 따라서 Count와 count는 서로 다른 식별자이다.\n",
        "#5. 식별자의 길이에 제한은 없다.\n",
        "#6. 키워드는 식별자로 사용할 수 없다."
      ],
      "metadata": {
        "id": "emGsXO4VvHnA"
      }
    },
    {
      "cell_type": "code",
      "source": [
        "sum = 100  # sum 대신 다른 변수명 사용\n",
        "lst = [10, 20, 30]\n",
        "total = sum(lst)"
      ],
      "metadata": {
        "colab": {
          "base_uri": "https://localhost:8080/",
          "height": 184
        },
        "id": "MMOFZemzzntg",
        "outputId": "83f31310-6e79-4ec8-c820-98ab40d3fa15"
      },
      "execution_count": 40,
      "outputs": [
        {
          "output_type": "error",
          "ename": "TypeError",
          "evalue": "'int' object is not callable",
          "traceback": [
            "\u001b[0;31m---------------------------------------------------------------------------\u001b[0m",
            "\u001b[0;31mTypeError\u001b[0m                                 Traceback (most recent call last)",
            "\u001b[0;32m<ipython-input-40-2262cf377e0b>\u001b[0m in \u001b[0;36m<cell line: 0>\u001b[0;34m()\u001b[0m\n\u001b[1;32m      1\u001b[0m \u001b[0msum\u001b[0m \u001b[0;34m=\u001b[0m \u001b[0;36m100\u001b[0m  \u001b[0;31m# sum 대신 다른 변수명 사용\u001b[0m\u001b[0;34m\u001b[0m\u001b[0;34m\u001b[0m\u001b[0m\n\u001b[1;32m      2\u001b[0m \u001b[0mlst\u001b[0m \u001b[0;34m=\u001b[0m \u001b[0;34m[\u001b[0m\u001b[0;36m10\u001b[0m\u001b[0;34m,\u001b[0m \u001b[0;36m20\u001b[0m\u001b[0;34m,\u001b[0m \u001b[0;36m30\u001b[0m\u001b[0;34m]\u001b[0m\u001b[0;34m\u001b[0m\u001b[0;34m\u001b[0m\u001b[0m\n\u001b[0;32m----> 3\u001b[0;31m \u001b[0mtotal\u001b[0m \u001b[0;34m=\u001b[0m \u001b[0msum\u001b[0m\u001b[0;34m(\u001b[0m\u001b[0mlst\u001b[0m\u001b[0;34m)\u001b[0m  \u001b[0;31m# 정상 작동\u001b[0m\u001b[0;34m\u001b[0m\u001b[0;34m\u001b[0m\u001b[0m\n\u001b[0m",
            "\u001b[0;31mTypeError\u001b[0m: 'int' object is not callable"
          ]
        }
      ]
    },
    {
      "cell_type": "markdown",
      "source": [
        "오류 나는것이 정상"
      ],
      "metadata": {
        "id": "9IAKYostzvVx"
      }
    },
    {
      "cell_type": "code",
      "source": [
        "total_sum = 100  # sum 대신 다른 변수명 사용\n",
        "lst = [10, 20, 30]\n",
        "total = sum(lst)  # 정상 작동\n",
        "print(total)  # 60"
      ],
      "metadata": {
        "colab": {
          "base_uri": "https://localhost:8080/"
        },
        "id": "9LrnahfByYwd",
        "outputId": "6aff858f-e011-4544-93d3-b75fa29cb083"
      },
      "execution_count": 45,
      "outputs": [
        {
          "output_type": "stream",
          "name": "stdout",
          "text": [
            "60\n"
          ]
        }
      ]
    },
    {
      "cell_type": "code",
      "source": [
        "name = '홍길동'\n",
        "age = 27\n",
        "print('안녕! 나는', name , '이아. 나는 나이가', age, '살이야.')"
      ],
      "metadata": {
        "colab": {
          "base_uri": "https://localhost:8080/"
        },
        "id": "fXqvJSwt5z0y",
        "outputId": "a11986c2-4a85-4c6c-9eec-259d1ba428f6"
      },
      "execution_count": 46,
      "outputs": [
        {
          "output_type": "stream",
          "name": "stdout",
          "text": [
            "안녕! 나는 홍길동 이아. 나는 나이가 27 살이야.\n"
          ]
        }
      ]
    },
    {
      "cell_type": "code",
      "source": [
        "name = '홍길동'\n",
        "age = 27\n",
        "print('안녕! 나는', name , '이아. 나는 나이가', age, '살이야.')\n",
        "\n",
        "name = '홍길순'   #변수에 새로운 값 할당함\n",
        "age = 23\n",
        "print('안녕! 나는', name , '이아. 나는 나이가', age, '살이야.')"
      ],
      "metadata": {
        "colab": {
          "base_uri": "https://localhost:8080/"
        },
        "id": "ewQaWr5L6CxW",
        "outputId": "b89ef416-b602-426b-ca01-fe3cb09fd3af"
      },
      "execution_count": 48,
      "outputs": [
        {
          "output_type": "stream",
          "name": "stdout",
          "text": [
            "안녕! 나는 홍길동 이아. 나는 나이가 27 살이야.\n",
            "안녕! 나는 홍길순 이아. 나는 나이가 23 살이야.\n"
          ]
        }
      ]
    },
    {
      "cell_type": "markdown",
      "source": [
        "lab 2-2 2-7까지 다해보기 (과제)"
      ],
      "metadata": {
        "id": "wn_vGqLF7VKc"
      }
    },
    {
      "cell_type": "code",
      "source": [
        "num = 85\n",
        "type(num)\n",
        " #<class 'int'>\n",
        "pi = 3.14159\n",
        "type(pi)               # 실수형변수\n",
        "#<class 'float'>\n",
        "message = \"good morning\"\n",
        "type(message)\n",
        "#<class 'str'>"
      ],
      "metadata": {
        "colab": {
          "base_uri": "https://localhost:8080/"
        },
        "id": "WZCGI07H8IXc",
        "outputId": "a49f4c93-6de4-45aa-b1ed-45fd530d4587"
      },
      "execution_count": 62,
      "outputs": [
        {
          "output_type": "execute_result",
          "data": {
            "text/plain": [
              "str"
            ]
          },
          "metadata": {},
          "execution_count": 62
        }
      ]
    }
  ]
}